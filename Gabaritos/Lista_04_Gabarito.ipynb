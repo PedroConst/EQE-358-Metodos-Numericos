{
  "nbformat": 4,
  "nbformat_minor": 0,
  "metadata": {
    "colab": {
      "provenance": [],
      "collapsed_sections": [
        "bo_-o-j1DpXG",
        "FhwRND2IDvF9",
        "dYx1HTFYDyq1",
        "RzA0-9StEBxs"
      ],
      "include_colab_link": true
    },
    "kernelspec": {
      "name": "python3",
      "display_name": "Python 3"
    },
    "language_info": {
      "name": "python"
    }
  },
  "cells": [
    {
      "cell_type": "markdown",
      "metadata": {
        "id": "view-in-github",
        "colab_type": "text"
      },
      "source": [
        "<a href=\"https://colab.research.google.com/github/PedroConst/EQE-358-Metodos-Numericos/blob/main/Gabaritos/Lista_04_Gabarito.ipynb\" target=\"_parent\"><img src=\"https://colab.research.google.com/assets/colab-badge.svg\" alt=\"Open In Colab\"/></a>"
      ]
    },
    {
      "cell_type": "markdown",
      "source": [
        "# Problema 1 (Picard)"
      ],
      "metadata": {
        "id": "bo_-o-j1DpXG"
      }
    },
    {
      "cell_type": "code",
      "execution_count": null,
      "metadata": {
        "colab": {
          "base_uri": "https://localhost:8080/"
        },
        "id": "-JflDiJ7DjMN",
        "outputId": "21d289d8-1f45-4f21-cb11-57c1d2945ce8"
      },
      "outputs": [
        {
          "output_type": "stream",
          "name": "stdout",
          "text": [
            "k \t x \t \t erro\n",
            "-------------------------------\n",
            "0\t1.000000\t4.27e-01\n",
            "1\t1.427239\t2.58e-02\n",
            "2\t1.453082\t9.49e-03\n",
            "3\t1.443591\t3.65e-03\n",
            "4\t1.447237\t1.38e-03\n",
            "5\t1.445858\t5.25e-04\n",
            "6\t1.446383\t1.99e-04\n",
            "7\t1.446184\t7.57e-05\n",
            "8\t1.446260\t2.87e-05\n",
            "9\t1.446231\t1.09e-05\n",
            "10\t1.446242\t4.15e-06\n",
            "11\t1.446238\t1.58e-06\n",
            "12\t1.446239\t5.99e-07\n",
            "-------------------------------\n",
            "Solução: x = 1.4462\n"
          ]
        }
      ],
      "source": [
        "import numpy as np\n",
        "\n",
        "def f1(x):\n",
        "    f = x - (x**2+np.exp(x)-2)/3\n",
        "    return f\n",
        "\n",
        "x = 1.0          # Chute inicial\n",
        "erro = abs(f1(x)) # Erro inicial\n",
        "tol = 1e-6       # Tolerância\n",
        "k = 0\n",
        "kmax = 100\n",
        "print('k \\t x \\t \\t erro')\n",
        "print('-------------------------------')\n",
        "\n",
        "while erro>tol:\n",
        "    print(f'{k}\\t{x:.6f}\\t{erro:.2e}')\n",
        "\n",
        "    x = x + f1(x)        # Método de Picard\n",
        "    erro = abs(f1(x))\n",
        "    k = k +1\n",
        "    if k>kmax:\n",
        "        print('Não convergiu!')\n",
        "        break\n",
        "\n",
        "print(f'{k}\\t{x:.6f}\\t{erro:.2e}')\n",
        "print('-------------------------------')\n",
        "print(f'Solução: x = {x:.4f}')"
      ]
    },
    {
      "cell_type": "markdown",
      "source": [
        "Com esse mesmo chute inicial, é possível encontrar outra raiz, modificando a fórmula de Picard para:\n",
        "$x^{(k+1)}=x^{(k)}-f(x^{(k)})$.\n",
        "A outra raiz encontra-se em $x=-0.3903$"
      ],
      "metadata": {
        "id": "8KkzuEJwX4Ed"
      }
    },
    {
      "cell_type": "code",
      "source": [
        "import numpy as np\n",
        "\n",
        "def f1(x):\n",
        "    f = x - (x**2+np.exp(x)-2)/3\n",
        "    return f\n",
        "\n",
        "x = 1.0          # Chute inicial\n",
        "erro = abs(f1(x)) # Erro inicial\n",
        "tol = 1e-6       # Tolerância\n",
        "k = 0\n",
        "kmax = 100\n",
        "print('k \\t x \\t \\t erro')\n",
        "print('-------------------------------')\n",
        "\n",
        "while erro>tol:\n",
        "    print(f'{k}\\t{x:.6f}\\t{erro:.2e}')\n",
        "\n",
        "    x = x - f1(x)        # Método de Picard\n",
        "    erro = abs(f1(x))\n",
        "    k = k +1\n",
        "    if k>kmax:\n",
        "        print('Não convergiu!')\n",
        "        break\n",
        "\n",
        "print(f'{k}\\t{x:.6f}\\t{erro:.2e}')\n",
        "print('-------------------------------')\n",
        "print(f'Solução: x = {x:.4f}')"
      ],
      "metadata": {
        "colab": {
          "base_uri": "https://localhost:8080/"
        },
        "id": "9spY4LssZW5f",
        "outputId": "db7431fc-b422-4418-a669-2c2d42eb04b8"
      },
      "execution_count": null,
      "outputs": [
        {
          "output_type": "stream",
          "name": "stdout",
          "text": [
            "k \t x \t \t erro\n",
            "-------------------------------\n",
            "0\t1.000000\t4.27e-01\n",
            "1\t0.572761\t5.39e-01\n",
            "2\t0.033737\t3.55e-01\n",
            "3\t-0.321517\t6.90e-02\n",
            "4\t-0.390526\t2.63e-04\n",
            "5\t-0.390263\t9.13e-06\n",
            "6\t-0.390272\t3.15e-07\n",
            "-------------------------------\n",
            "Solução: x = -0.3903\n"
          ]
        }
      ]
    },
    {
      "cell_type": "markdown",
      "source": [
        "# Problema 2a (Picard)"
      ],
      "metadata": {
        "id": "FhwRND2IDvF9"
      }
    },
    {
      "cell_type": "markdown",
      "source": [
        "Só é possível encontrar uma raiz, modificando a fórmula de Picard para:\n",
        "$x^{(k+1)}=x^{(k)}-f(x^{(k)})$."
      ],
      "metadata": {
        "id": "uPHJ6zKUZl6n"
      }
    },
    {
      "cell_type": "code",
      "source": [
        "import numpy as np\n",
        "\n",
        "def f2(x,a):\n",
        "    f = x - 1 - np.exp(-a*(np.sqrt(x)))\n",
        "    return f\n",
        "\n",
        "a = 0.5          # Parâmetro do modelo\n",
        "xold = 2.0       # Chute inicial\n",
        "erro = 1.0       # Erro inicial\n",
        "tol = 1e-5       # Tolerância\n",
        "k = 0\n",
        "kmax = 100\n",
        "\n",
        "print('k \\t x \\t \\t erro')\n",
        "print('-------------------------------')\n",
        "\n",
        "while erro>tol:\n",
        "    print(f'{k}\\t{xold:.6f}\\t{erro:.2e}')\n",
        "\n",
        "    xnew = xold - f2(xold,a)        # Método de Picard\n",
        "    erro = abs(xnew-xold)\n",
        "    xold = xnew\n",
        "    k = k +1\n",
        "    if k>kmax:\n",
        "        print('Não convergiu!')\n",
        "        break\n",
        "\n",
        "print(f'{k}\\t{xold:.6f}\\t{erro:.2e}')\n",
        "print('-------------------------------')\n",
        "print(f'Solução: x = {xold:.4f}')"
      ],
      "metadata": {
        "colab": {
          "base_uri": "https://localhost:8080/"
        },
        "id": "6hp4gCXGDyMl",
        "outputId": "2003be60-c536-4211-abc0-ba45c90a28dc"
      },
      "execution_count": null,
      "outputs": [
        {
          "output_type": "stream",
          "name": "stdout",
          "text": [
            "k \t x \t \t erro\n",
            "-------------------------------\n",
            "0\t2.000000\t1.00e+00\n",
            "1\t1.493069\t5.07e-01\n",
            "2\t1.542832\t4.98e-02\n",
            "3\t1.537378\t5.45e-03\n",
            "4\t1.537969\t5.91e-04\n",
            "5\t1.537904\t6.41e-05\n",
            "6\t1.537911\t6.95e-06\n",
            "-------------------------------\n",
            "Solução: x = 1.5379\n"
          ]
        }
      ]
    },
    {
      "cell_type": "markdown",
      "source": [
        "# Problema 2b (Newton)"
      ],
      "metadata": {
        "id": "dYx1HTFYDyq1"
      }
    },
    {
      "cell_type": "code",
      "source": [
        "import numpy as np\n",
        "\n",
        "def f2(x,a):\n",
        "    f = x - 1 - np.exp(-a*(np.sqrt(x)))\n",
        "    return f\n",
        "\n",
        "def df2(x,a):\n",
        "    df2 = 1 + (a/np.sqrt(x))*np.exp(-a*(np.sqrt(x)))\n",
        "    return df2\n",
        "\n",
        "a = 0.5          # Parâmetro do modelo\n",
        "xold = 2.0       # Chute inicial\n",
        "erro = 1.0       # Erro inicial\n",
        "tol = 1e-6       # Tolerância\n",
        "k = 0\n",
        "kmax = 100\n",
        "\n",
        "print('k \\t x \\t \\t erro')\n",
        "print('-------------------------------')\n",
        "\n",
        "while erro>tol:\n",
        "    print(f'{k}\\t{xold:.6f}\\t{erro:.2e}')\n",
        "\n",
        "    xnew = xold - f2(xold,a)/df2(xold,a)    # Método de Newton\n",
        "    erro = abs(f2(xold,a))\n",
        "    xold = xnew\n",
        "    k = k +1\n",
        "    if k>kmax:\n",
        "        print('Não convergiu!')\n",
        "        break\n",
        "\n",
        "print(f'{k}\\t{xold:.6f}\\t{erro:.2e}')\n",
        "print('-------------------------------')\n",
        "print(f'Solução: x = {xold:.4f}')"
      ],
      "metadata": {
        "colab": {
          "base_uri": "https://localhost:8080/"
        },
        "id": "OBjsb8SLD1IF",
        "outputId": "1dd14e25-7636-4821-c960-55c780b243cc"
      },
      "execution_count": null,
      "outputs": [
        {
          "output_type": "stream",
          "name": "stdout",
          "text": [
            "k \t x \t \t erro\n",
            "-------------------------------\n",
            "0\t2.000000\t1.00e+00\n",
            "1\t1.568322\t5.07e-01\n",
            "2\t1.540564\t3.37e-02\n",
            "3\t1.538147\t2.94e-03\n",
            "4\t1.537932\t2.62e-04\n",
            "5\t1.537913\t2.33e-05\n",
            "6\t1.537911\t2.08e-06\n",
            "7\t1.537911\t1.85e-07\n",
            "-------------------------------\n",
            "Solução: x = 1.5379\n"
          ]
        }
      ]
    },
    {
      "cell_type": "markdown",
      "source": [
        "# Problema 2c (Continuação de Ordem Zero)"
      ],
      "metadata": {
        "id": "4IYNAIyBD2Rt"
      }
    },
    {
      "cell_type": "code",
      "source": [
        "import numpy as np\n",
        "import matplotlib.pyplot as plt\n",
        "\n",
        "def f2(x,a):\n",
        "    f = x - 1 - np.exp(-a*(np.sqrt(x)))\n",
        "    return f\n",
        "\n",
        "def df2(x,a):\n",
        "    df2 = 1 + (a/np.sqrt(x))*np.exp(-a*(np.sqrt(x)))\n",
        "    return df2\n",
        "\n",
        "a_vec = np.linspace(0,5,101)          # Parâmetro do modelo\n",
        "xold = 1.0       # Chute inicial\n",
        "tol = 1e-6       # Tolerância\n",
        "kmax = 100\n",
        "x = np.zeros(len(a_vec))\n",
        "\n",
        "for i in range(len(a_vec)):\n",
        "    a = a_vec[i]\n",
        "    k = 0\n",
        "    erro = abs(f2(xold,a))\n",
        "    while erro>tol:\n",
        "        xnew = xold - f2(xold,a)/df2(xold,a)    # Método de Newton\n",
        "        erro = abs(f2(xold,a))\n",
        "        xold = xnew\n",
        "        k = k +1\n",
        "        if k>kmax:\n",
        "            print('Não convergiu!')\n",
        "            break\n",
        "    x[i]=xold\n",
        "\n",
        "# Plotar Resultados\n",
        "plt.plot(a_vec,x)\n",
        "plt.xlabel('Valor de a')\n",
        "plt.ylabel('Raiz x')\n",
        "plt.show()"
      ],
      "metadata": {
        "colab": {
          "base_uri": "https://localhost:8080/",
          "height": 449
        },
        "id": "8XIBFkKTD6at",
        "outputId": "f54fe7c1-61df-4f0b-8d26-85c4b9476c61"
      },
      "execution_count": null,
      "outputs": [
        {
          "output_type": "display_data",
          "data": {
            "text/plain": [
              "<Figure size 640x480 with 1 Axes>"
            ],
            "image/png": "[encoded data removed]"
          },
          "metadata": {}
        }
      ]
    },
    {
      "cell_type": "markdown",
      "source": [
        "# Problema 4 (Newton-Raphson)"
      ],
      "metadata": {
        "id": "_LJ3eronD7Fd"
      }
    },
    {
      "cell_type": "code",
      "source": [
        "import numpy as np\n",
        "from numpy.linalg import norm, solve\n",
        "\n",
        "def computeR(h,x,y):\n",
        "\n",
        "    # Calcular as funções f1 e f2\n",
        "    f1 = (h**2) * ( np.exp(y*(x**0.5)) + 3.0*(x**2) ) - x\n",
        "    f2 = 0.5 + (h**2) * np.tan( np.exp(x) + y**2 ) - y\n",
        "\n",
        "    # Retornar um vetor coluna\n",
        "    R = np.array([f1, f2]) # Transposta\n",
        "    return R\n",
        "\n",
        "def computeJ(h,x,y):\n",
        "    # O Jacobiano será uma matriz 2x2\n",
        "    J = np.zeros((2, 2))\n",
        "\n",
        "    J[0, 0] = (h**2)*(0.5*y*(x**(-0.5))*np.exp(y*(x**0.5)) + 6.0*x) - 1.0  # df1/dx\n",
        "    J[0, 1] = (h**2)*(x**(0.5))*np.exp(y*(x**0.5))                         # df1/dy\n",
        "    J[1, 0] = (h**2)*np.exp(x)/ ((np.cos(np.exp(x) + y**2))**2)            # df2/dx\n",
        "    J[1, 1] = ( 2.0*y*(h**2) / ((np.cos(np.exp(x) + y**2))**2) ) - 1.0     # df2/dy\n",
        "    return J\n",
        "\n",
        "def NewtonRaphson(h,x,y):\n",
        "    # Os valores de x e y são chutes iniciais.\n",
        "    R = computeR(h,x,y)\n",
        "    tol = 1e-06\n",
        "\n",
        "    # Cada iteração verifica a norma de dx em relação à tolerância.\n",
        "    while norm(R) > tol:\n",
        "\n",
        "        J = computeJ(h,x,y)    # Calcular J e R para o chute atual.\n",
        "        R = computeR(h,x,y)\n",
        "\n",
        "        dx = - solve(J, R)     # Calcular a distância para o próximo chute.\n",
        "\n",
        "        # Atualizar x and y.\n",
        "        x = x + dx[0]\n",
        "        y = y + dx[1]\n",
        "\n",
        "    return x, y\n",
        "\n",
        "# Valores de h\n",
        "h1 = 0.1  # Caso 1\n",
        "h2 = 0.2  # Caso 2\n",
        "\n",
        "# Chute inicial para o caso 1\n",
        "x0_1 = .5\n",
        "y0_1 = .5\n",
        "\n",
        "# Chute inicial para o caso 2\n",
        "x0_2 = 2.\n",
        "y0_2 = 2.\n",
        "\n",
        "# Newton-Raphson\n",
        "x1, y1 = NewtonRaphson(h1,x0_1,y0_1) # Caso 1: h = h1\n",
        "x2, y2 = NewtonRaphson(h2,x0_2,y0_2) # Caso 2: h = h2\n",
        "\n",
        "# Resultados\n",
        "print(\"Para o caso em que h = 0.1: \"f' x = {x1:.5f}   y = {y1:.5f}')\n",
        "print(\"\\nPara o caso em que h = 0.2: \"f' x = {x2:.5f}   y = {y2:.5f}')"
      ],
      "metadata": {
        "id": "RqvMm8rZD7-X",
        "colab": {
          "base_uri": "https://localhost:8080/"
        },
        "outputId": "aeb4f7ab-0ee8-496c-9f22-338f63784601"
      },
      "execution_count": null,
      "outputs": [
        {
          "output_type": "stream",
          "name": "stdout",
          "text": [
            "Para o caso em que h = 0.1:  x = 0.01057   y = 0.53569\n",
            "\n",
            "Para o caso em que h = 0.2:  x = 5.54710   y = 1.62896\n"
          ]
        }
      ]
    },
    {
      "cell_type": "markdown",
      "source": [
        "# Problema 5 (Destilação e Termodinâmica)"
      ],
      "metadata": {
        "id": "RzA0-9StEBxs"
      }
    },
    {
      "cell_type": "code",
      "source": [
        "import numpy as np\n",
        "from numpy.linalg import norm, solve\n",
        "\n",
        "# Coeficientes de Antoine\n",
        "# BENZENO\n",
        "A1 = 6.90565\n",
        "B1 = 1211.033\n",
        "C1 = 220.790\n",
        "# TOLUENO\n",
        "A2 = 6.95464\n",
        "B2 = 1344.800\n",
        "C2 = 219.480\n",
        "\n",
        "def computeR(xn,yn,Tn,P):\n",
        "    global A1,B1,C1,A2,B2,C2\n",
        "    # Calcular as duas pressões de saturação\n",
        "    P1 = 10**(A1 - B1 / (Tn + C1))  # mmHg\n",
        "    P2 = 10**(A2 - B2 / (Tn + C2))  # mmHg\n",
        "\n",
        "    # Calcular as funções f1 e f2\n",
        "    f1 = xn * P1 - yn * P\n",
        "    f2 = (1 - xn) * P2 - (1 - yn) * P\n",
        "\n",
        "    # Retornar um vetor coluna\n",
        "    R = np.array([f1, f2]) # Transposta\n",
        "    return R, P1, P2\n",
        "\n",
        "def computeJ(xn,yn,Tn,P1,P2):\n",
        "    global A1,B1,C1,A2,B2,C2\n",
        "    # O Jacobiano será uma matriz 2x2\n",
        "    J = np.zeros((2, 2))\n",
        "\n",
        "    J[0, 0] = P1                                                # df1/dxn\n",
        "    J[0, 1] = np.log(10) * xn * P1 * B1 / (Tn + C1)**2          # df1/dTn\n",
        "    J[1, 0] = -P2                                               # df2/dxn\n",
        "    J[1, 1] = np.log(10) * (1 - xn) * P2 * B2 / (Tn + C2)**2    # df2/dTn\n",
        "    return J\n",
        "\n",
        "def NewtonRaphson(yn,P,xn,Tn):\n",
        "    # Os valores de xn e Tn são chutes iniciais.\n",
        "    R,P1,P2 = computeR(xn,yn,Tn,P)\n",
        "    tol = 1e-04\n",
        "\n",
        "    # Cada iteração verifica a norma de dx em relação à tolerância.\n",
        "    while norm(R) > tol:\n",
        "\n",
        "        J = computeJ(xn,yn,Tn,P1,P2)    # Calcular J e R para o chute atual.\n",
        "        R,P1,P2 = computeR(xn,yn,Tn,P)\n",
        "\n",
        "        dx = - solve(J, R)              # Calcular a distância para o próximo chute.\n",
        "\n",
        "        xn = xn + dx[0]                     # Atualizar xn and Tn.\n",
        "        Tn = Tn + dx[1]\n",
        "\n",
        "    return xn, Tn"
      ],
      "metadata": {
        "id": "QK8j3iQQEJ0E"
      },
      "execution_count": null,
      "outputs": []
    },
    {
      "cell_type": "code",
      "source": [
        "P = 760     # Pressão Atmosférica em mmHg\n",
        "yn = 0.77   # Fração molar de benzeno no vapor\n",
        "\n",
        "#Chute Inicial\n",
        "xn = 0.5    # Fração molar de benzeno no líquido\n",
        "Tn = 100    # Temperatura no estágio da coluna\n",
        "\n",
        "# Newton-Raphson\n",
        "xn, Tn = NewtonRaphson(yn,P,xn,Tn)\n",
        "\n",
        "# Resultados\n",
        "print(f'xn = {xn:.4f} \\t Tn = {Tn:.2f}°C')"
      ],
      "metadata": {
        "colab": {
          "base_uri": "https://localhost:8080/"
        },
        "id": "oqtaagsYFjMa",
        "outputId": "12070d4a-f145-4521-ad9d-a2cdc41d666d"
      },
      "execution_count": null,
      "outputs": [
        {
          "output_type": "stream",
          "name": "stdout",
          "text": [
            "xn = 0.5716 \t Tn = 90.10°C\n"
          ]
        }
      ]
    }
  ]
}