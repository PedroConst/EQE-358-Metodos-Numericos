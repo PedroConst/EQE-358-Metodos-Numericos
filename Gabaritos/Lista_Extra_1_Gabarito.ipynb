{
  "nbformat": 4,
  "nbformat_minor": 0,
  "metadata": {
    "colab": {
      "provenance": [],
      "authorship_tag": "ABX9TyOLGydCUrCGdUk+eRnaRgSW",
      "include_colab_link": true
    },
    "kernelspec": {
      "name": "python3",
      "display_name": "Python 3"
    },
    "language_info": {
      "name": "python"
    }
  },
  "cells": [
    {
      "cell_type": "markdown",
      "metadata": {
        "id": "view-in-github",
        "colab_type": "text"
      },
      "source": [
        "<a href=\"https://colab.research.google.com/github/PedroConst/EQE-358-Metodos-Numericos/blob/main/Gabaritos/Lista_Extra_1_Gabarito.ipynb\" target=\"_parent\"><img src=\"https://colab.research.google.com/assets/colab-badge.svg\" alt=\"Open In Colab\"/></a>"
      ]
    },
    {
      "cell_type": "markdown",
      "source": [
        "# Lista 01: Exercícios Extras (Gabarito)\n",
        "\n",
        "Os exercícios abaixo são sugeridos para que você pratique a escrita de expressões matemáticas em Python. Essa lista **não contabilizará** para a nota final do aluno na disciplina. Porém, a lista é recomendada aos que estão dando os primeiros passos na jornada da programação.\n"
      ],
      "metadata": {
        "id": "FNPuO7nvbUcp"
      }
    },
    {
      "cell_type": "markdown",
      "source": [
        "\n",
        "\n",
        "---\n",
        "**Exercício 1:** Calcule a área do triângulo de base 5 e altura 7.\n",
        "\n",
        "\n",
        "---\n",
        "\n",
        "$A= (b \\times h)/2$\n",
        "\n"
      ],
      "metadata": {
        "id": "locrj7GHctDP"
      }
    },
    {
      "cell_type": "code",
      "source": [
        "5*7/2"
      ],
      "metadata": {
        "id": "pBtoh1rQcZxH",
        "colab": {
          "base_uri": "https://localhost:8080/"
        },
        "outputId": "05ceb70f-81b5-455f-9272-e578f3dcc864"
      },
      "execution_count": 1,
      "outputs": [
        {
          "output_type": "execute_result",
          "data": {
            "text/plain": [
              "17.5"
            ]
          },
          "metadata": {},
          "execution_count": 1
        }
      ]
    },
    {
      "cell_type": "markdown",
      "source": [
        "---\n",
        "**Exercício 2:** Calcule a área superficial e o volume de um cilindro com raio $R=4$ e altura $h = 10$.\n",
        "\n",
        "\n",
        "---\n",
        "$A = 2\\pi R(h + R)$ <br>\n",
        "$V = \\pi R^2 h$"
      ],
      "metadata": {
        "id": "ZCytmsz-dQZY"
      }
    },
    {
      "cell_type": "code",
      "source": [
        "import math\n",
        "\n",
        "2*math.pi*4*(10+4)"
      ],
      "metadata": {
        "id": "OczJuY-hfPrM",
        "colab": {
          "base_uri": "https://localhost:8080/"
        },
        "outputId": "ca6e65d6-95b7-4e6a-855a-7e127b6af7bd"
      },
      "execution_count": 2,
      "outputs": [
        {
          "output_type": "execute_result",
          "data": {
            "text/plain": [
              "351.85837720205683"
            ]
          },
          "metadata": {},
          "execution_count": 2
        }
      ]
    },
    {
      "cell_type": "code",
      "source": [
        "math.pi*4**2*10"
      ],
      "metadata": {
        "id": "1NaybruWfX_l",
        "colab": {
          "base_uri": "https://localhost:8080/"
        },
        "outputId": "7b3210b1-2aac-4937-afb8-ce112c2b10bc"
      },
      "execution_count": 3,
      "outputs": [
        {
          "output_type": "execute_result",
          "data": {
            "text/plain": [
              "502.6548245743669"
            ]
          },
          "metadata": {},
          "execution_count": 3
        }
      ]
    },
    {
      "cell_type": "markdown",
      "source": [
        "---\n",
        "**Exercício 3:** Calcule o valor de $7!$\n",
        "\n",
        "\n",
        "---"
      ],
      "metadata": {
        "id": "T6_9r_LVfowv"
      }
    },
    {
      "cell_type": "code",
      "source": [
        "import math\n",
        "\n",
        "math.factorial(7)"
      ],
      "metadata": {
        "id": "gSkns0A-f8KA",
        "colab": {
          "base_uri": "https://localhost:8080/"
        },
        "outputId": "57aa83c7-12f5-413f-a3bf-6edcd3391ed4"
      },
      "execution_count": 4,
      "outputs": [
        {
          "output_type": "execute_result",
          "data": {
            "text/plain": [
              "5040"
            ]
          },
          "metadata": {},
          "execution_count": 4
        }
      ]
    },
    {
      "cell_type": "markdown",
      "source": [
        "---\n",
        "**Exercício 4:** Calcule o valor de $\\cosh (x)$ para $x=2$, usando a definição com exponenciais e usando a função `cosh` do módulo `math`.\n",
        "\n",
        "\n",
        "---\n",
        "\n",
        "$\\cosh(x)=(e^{x}+e^{-x})/2$"
      ],
      "metadata": {
        "id": "WS6JHKzmf_ZH"
      }
    },
    {
      "cell_type": "code",
      "source": [
        "import math\n",
        "\n",
        "(math.exp(2)+math.exp(-2))/2"
      ],
      "metadata": {
        "id": "CAeoq0uMgA-v",
        "colab": {
          "base_uri": "https://localhost:8080/"
        },
        "outputId": "280789d8-93f5-45e4-bba0-81779a664165"
      },
      "execution_count": 5,
      "outputs": [
        {
          "output_type": "execute_result",
          "data": {
            "text/plain": [
              "3.7621956910836314"
            ]
          },
          "metadata": {},
          "execution_count": 5
        }
      ]
    },
    {
      "cell_type": "code",
      "source": [
        "math.cosh(2)"
      ],
      "metadata": {
        "id": "qDjrrI3IiFvz",
        "colab": {
          "base_uri": "https://localhost:8080/"
        },
        "outputId": "12a7f3a4-5756-4e3b-9d24-f4057b04526e"
      },
      "execution_count": 6,
      "outputs": [
        {
          "output_type": "execute_result",
          "data": {
            "text/plain": [
              "3.7621956910836314"
            ]
          },
          "metadata": {},
          "execution_count": 6
        }
      ]
    },
    {
      "cell_type": "markdown",
      "source": [
        "---\n",
        "**Exercício 5:** Verifique que $\\sin^2(x) + \\cos^2(x)=1$ para os valores de $x=\\pi, \\frac{\\pi}{2}, \\frac{\\pi}{4}, \\frac{\\pi}{6}$\n",
        "\n",
        "\n",
        "---"
      ],
      "metadata": {
        "id": "sI7BYPcmiIvO"
      }
    },
    {
      "cell_type": "code",
      "source": [
        "import math\n",
        "\n",
        "print(math.sin(math.pi)**2 + math.cos(math.pi)**2)\n",
        "print(math.sin(math.pi/2)**2 + math.cos(math.pi/2)**2)\n",
        "print(math.sin(math.pi/4)**2 + math.cos(math.pi/4)**2)\n",
        "print(math.sin(math.pi/6)**2 + math.cos(math.pi/6)**2)"
      ],
      "metadata": {
        "id": "2AatBgv0i2cd",
        "colab": {
          "base_uri": "https://localhost:8080/"
        },
        "outputId": "5662f069-daba-4b11-cf5c-75de130961bc"
      },
      "execution_count": 8,
      "outputs": [
        {
          "output_type": "stream",
          "name": "stdout",
          "text": [
            "1.0\n",
            "1.0\n",
            "1.0\n",
            "1.0\n"
          ]
        }
      ]
    },
    {
      "cell_type": "markdown",
      "source": [
        "---\n",
        "**Exercício 6:** Calcule o valor de $\\cos 36°$\n",
        "\n",
        "\n",
        "---\n",
        "\n"
      ],
      "metadata": {
        "id": "lMPUG_S-jJ2s"
      }
    },
    {
      "cell_type": "code",
      "source": [
        "import math\n",
        "\n",
        "math.cos(36*math.pi/180)"
      ],
      "metadata": {
        "id": "MjJGYUt2jtWs",
        "colab": {
          "base_uri": "https://localhost:8080/"
        },
        "outputId": "8e9e9d90-a14e-4e55-ad3f-7c69660aab33"
      },
      "execution_count": 9,
      "outputs": [
        {
          "output_type": "execute_result",
          "data": {
            "text/plain": [
              "0.8090169943749475"
            ]
          },
          "metadata": {},
          "execution_count": 9
        }
      ]
    },
    {
      "cell_type": "code",
      "source": [
        "math.cos(36)    # ERRADO! Atenção: o argumento da função precisa estar em radianos."
      ],
      "metadata": {
        "colab": {
          "base_uri": "https://localhost:8080/"
        },
        "id": "PUbfdJypU3E4",
        "outputId": "7fbfd485-b1fa-4865-9f0f-eea55f7bb830"
      },
      "execution_count": 12,
      "outputs": [
        {
          "output_type": "execute_result",
          "data": {
            "text/plain": [
              "-0.12796368962740468"
            ]
          },
          "metadata": {},
          "execution_count": 12
        }
      ]
    }
  ]
}