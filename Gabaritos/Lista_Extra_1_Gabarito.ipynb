{
  "nbformat": 4,
  "nbformat_minor": 0,
  "metadata": {
    "colab": {
      "provenance": [],
      "authorship_tag": "ABX9TyOlcB/NAQA5skF/BsabKiJA",
      "include_colab_link": true
    },
    "kernelspec": {
      "name": "python3",
      "display_name": "Python 3"
    },
    "language_info": {
      "name": "python"
    }
  },
  "cells": [
    {
      "cell_type": "markdown",
      "metadata": {
        "id": "view-in-github",
        "colab_type": "text"
      },
      "source": [
        "<a href=\"https://colab.research.google.com/github/PedroConst/EQE-358-Metodos-Numericos/blob/main/Gabaritos/Lista_Extra_1_Gabarito.ipynb\" target=\"_parent\"><img src=\"https://colab.research.google.com/assets/colab-badge.svg\" alt=\"Open In Colab\"/></a>"
      ]
    },
    {
      "cell_type": "markdown",
      "source": [
        "# Lista 01: Exercícios Extras (Gabarito)\n",
        "\n",
        "Os exercícios abaixo são sugeridos para que você pratique a escrita de expressões matemáticas em Python. A lista é recomendada aos que estão dando os primeiros passos na jornada da programação.\n"
      ],
      "metadata": {
        "id": "FNPuO7nvbUcp"
      }
    },
    {
      "cell_type": "markdown",
      "source": [
        "\n",
        "\n",
        "---\n",
        "**Exercício 1:** Calcule a área do triângulo de base 5 e altura 7.\n",
        "\n",
        "\n",
        "---\n",
        "\n",
        "$A= (b \\times h)/2$\n",
        "\n"
      ],
      "metadata": {
        "id": "locrj7GHctDP"
      }
    },
    {
      "cell_type": "code",
      "source": [
        "5*7/2"
      ],
      "metadata": {
        "id": "pBtoh1rQcZxH",
        "colab": {
          "base_uri": "https://localhost:8080/"
        },
        "outputId": "05ceb70f-81b5-455f-9272-e578f3dcc864"
      },
      "execution_count": null,
      "outputs": [
        {
          "output_type": "execute_result",
          "data": {
            "text/plain": [
              "17.5"
            ]
          },
          "metadata": {},
          "execution_count": 1
        }
      ]
    },
    {
      "cell_type": "markdown",
      "source": [
        "---\n",
        "**Exercício 2:** Calcule a área superficial e o volume de um cilindro com raio $R=4$ e altura $h = 10$.\n",
        "\n",
        "\n",
        "---\n",
        "$A = 2\\pi R(h + R)$ <br>\n",
        "$V = \\pi R^2 h$"
      ],
      "metadata": {
        "id": "ZCytmsz-dQZY"
      }
    },
    {
      "cell_type": "code",
      "source": [
        "import math\n",
        "\n",
        "2*math.pi*4*(10+4)"
      ],
      "metadata": {
        "id": "OczJuY-hfPrM",
        "colab": {
          "base_uri": "https://localhost:8080/"
        },
        "outputId": "ca6e65d6-95b7-4e6a-855a-7e127b6af7bd"
      },
      "execution_count": null,
      "outputs": [
        {
          "output_type": "execute_result",
          "data": {
            "text/plain": [
              "351.85837720205683"
            ]
          },
          "metadata": {},
          "execution_count": 2
        }
      ]
    },
    {
      "cell_type": "code",
      "source": [
        "math.pi*4**2*10"
      ],
      "metadata": {
        "id": "1NaybruWfX_l",
        "colab": {
          "base_uri": "https://localhost:8080/"
        },
        "outputId": "7b3210b1-2aac-4937-afb8-ce112c2b10bc"
      },
      "execution_count": null,
      "outputs": [
        {
          "output_type": "execute_result",
          "data": {
            "text/plain": [
              "502.6548245743669"
            ]
          },
          "metadata": {},
          "execution_count": 3
        }
      ]
    },
    {
      "cell_type": "markdown",
      "source": [
        "---\n",
        "**Exercício 3:** Calcule o valor de $7!$\n",
        "\n",
        "\n",
        "---"
      ],
      "metadata": {
        "id": "T6_9r_LVfowv"
      }
    },
    {
      "cell_type": "code",
      "source": [
        "import math\n",
        "\n",
        "math.factorial(7)"
      ],
      "metadata": {
        "id": "gSkns0A-f8KA",
        "colab": {
          "base_uri": "https://localhost:8080/"
        },
        "outputId": "57aa83c7-12f5-413f-a3bf-6edcd3391ed4"
      },
      "execution_count": null,
      "outputs": [
        {
          "output_type": "execute_result",
          "data": {
            "text/plain": [
              "5040"
            ]
          },
          "metadata": {},
          "execution_count": 4
        }
      ]
    },
    {
      "cell_type": "markdown",
      "source": [
        "---\n",
        "**Exercício 4:** Calcule o valor de $\\cosh (x)$ para $x=2$, usando a definição com exponenciais e usando a função `cosh` do módulo `math`.\n",
        "\n",
        "\n",
        "---\n",
        "\n",
        "$\\cosh(x)=(e^{x}+e^{-x})/2$"
      ],
      "metadata": {
        "id": "WS6JHKzmf_ZH"
      }
    },
    {
      "cell_type": "code",
      "source": [
        "import math\n",
        "\n",
        "(math.exp(2)+math.exp(-2))/2"
      ],
      "metadata": {
        "id": "CAeoq0uMgA-v",
        "colab": {
          "base_uri": "https://localhost:8080/"
        },
        "outputId": "280789d8-93f5-45e4-bba0-81779a664165"
      },
      "execution_count": null,
      "outputs": [
        {
          "output_type": "execute_result",
          "data": {
            "text/plain": [
              "3.7621956910836314"
            ]
          },
          "metadata": {},
          "execution_count": 5
        }
      ]
    },
    {
      "cell_type": "code",
      "source": [
        "math.cosh(2)"
      ],
      "metadata": {
        "id": "qDjrrI3IiFvz",
        "colab": {
          "base_uri": "https://localhost:8080/"
        },
        "outputId": "12a7f3a4-5756-4e3b-9d24-f4057b04526e"
      },
      "execution_count": null,
      "outputs": [
        {
          "output_type": "execute_result",
          "data": {
            "text/plain": [
              "3.7621956910836314"
            ]
          },
          "metadata": {},
          "execution_count": 6
        }
      ]
    },
    {
      "cell_type": "markdown",
      "source": [
        "---\n",
        "**Exercício 5:** Verifique que $\\sin^2(x) + \\cos^2(x)=1$ para os valores de $x=\\pi, \\frac{\\pi}{2}, \\frac{\\pi}{4}, \\frac{\\pi}{6}$\n",
        "\n",
        "\n",
        "---"
      ],
      "metadata": {
        "id": "sI7BYPcmiIvO"
      }
    },
    {
      "cell_type": "code",
      "source": [
        "import math\n",
        "\n",
        "print(math.sin(math.pi)**2 + math.cos(math.pi)**2)\n",
        "print(math.sin(math.pi/2)**2 + math.cos(math.pi/2)**2)\n",
        "print(math.sin(math.pi/4)**2 + math.cos(math.pi/4)**2)\n",
        "print(math.sin(math.pi/6)**2 + math.cos(math.pi/6)**2)"
      ],
      "metadata": {
        "id": "2AatBgv0i2cd",
        "colab": {
          "base_uri": "https://localhost:8080/"
        },
        "outputId": "5662f069-daba-4b11-cf5c-75de130961bc"
      },
      "execution_count": null,
      "outputs": [
        {
          "output_type": "stream",
          "name": "stdout",
          "text": [
            "1.0\n",
            "1.0\n",
            "1.0\n",
            "1.0\n"
          ]
        }
      ]
    },
    {
      "cell_type": "markdown",
      "source": [
        "---\n",
        "**Exercício 6:** Calcule o valor de $\\cos 36°$\n",
        "\n",
        "\n",
        "---\n",
        "\n"
      ],
      "metadata": {
        "id": "lMPUG_S-jJ2s"
      }
    },
    {
      "cell_type": "code",
      "source": [
        "import math\n",
        "\n",
        "math.cos(36*math.pi/180)"
      ],
      "metadata": {
        "id": "MjJGYUt2jtWs",
        "colab": {
          "base_uri": "https://localhost:8080/"
        },
        "outputId": "8e9e9d90-a14e-4e55-ad3f-7c69660aab33"
      },
      "execution_count": null,
      "outputs": [
        {
          "output_type": "execute_result",
          "data": {
            "text/plain": [
              "0.8090169943749475"
            ]
          },
          "metadata": {},
          "execution_count": 9
        }
      ]
    },
    {
      "cell_type": "code",
      "source": [
        "math.cos(36)    # ERRADO! Atenção: o argumento da função precisa estar em radianos."
      ],
      "metadata": {
        "colab": {
          "base_uri": "https://localhost:8080/"
        },
        "id": "PUbfdJypU3E4",
        "outputId": "7fbfd485-b1fa-4865-9f0f-eea55f7bb830"
      },
      "execution_count": null,
      "outputs": [
        {
          "output_type": "execute_result",
          "data": {
            "text/plain": [
              "-0.12796368962740468"
            ]
          },
          "metadata": {},
          "execution_count": 12
        }
      ]
    },
    {
      "cell_type": "code",
      "source": [],
      "metadata": {
        "id": "I1LCb1TFSAey"
      },
      "execution_count": null,
      "outputs": []
    },
    {
      "cell_type": "markdown",
      "source": [
        "\n",
        "\n",
        "---\n",
        "**Exercício 1:** Seja $x=5$ e $y=8$. Escreva uma linha de código que realize cada uma das operações a seguir:\n",
        "\n",
        "*   $u=2x+3y$\n",
        "*   $v=5xy$\n",
        "*   $w=7x/4y$\n",
        "*   $z=\\sin(x)$\n",
        "*   $r=8\\cos(y)$\n",
        "*   $s=5\\sin^2(xy)$\n",
        "*   $p=9x^y$\n",
        "\n",
        "---\n",
        "\n",
        "\n"
      ],
      "metadata": {
        "id": "DTn6CnlU3U6W"
      }
    },
    {
      "cell_type": "code",
      "source": [
        "import math\n",
        "\n",
        "x = 5\n",
        "y = 8"
      ],
      "metadata": {
        "id": "uxqn6uvy8co-"
      },
      "execution_count": null,
      "outputs": []
    },
    {
      "cell_type": "code",
      "source": [
        "u = 2*x+3*y\n",
        "print(u)"
      ],
      "metadata": {
        "colab": {
          "base_uri": "https://localhost:8080/"
        },
        "id": "oMIq8r3fWHaP",
        "outputId": "6e13c2a3-9711-4f2b-efaa-fb91a34ebfe7"
      },
      "execution_count": null,
      "outputs": [
        {
          "output_type": "stream",
          "name": "stdout",
          "text": [
            "34\n"
          ]
        }
      ]
    },
    {
      "cell_type": "code",
      "source": [
        "v = 5*x*y\n",
        "print(v)"
      ],
      "metadata": {
        "colab": {
          "base_uri": "https://localhost:8080/"
        },
        "id": "ohg8gyOEWhiH",
        "outputId": "9223f967-ea25-4876-b4e4-a54e8a2acdeb"
      },
      "execution_count": null,
      "outputs": [
        {
          "output_type": "stream",
          "name": "stdout",
          "text": [
            "200\n"
          ]
        }
      ]
    },
    {
      "cell_type": "code",
      "source": [
        "w = 7*x/(4*y)\n",
        "print(w)"
      ],
      "metadata": {
        "colab": {
          "base_uri": "https://localhost:8080/"
        },
        "id": "GgC8uy2-Wi0_",
        "outputId": "7823bf8b-cb82-4165-ca3d-463f3e8accb4"
      },
      "execution_count": null,
      "outputs": [
        {
          "output_type": "stream",
          "name": "stdout",
          "text": [
            "1.09375\n"
          ]
        }
      ]
    },
    {
      "cell_type": "code",
      "source": [
        "z = math.sin(x)\n",
        "print(z)"
      ],
      "metadata": {
        "colab": {
          "base_uri": "https://localhost:8080/"
        },
        "id": "trkJ8E4tWkQf",
        "outputId": "218b1e3f-7da1-4baa-be01-38b057993a74"
      },
      "execution_count": null,
      "outputs": [
        {
          "output_type": "stream",
          "name": "stdout",
          "text": [
            "-0.9589242746631385\n"
          ]
        }
      ]
    },
    {
      "cell_type": "code",
      "source": [
        "r = 8*math.cos(y)\n",
        "print(r)"
      ],
      "metadata": {
        "colab": {
          "base_uri": "https://localhost:8080/"
        },
        "id": "nd9UWW4hWlgH",
        "outputId": "62178039-3fa7-47f6-d49d-627ae8829e40"
      },
      "execution_count": null,
      "outputs": [
        {
          "output_type": "stream",
          "name": "stdout",
          "text": [
            "-1.1640002704689083\n"
          ]
        }
      ]
    },
    {
      "cell_type": "code",
      "source": [
        "s = 5*math.sin(x*y)**2\n",
        "print(s)"
      ],
      "metadata": {
        "colab": {
          "base_uri": "https://localhost:8080/"
        },
        "id": "m8k3vU4wWml_",
        "outputId": "d2cb5523-1e4b-4f88-ff78-c5add12a8459"
      },
      "execution_count": null,
      "outputs": [
        {
          "output_type": "stream",
          "name": "stdout",
          "text": [
            "2.775968109597619\n"
          ]
        }
      ]
    },
    {
      "cell_type": "code",
      "source": [
        "p = 9*x**y\n",
        "print(p)"
      ],
      "metadata": {
        "colab": {
          "base_uri": "https://localhost:8080/"
        },
        "id": "QSxQDd4OWoAf",
        "outputId": "f5712d0e-40e6-4f67-9934-112864b4babb"
      },
      "execution_count": null,
      "outputs": [
        {
          "output_type": "stream",
          "name": "stdout",
          "text": [
            "3515625\n"
          ]
        }
      ]
    },
    {
      "cell_type": "markdown",
      "source": [
        "\n",
        "\n",
        "---\n",
        "**Exercício 2:** Calcule as mesmas operações do exercício anterior (elemento a elemento) para os vetores $x=[1,3,5,7,9,11]$ e $y=[2,4,6,8,10,12]$ .\n",
        "\n",
        "\n",
        "---\n",
        "\n",
        "\n"
      ],
      "metadata": {
        "id": "pyTEqAsc3_bX"
      }
    },
    {
      "cell_type": "code",
      "source": [
        "import numpy as np\n",
        "\n",
        "x = np.array([1,3,5,7,9,11])\n",
        "y = np.array([2,4,6,8,10,12])"
      ],
      "metadata": {
        "id": "-FzJM1ZA-uAL"
      },
      "execution_count": null,
      "outputs": []
    },
    {
      "cell_type": "code",
      "source": [
        "u = 2*x+3*y\n",
        "print(u)\n",
        "v = 5*x*y\n",
        "print(v)\n",
        "w = 7*x/(4*y)\n",
        "print(w)\n",
        "z = np.sin(x)\n",
        "print(z)\n",
        "r = 8*np.cos(y)\n",
        "print(r)\n",
        "s = 5*np.sin(x*y)**2\n",
        "print(s)\n",
        "p = 9*x**y\n",
        "print(p)"
      ],
      "metadata": {
        "colab": {
          "base_uri": "https://localhost:8080/"
        },
        "id": "qw9Y5C5wXJr3",
        "outputId": "82c8f361-a4fe-460e-fe35-4ebb5d996807"
      },
      "execution_count": null,
      "outputs": [
        {
          "output_type": "stream",
          "name": "stdout",
          "text": [
            "[ 8 18 28 38 48 58]\n",
            "[ 10  60 150 280 450 660]\n",
            "[0.875      1.3125     1.45833333 1.53125    1.575      1.60416667]\n",
            "[ 0.84147098  0.14112001 -0.95892427  0.6569866   0.41211849 -0.99999021]\n",
            "[-3.32917469 -5.22914897  7.68136229 -1.16400027 -6.71257223  6.75083167]\n",
            "[4.13410905 1.43955248 4.88103245 1.36007724 3.99615017 0.01408934]\n",
            "[             9            729         140625       51883209\n",
            "    31381059609 28245855390489]\n"
          ]
        }
      ]
    },
    {
      "cell_type": "markdown",
      "source": [
        "\n",
        "\n",
        "---\n",
        "**Exercício 3:** Mostre todas as variáveis armazenadas no Jupyter Notebook após os exercícios anteriores. Em seguida, limpe todas as variáveis.\n",
        "\n",
        "\n",
        "---\n",
        "\n",
        "\n"
      ],
      "metadata": {
        "id": "kEDqMNAI3_yP"
      }
    },
    {
      "cell_type": "code",
      "source": [
        "%whos"
      ],
      "metadata": {
        "id": "9pf6XA9w3_yQ",
        "colab": {
          "base_uri": "https://localhost:8080/"
        },
        "outputId": "a2875fb0-b42d-47b7-b3c1-2224972e74ca"
      },
      "execution_count": null,
      "outputs": [
        {
          "output_type": "stream",
          "name": "stdout",
          "text": [
            "Variable   Type       Data/Info\n",
            "-------------------------------\n",
            "math       module     <module 'math' (built-in)>\n",
            "np         module     <module 'numpy' from '/us<...>kages/numpy/__init__.py'>\n",
            "p          ndarray    6: 6 elems, type `int64`, 48 bytes\n",
            "r          ndarray    6: 6 elems, type `float64`, 48 bytes\n",
            "s          ndarray    6: 6 elems, type `float64`, 48 bytes\n",
            "u          ndarray    6: 6 elems, type `int64`, 48 bytes\n",
            "v          ndarray    6: 6 elems, type `int64`, 48 bytes\n",
            "w          ndarray    6: 6 elems, type `float64`, 48 bytes\n",
            "x          ndarray    6: 6 elems, type `int64`, 48 bytes\n",
            "y          ndarray    6: 6 elems, type `int64`, 48 bytes\n",
            "z          ndarray    6: 6 elems, type `float64`, 48 bytes\n"
          ]
        }
      ]
    },
    {
      "cell_type": "code",
      "source": [
        "%reset"
      ],
      "metadata": {
        "colab": {
          "base_uri": "https://localhost:8080/"
        },
        "id": "HVebbWx8RUk3",
        "outputId": "e126dd4f-49b2-42b9-f146-7ea37ae2aa4c"
      },
      "execution_count": null,
      "outputs": [
        {
          "name": "stdout",
          "output_type": "stream",
          "text": [
            "Once deleted, variables cannot be recovered. Proceed (y/[n])? y\n"
          ]
        }
      ]
    },
    {
      "cell_type": "markdown",
      "source": [
        "\n",
        "\n",
        "---\n",
        "**Exercício 4:** Gere um array de tamanho $50$ com pontos igualmente espaçados entre $-5$ e $5$.\n",
        "\n",
        "\n",
        "---\n",
        "\n",
        "\n"
      ],
      "metadata": {
        "id": "Uk4TdX1R3__M"
      }
    },
    {
      "cell_type": "code",
      "source": [
        "import numpy as np\n",
        "\n",
        "np.linspace(-5,5,50)"
      ],
      "metadata": {
        "id": "danO0LIZ3__N",
        "colab": {
          "base_uri": "https://localhost:8080/"
        },
        "outputId": "f9f570e6-6445-42ed-e761-b7a07516e90e"
      },
      "execution_count": null,
      "outputs": [
        {
          "output_type": "execute_result",
          "data": {
            "text/plain": [
              "array([-5.        , -4.79591837, -4.59183673, -4.3877551 , -4.18367347,\n",
              "       -3.97959184, -3.7755102 , -3.57142857, -3.36734694, -3.16326531,\n",
              "       -2.95918367, -2.75510204, -2.55102041, -2.34693878, -2.14285714,\n",
              "       -1.93877551, -1.73469388, -1.53061224, -1.32653061, -1.12244898,\n",
              "       -0.91836735, -0.71428571, -0.51020408, -0.30612245, -0.10204082,\n",
              "        0.10204082,  0.30612245,  0.51020408,  0.71428571,  0.91836735,\n",
              "        1.12244898,  1.32653061,  1.53061224,  1.73469388,  1.93877551,\n",
              "        2.14285714,  2.34693878,  2.55102041,  2.75510204,  2.95918367,\n",
              "        3.16326531,  3.36734694,  3.57142857,  3.7755102 ,  3.97959184,\n",
              "        4.18367347,  4.3877551 ,  4.59183673,  4.79591837,  5.        ])"
            ]
          },
          "metadata": {},
          "execution_count": 13
        }
      ]
    },
    {
      "cell_type": "markdown",
      "source": [
        "\n",
        "\n",
        "---\n",
        "**Exercício 5:** Crie uma matriz de zeros $4 \\times 4$ e modifique os elementos diagonais para transformar em uma matriz identidade.\n",
        "\n",
        "\n",
        "---\n",
        "\n",
        "\n"
      ],
      "metadata": {
        "id": "Dr-_ZtI84AMn"
      }
    },
    {
      "cell_type": "code",
      "source": [
        "import numpy as np\n",
        "\n",
        "I = np.zeros((4,4))\n",
        "\n",
        "I[0,0]=1\n",
        "I[1,1]=1\n",
        "I[2,2]=1\n",
        "I[3,3]=1\n",
        "\n",
        "print(I)"
      ],
      "metadata": {
        "id": "6PRm4jay4AMn",
        "colab": {
          "base_uri": "https://localhost:8080/"
        },
        "outputId": "57f6a9e9-d11a-4cd0-def7-40e25ee93107"
      },
      "execution_count": null,
      "outputs": [
        {
          "output_type": "stream",
          "name": "stdout",
          "text": [
            "[[1. 0. 0. 0.]\n",
            " [0. 1. 0. 0.]\n",
            " [0. 0. 1. 0.]\n",
            " [0. 0. 0. 1.]]\n"
          ]
        }
      ]
    },
    {
      "cell_type": "markdown",
      "source": [
        "\n",
        "\n",
        "---\n",
        "**Exercício 6:** Implemente uma função que receba a temperatura em Celsius como entrada e calcule a temperatura em Farenheit como saída. Imprima o resultado na tela como:\n",
        "```python\n",
        "A temperatura X graus Celsius equivale a Y graus Farenheit.\n",
        "```\n",
        "\n",
        "---\n",
        "\n",
        "\n"
      ],
      "metadata": {
        "id": "I0miM9y64AX_"
      }
    },
    {
      "cell_type": "code",
      "source": [
        "def CparaF(T):\n",
        "\n",
        "    out = 9*T/5+32\n",
        "    print(f\"A temperatura {T} graus Celsius equivale a {out} graus Farenheit\")\n",
        "    return\n",
        "\n",
        "CparaF(0)"
      ],
      "metadata": {
        "colab": {
          "base_uri": "https://localhost:8080/"
        },
        "id": "QJXhRKl7deWJ",
        "outputId": "72d45863-a023-405a-d514-a50de04509ab"
      },
      "execution_count": null,
      "outputs": [
        {
          "output_type": "stream",
          "name": "stdout",
          "text": [
            "A temperatura 0 graus Celsius equivale a 32.0 graus Farenheit\n"
          ]
        }
      ]
    },
    {
      "cell_type": "markdown",
      "source": [
        "\n",
        "\n",
        "---\n",
        "**Exercício 7:** Escreva uma função chamada `xadrez` onde a saída seja uma matriz $n \\times n$ com a seguinte forma:\n",
        "\n",
        "$A_{n,n} = \\begin{pmatrix}\n",
        "1 & 0 & 1 &\\cdots & 0 & 1\\\\\n",
        "0 & 1 & 0 &\\cdots & 1 & 0\\\\\n",
        "\\vdots  & \\vdots  & \\vdots &\\ddots & \\vdots &\\vdots \\\\\n",
        "0 & 1 & 0 &\\cdots & 1 & 0\\\\\n",
        "1 & 0 & 1 &\\cdots & 0 & 1\\\\\n",
        "\\end{pmatrix}$\n",
        "\n",
        "\n",
        "---\n",
        "\n",
        "\n"
      ],
      "metadata": {
        "id": "oPnhDJsQbkwU"
      }
    },
    {
      "cell_type": "code",
      "source": [
        "import numpy as np\n",
        "\n",
        "def xadrez(n):\n",
        "\n",
        "    out = np.zeros((n,n)) # criar uma matriz zeros n x n\n",
        "\n",
        "    # A matriz tem valor 1 quando ambos índices são pares ou ímpares\n",
        "    out[0:n:2,0:n:2]=1    # 0:n:2 são os números pares\n",
        "    out[1:n:2,1:n:2]=1    # 1:n:2 são os números ímpares\n",
        "\n",
        "    return out\n",
        "\n",
        "xadrez(5)"
      ],
      "metadata": {
        "id": "qQx4oOxW4AX_",
        "colab": {
          "base_uri": "https://localhost:8080/"
        },
        "outputId": "3499bfa4-388d-4fcc-a553-faadde412715"
      },
      "execution_count": null,
      "outputs": [
        {
          "output_type": "execute_result",
          "data": {
            "text/plain": [
              "array([[1., 0., 1., 0., 1.],\n",
              "       [0., 1., 0., 1., 0.],\n",
              "       [1., 0., 1., 0., 1.],\n",
              "       [0., 1., 0., 1., 0.],\n",
              "       [1., 0., 1., 0., 1.]])"
            ]
          },
          "metadata": {},
          "execution_count": 16
        }
      ]
    },
    {
      "cell_type": "markdown",
      "source": [
        "\n",
        "\n",
        "---\n",
        "**Exercício 8:** Implemente uma função que calcule a área e o volume de um cilindro dado o seu raio `r` e altura `h`.\n",
        "\n",
        "---\n",
        "\n",
        "\n"
      ],
      "metadata": {
        "id": "gwXeouInekqf"
      }
    },
    {
      "cell_type": "code",
      "source": [
        "import numpy as np\n",
        "\n",
        "def cilindro(r,h):\n",
        "\n",
        "    area = 2*np.pi*r*(r+h)\n",
        "    volume = np.pi*r**2*h\n",
        "\n",
        "    return [area, volume]\n",
        "\n",
        "cilindro(1,5)"
      ],
      "metadata": {
        "id": "Tyxfq9_Fekqy",
        "colab": {
          "base_uri": "https://localhost:8080/"
        },
        "outputId": "1bd0654f-30ec-476a-944b-eae3a2985901"
      },
      "execution_count": null,
      "outputs": [
        {
          "output_type": "execute_result",
          "data": {
            "text/plain": [
              "[37.69911184307752, 15.707963267948966]"
            ]
          },
          "metadata": {},
          "execution_count": 17
        }
      ]
    }
  ]
}