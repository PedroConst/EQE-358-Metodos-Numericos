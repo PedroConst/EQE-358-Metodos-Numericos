{
  "nbformat": 4,
  "nbformat_minor": 0,
  "metadata": {
    "colab": {
      "provenance": [],
      "include_colab_link": true
    },
    "kernelspec": {
      "name": "python3",
      "display_name": "Python 3"
    },
    "language_info": {
      "name": "python"
    }
  },
  "cells": [
    {
      "cell_type": "markdown",
      "metadata": {
        "id": "view-in-github",
        "colab_type": "text"
      },
      "source": [
        "<a href=\"https://colab.research.google.com/github/PedroConst/EQE-358-Metodos-Numericos/blob/main/Gabaritos/Lista_HW_02_Gabarito.ipynb\" target=\"_parent\"><img src=\"https://colab.research.google.com/assets/colab-badge.svg\" alt=\"Open In Colab\"/></a>"
      ]
    },
    {
      "cell_type": "markdown",
      "source": [
        "#EQE 358- Métodos Numéricos Aplicados a Processos Químicos\n",
        "##Lista de Exercícios 02 – Entrega 30/08/2023\n",
        "###Prof. Pedro Constantino"
      ],
      "metadata": {
        "id": "k8OTDQ9Qi5Xn"
      }
    },
    {
      "cell_type": "markdown",
      "source": [
        "\n",
        "---\n",
        "\n",
        "\n",
        "**Problema 2**\n",
        "\n",
        "---"
      ],
      "metadata": {
        "id": "gN5QWJIsjE6X"
      }
    },
    {
      "cell_type": "code",
      "execution_count": null,
      "metadata": {
        "colab": {
          "base_uri": "https://localhost:8080/"
        },
        "id": "4QXjS883i1g7",
        "outputId": "f7211b87-df5d-4a1e-8e5d-f0f7ad3f540f"
      },
      "outputs": [
        {
          "output_type": "stream",
          "name": "stdout",
          "text": [
            "||A||1 = 17\n",
            "Coluna = 1\n",
            "Coluna =3\n",
            "||A||e = 19.131126469708992\n",
            "||A||inf = 19\n",
            "Linha = 2\n"
          ]
        }
      ],
      "source": [
        "import numpy as np\n",
        "\n",
        "# Calcular a norma absoluta ou norma-1 (por coluna)\n",
        "def norma_abs(A):\n",
        "    n = len(A)\n",
        "    sum_max = 0\n",
        "    column = 0\n",
        "    column2 = 0\n",
        "\n",
        "    for j in range(n):\n",
        "        s = 0\n",
        "        for i in range(n):\n",
        "            s = s + abs(A[i, j])\n",
        "        if s > sum_max:\n",
        "            sum_max = s\n",
        "            column = j\n",
        "        elif s == sum_max:  # Caso encontre outra coluna com a mesma soma!\n",
        "            column2 = j\n",
        "\n",
        "    print(f\"||A||1 = {sum_max}\")\n",
        "    print(f\"Coluna = {column}\")\n",
        "    if column2 > 0:\n",
        "        print(f\"Coluna ={column2}\")\n",
        "    return\n",
        "\n",
        "# Calcular a norma Euclideana (||A||e)\n",
        "def norma_eucl(A):\n",
        "    n = len(A)\n",
        "    sum_squares = 0\n",
        "\n",
        "    for i in range(n):\n",
        "        for j in range(n):\n",
        "            sum_squares = sum_squares + A[i, j] ** 2\n",
        "\n",
        "    Ae = np.sqrt(sum_squares)\n",
        "    print(f\"||A||e = {Ae}\")\n",
        "    return\n",
        "\n",
        "# Calcular norma máxima ou infinita (por linha)\n",
        "def norma_inf(A):\n",
        "    n = len(A)\n",
        "    sum_max = 0\n",
        "    row = 0\n",
        "    row2 = 0\n",
        "\n",
        "    for i in range(n):\n",
        "        s = 0\n",
        "        for j in range(n):\n",
        "            s = s + abs(A[i, j])\n",
        "        if s > sum_max:\n",
        "            sum_max = s\n",
        "            row = i\n",
        "        elif s == sum_max:\n",
        "            row2 = i\n",
        "\n",
        "    print(f\"||A||inf = {sum_max}\")\n",
        "    print(f\"Linha = {row}\")\n",
        "    if row2 > 0:\n",
        "        print(f\"Row = {row2}\")\n",
        "    return\n",
        "\n",
        "\n",
        "# Testar o código na matrix A:\n",
        "\n",
        "A = np.array([[6, 2, 0, -3],\n",
        "              [-2, 8, 2, 3],\n",
        "              [1, -6, -10, -2],\n",
        "              [2, 1, 3, 9]])\n",
        "norma_abs(A)\n",
        "norma_eucl(A)\n",
        "norma_inf(A)"
      ]
    },
    {
      "cell_type": "markdown",
      "source": [
        "\n",
        "---\n",
        "\n",
        "\n",
        "**Problema 4**\n",
        "\n",
        "---"
      ],
      "metadata": {
        "id": "JkARkgEujZZq"
      }
    },
    {
      "cell_type": "code",
      "execution_count": null,
      "metadata": {
        "colab": {
          "base_uri": "https://localhost:8080/"
        },
        "id": "aS48mHM-jZZr",
        "outputId": "7fc7f0d6-9270-4112-a16c-738438292118"
      },
      "outputs": [
        {
          "output_type": "stream",
          "name": "stdout",
          "text": [
            "T1(oC) =   129.80\n",
            "T2(oC) =   129.78\n",
            "T3(oC) =    43.33\n"
          ]
        }
      ],
      "source": [
        "import numpy as np\n",
        "\n",
        "# Dados do Problema\n",
        "Ts = 130.0 + 273.15     # Temperatura Vapor (Kelvin)\n",
        "Ta = 25.0 + 273.15      # Temperatura do ar (Kelvin)\n",
        "D1 = 20 / 1000          # Diâmetro interno (m)\n",
        "D2 = 25 / 1000          # Diâmetro externo (m)\n",
        "D3 = 125 / 1000         # Diâmetro isolamento (m)\n",
        "hi = 1700.0             # Coeficiente convectivo interno (W/m²K)\n",
        "ho = 3.0                # Coeficiente convectivo externo (W/m²K)\n",
        "ks = 45.0               # Condutividade metal (W/m K)\n",
        "ki = 0.064              # Condutividade isolamento (W/m K)\n",
        "\n",
        "# Sistema de Equações Ax = b\n",
        "A = np.zeros((3, 3))\n",
        "b = np.zeros(3)\n",
        "\n",
        "A[0, 0] = 2 * ks / np.log(D2 / D1) + hi * D1\n",
        "A[0, 1] = -2 * ks / np.log(D2 / D1)\n",
        "A[0, 2] = 0.0\n",
        "b[0] = hi * D1 * Ts\n",
        "\n",
        "A[1, 0] = ks / np.log(D2 / D1)\n",
        "A[1, 1] = -1 * (ks / np.log(D2 / D1) + ki / np.log(D3 / D2))\n",
        "A[1, 2] = ki / np.log(D3 / D2)\n",
        "b[1] = 0.0\n",
        "\n",
        "A[2, 0] = 0.0\n",
        "A[2, 1] = 2 * ki / np.log(D3 / D2)\n",
        "A[2, 2] = -1 * (2 * ki / np.log(D3 / D2) + ho * D3)\n",
        "b[2] = -ho * D3 * Ta\n",
        "\n",
        "# Eliminação Gaussiana Simples (Forward)\n",
        "n = len(b)\n",
        "for k in range(0,n - 1):\n",
        "    for i in range(k + 1, n):\n",
        "        m = A[i, k] / A[k, k]\n",
        "        for j in range(k + 1, n):\n",
        "            A[i, j] = A[i, j] - m * A[k, j]\n",
        "        b[i] = b[i] - m * b[k]\n",
        "\n",
        "# Substituição Recursiva (Backward)\n",
        "x = np.zeros(n)\n",
        "x[n - 1] = b[n - 1] / A[n - 1, n - 1]\n",
        "for i in range(n - 2, -1, -1):\n",
        "    S = b[i]\n",
        "    for j in range(i + 1, n):\n",
        "        S = S - A[i, j] * x[j]\n",
        "    x[i] = S / A[i, i]\n",
        "\n",
        "# Converter temperatura para Celsius\n",
        "temp = x - 273.15\n",
        "\n",
        "# Mostrar os resultados\n",
        "print('T1(oC) = {:8.2f}'.format(temp[0]))\n",
        "print('T2(oC) = {:8.2f}'.format(temp[1]))\n",
        "print('T3(oC) = {:8.2f}'.format(temp[2]))\n"
      ]
    },
    {
      "cell_type": "code",
      "source": [],
      "metadata": {
        "id": "MGsxYJEqrHTF"
      },
      "execution_count": null,
      "outputs": []
    }
  ]
}