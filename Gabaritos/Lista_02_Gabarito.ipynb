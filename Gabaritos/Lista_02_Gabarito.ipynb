{
  "nbformat": 4,
  "nbformat_minor": 0,
  "metadata": {
    "colab": {
      "provenance": [],
      "authorship_tag": "ABX9TyO8Bfhl4iGAjCoRx33iIJeQ",
      "include_colab_link": true
    },
    "kernelspec": {
      "name": "python3",
      "display_name": "Python 3"
    },
    "language_info": {
      "name": "python"
    }
  },
  "cells": [
    {
      "cell_type": "markdown",
      "metadata": {
        "id": "view-in-github",
        "colab_type": "text"
      },
      "source": [
        "<a href=\"https://colab.research.google.com/github/PedroConst/EQE-358-Metodos-Numericos/blob/main/Gabaritos/Lista_02_Gabarito.ipynb\" target=\"_parent\"><img src=\"https://colab.research.google.com/assets/colab-badge.svg\" alt=\"Open In Colab\"/></a>"
      ]
    },
    {
      "cell_type": "markdown",
      "source": [
        "# Problema 1 (Norma de Matrizes)"
      ],
      "metadata": {
        "id": "Mzyt9pC89vDL"
      }
    },
    {
      "cell_type": "code",
      "execution_count": 1,
      "metadata": {
        "id": "N-QGeGmEPpxA"
      },
      "outputs": [],
      "source": [
        "import numpy as np"
      ]
    },
    {
      "cell_type": "code",
      "source": [
        "A = np.array([[3.0,-1.0],\n",
        "              [2.0,4.0]])\n",
        "\n",
        "cond_A = np.linalg.cond(A)\n",
        "print(f'cond(A)={cond_A}')"
      ],
      "metadata": {
        "colab": {
          "base_uri": "https://localhost:8080/"
        },
        "id": "wYQdJlKDQBw_",
        "outputId": "ec5f304b-2d64-4449-b342-efe5f21530aa"
      },
      "execution_count": 3,
      "outputs": [
        {
          "output_type": "stream",
          "name": "stdout",
          "text": [
            "cond(A)=1.4560832005096076\n"
          ]
        }
      ]
    },
    {
      "cell_type": "code",
      "source": [
        "A = np.array([[1.0,1.0],\n",
        "              [1.0,10005.0]])\n",
        "\n",
        "cond_A = np.linalg.cond(A)\n",
        "print(f'cond(A)={cond_A}')"
      ],
      "metadata": {
        "colab": {
          "base_uri": "https://localhost:8080/"
        },
        "id": "-lyhO7CNQHRP",
        "outputId": "ac5db073-923f-4884-97e6-e7ed065d0151"
      },
      "execution_count": 4,
      "outputs": [
        {
          "output_type": "stream",
          "name": "stdout",
          "text": [
            "cond(A)=10006.000299900033\n"
          ]
        }
      ]
    },
    {
      "cell_type": "code",
      "source": [
        "A = np.array([[1.0,-3.0,2.0],\n",
        "              [4.0,-1.0,-2.0],\n",
        "              [-5.0,1.0,3.0]])\n",
        "\n",
        "cond_A = np.linalg.cond(A)\n",
        "print(f'cond(A)={cond_A}')"
      ],
      "metadata": {
        "colab": {
          "base_uri": "https://localhost:8080/"
        },
        "id": "odaukLriP8tK",
        "outputId": "bc004e67-df98-437a-d9f4-6f4c89219211"
      },
      "execution_count": 5,
      "outputs": [
        {
          "output_type": "stream",
          "name": "stdout",
          "text": [
            "cond(A)=69.60072455107768\n"
          ]
        }
      ]
    },
    {
      "cell_type": "code",
      "source": [
        "A = np.array([[6.0,2.0,0.0,-3.0],\n",
        "              [-2.0,8.0,2.0,3.0],\n",
        "              [1.0,-6.0,-10.0,-2.0],\n",
        "              [2.0,1.0,3.0,9.0]])\n",
        "\n",
        "cond_A = np.linalg.cond(A)\n",
        "print(f'cond(A)={cond_A}')"
      ],
      "metadata": {
        "colab": {
          "base_uri": "https://localhost:8080/"
        },
        "id": "35MqZ9WiQJvV",
        "outputId": "5f1003b1-7e87-4ecb-ac9e-9140223e5509"
      },
      "execution_count": 6,
      "outputs": [
        {
          "output_type": "stream",
          "name": "stdout",
          "text": [
            "cond(A)=2.8108464414833154\n"
          ]
        }
      ]
    },
    {
      "cell_type": "code",
      "source": [],
      "metadata": {
        "id": "VwTXRvkIRDye"
      },
      "execution_count": null,
      "outputs": []
    }
  ]
}