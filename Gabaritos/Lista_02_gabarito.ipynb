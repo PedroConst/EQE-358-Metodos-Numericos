{
  "nbformat": 4,
  "nbformat_minor": 0,
  "metadata": {
    "colab": {
      "provenance": [],
      "toc_visible": true,
      "include_colab_link": true
    },
    "kernelspec": {
      "name": "python3",
      "display_name": "Python 3"
    },
    "language_info": {
      "name": "python"
    }
  },
  "cells": [
    {
      "cell_type": "markdown",
      "metadata": {
        "id": "view-in-github",
        "colab_type": "text"
      },
      "source": [
        "<a href=\"https://colab.research.google.com/github/PedroConst/EQE-358-Metodos-Numericos/blob/main/Gabaritos/Lista_02_gabarito.ipynb\" target=\"_parent\"><img src=\"https://colab.research.google.com/assets/colab-badge.svg\" alt=\"Open In Colab\"/></a>"
      ]
    },
    {
      "cell_type": "markdown",
      "source": [
        "#Lista de Exercícios 02 - Gabarito\n",
        "##EQE 358- Métodos Numéricos Aplicados a Processos Químicos\n",
        "###Prof. Pedro Constantino"
      ],
      "metadata": {
        "id": "k8OTDQ9Qi5Xn"
      }
    },
    {
      "cell_type": "code",
      "source": [
        "import numpy as np\n",
        "import matplotlib.pyplot as plt"
      ],
      "metadata": {
        "id": "8BTxSFv67Vi2"
      },
      "execution_count": null,
      "outputs": []
    },
    {
      "cell_type": "markdown",
      "source": [
        "\n",
        "# **Problema 1**"
      ],
      "metadata": {
        "id": "gN5QWJIsjE6X"
      }
    },
    {
      "cell_type": "code",
      "execution_count": null,
      "metadata": {
        "id": "4QXjS883i1g7"
      },
      "outputs": [],
      "source": [
        "# Este código é opcional. Para os que desejarem implementar a própria função de calcular normas.\n",
        "# Calcular a norma absoluta ou norma-1 (por coluna)\n",
        "def norma_abs(A):\n",
        "    n = len(A)\n",
        "    sum_max = 0\n",
        "    column = 0\n",
        "    column2 = 0\n",
        "\n",
        "    for j in range(n):\n",
        "        s = 0\n",
        "        for i in range(n):\n",
        "            s = s + abs(A[i, j])\n",
        "        if s > sum_max:\n",
        "            sum_max = s\n",
        "            column = j\n",
        "        elif s == sum_max:  # Caso encontre outra coluna com a mesma soma!\n",
        "            column2 = j\n",
        "\n",
        "    print(f\"||A||1 = {sum_max}\")\n",
        "\n",
        "# Calcular a norma Euclideana (||A||e)\n",
        "def norma_eucl(A):\n",
        "    n = len(A)\n",
        "    sum_squares = 0\n",
        "\n",
        "    for i in range(n):\n",
        "        for j in range(n):\n",
        "            sum_squares = sum_squares + A[i, j] ** 2\n",
        "\n",
        "    Ae = np.sqrt(sum_squares)\n",
        "    print(f\"||A||e = {Ae}\")\n",
        "    return\n",
        "\n",
        "# Calcular norma máxima ou infinita (por linha)\n",
        "def norma_inf(A):\n",
        "    n = len(A)\n",
        "    sum_max = 0\n",
        "    row = 0\n",
        "    row2 = 0\n",
        "\n",
        "    for i in range(n):\n",
        "        s = 0\n",
        "        for j in range(n):\n",
        "            s = s + abs(A[i, j])\n",
        "        if s > sum_max:\n",
        "            sum_max = s\n",
        "            row = i\n",
        "        elif s == sum_max:\n",
        "            row2 = i\n",
        "\n",
        "    print(f\"||A||inf = {sum_max}\")"
      ]
    },
    {
      "cell_type": "code",
      "source": [
        "A = np.array([[1.0,1.0],\n",
        "              [1.0,10005.0]])\n",
        "\n",
        "# Meus códigos de cálculo de norma\n",
        "norma_abs(A)\n",
        "norma_eucl(A)\n",
        "norma_inf(A)\n",
        "\n",
        "# Função pronta do Python (norm)\n",
        "print(f'Norma Absoluta Numpy = {np.linalg.norm(A,1)}')\n",
        "print(f'Norma Euclidiana Numpy= {np.linalg.norm(A)}')\n",
        "print(f'Norma Infinita Numpy = {np.linalg.norm(A,np.inf)}')\n",
        "\n",
        "# Número de Condicionamento\n",
        "cond_A = np.linalg.cond(A,'fro')\n",
        "print(f'cond(A)={cond_A}')"
      ],
      "metadata": {
        "colab": {
          "base_uri": "https://localhost:8080/"
        },
        "id": "cI5Loyv8OoCV",
        "outputId": "ffcb7fd9-83cb-4b62-afc9-53cff04bf4a6"
      },
      "execution_count": null,
      "outputs": [
        {
          "output_type": "stream",
          "name": "stdout",
          "text": [
            "||A||1 = 10006.0\n",
            "||A||e = 10005.000149925036\n",
            "||A||inf = 10006.0\n",
            "Norma Absoluta Numpy = 10006.0\n",
            "Norma Euclidiana Numpy= 10005.000149925036\n",
            "Norma Infinita Numpy = 10006.0\n",
            "cond(A)=10006.000399840063\n"
          ]
        }
      ]
    },
    {
      "cell_type": "code",
      "source": [
        "A = np.array([[1.0,-3.0,2.0],\n",
        "              [4.0,-1.0,-2.0],\n",
        "              [-5.0,1.0,3.0]])\n",
        "\n",
        "# Meus códigos de cálculo de norma\n",
        "norma_abs(A)\n",
        "norma_eucl(A)\n",
        "norma_inf(A)\n",
        "\n",
        "# Função pronta do Python (norm)\n",
        "print(f'Norma Absoluta Numpy = {np.linalg.norm(A,1)}')\n",
        "print(f'Norma Euclidiana Numpy= {np.linalg.norm(A)}')\n",
        "print(f'Norma Infinita Numpy = {np.linalg.norm(A,np.inf)}')\n",
        "\n",
        "# Número de Condicionamento\n",
        "cond_A = np.linalg.cond(A,'fro')\n",
        "print(f'cond(A)={cond_A}')"
      ],
      "metadata": {
        "colab": {
          "base_uri": "https://localhost:8080/"
        },
        "id": "Ll7CcOfyOtmU",
        "outputId": "827adb41-41bf-4445-a070-7e0636de6666"
      },
      "execution_count": null,
      "outputs": [
        {
          "output_type": "stream",
          "name": "stdout",
          "text": [
            "||A||1 = 10.0\n",
            "||A||e = 8.366600265340756\n",
            "||A||inf = 9.0\n",
            "Norma Absoluta Numpy = 10.0\n",
            "Norma Euclidiana Numpy= 8.366600265340756\n",
            "Norma Infinita Numpy = 9.0\n",
            "cond(A)=77.73887916180232\n"
          ]
        }
      ]
    },
    {
      "cell_type": "code",
      "source": [
        "# Testar o código na matrix A:\n",
        "\n",
        "A = np.array([[6.0,2.0,0.0,-3.0],\n",
        "              [-2.0,8.0,2.0,3.0],\n",
        "              [1.0,-6.0,-10.0,-2.0],\n",
        "              [2.0,1.0,3.0,9.0]])\n",
        "\n",
        "# Meus códigos de cálculo de norma\n",
        "norma_abs(A)\n",
        "norma_eucl(A)\n",
        "norma_inf(A)\n",
        "\n",
        "# Função pronta do Python (norm)\n",
        "print(f'Norma Absoluta Numpy = {np.linalg.norm(A,1)}')\n",
        "print(f'Norma Euclidiana Numpy= {np.linalg.norm(A)}')\n",
        "print(f'Norma Infinita Numpy = {np.linalg.norm(A,np.inf)}')\n",
        "\n",
        "# Número de Condicionamento\n",
        "cond_A = np.linalg.cond(A,'fro')\n",
        "print(f'cond(A)={cond_A}')"
      ],
      "metadata": {
        "colab": {
          "base_uri": "https://localhost:8080/"
        },
        "id": "MDeE8o597f_t",
        "outputId": "3858cdec-705b-4201-e4b3-157cee9de9d5"
      },
      "execution_count": null,
      "outputs": [
        {
          "output_type": "stream",
          "name": "stdout",
          "text": [
            "||A||1 = 17.0\n",
            "||A||e = 19.131126469708992\n",
            "||A||inf = 19.0\n",
            "Norma Absoluta Numpy = 17.0\n",
            "Norma Euclidiana Numpy= 19.131126469708992\n",
            "Norma Infinita Numpy = 19.0\n",
            "cond(A)=5.304717805099111\n"
          ]
        }
      ]
    },
    {
      "cell_type": "markdown",
      "source": [
        "# **Problema 2**"
      ],
      "metadata": {
        "id": "CqMtmEkzj4vi"
      }
    },
    {
      "cell_type": "code",
      "source": [
        "def eliminacao_gaussiana(A, b):\n",
        "    n = len(b)      # Determinar o tamanho do vetor b\n",
        "    x = np.zeros(n) # Criar um vetor de zeros (n x 1)\n",
        "\n",
        "    # Realiza a eliminação direta (forward elimination)\n",
        "    for k in range(n-1):       # Fazer varreduras k = 0,1,2,..., n-2\n",
        "        for i in range(k+1, n): # Correr as Linhas abaixo da diagonal: i = k+1, k+2, ..., n-1\n",
        "            m = A[i, k] / A[k, k]   # Calcular a constante de multiplicação. A[k,k] é o elemento da diagonal!\n",
        "            for j in range(k+1, n): # Correr as Colunas acima da diagonal: j = k+1, k+2,..., n-1\n",
        "                A[i, j] = A[i, j] - m * A[k, j]    # Calcular os novos coeficientes da linha i\n",
        "            b[i] = b[i] - m * b[k]                 # Calcular o novo coeficiente do vetor b na linha i\n",
        "\n",
        "    # Realiza a substituição reversa (back substitution)\n",
        "    x[n-1] = b[n-1] / A[n-1, n-1]   # Calcular a última variável, linha i = n-1\n",
        "    for i in range(n-2, -1, -1):    # Correr as linhas de baixo para cima: i=n-2, n-3, ..., 0\n",
        "        S = b[i]                    # Inicializar o somatório\n",
        "        for j in range(i+1, n):     # Correr as colunas acima da diagonal: j=i+1, i+2, ..., n-1\n",
        "            S = S - A[i, j] * x[j]  # Atualizar o somatório\n",
        "        x[i] = S / A[i, i]          # Calcular o valor da variávei x[i]\n",
        "\n",
        "    return x"
      ],
      "metadata": {
        "id": "9dyKDHS7Pepw"
      },
      "execution_count": null,
      "outputs": []
    },
    {
      "cell_type": "code",
      "source": [
        "A = np.array([[0.0, 2.0, 3.0],\n",
        "              [2.0, 3.0, 1.0],\n",
        "              [1.0, -1.0, -2.0]])\n",
        "b = np.array([8.0, 5.0, 5.0])\n",
        "\n",
        "x = eliminacao_gaussiana(A, b) # Eliminação Gaussiana Simples (ingênua)\n",
        "print(f'x={x}')"
      ],
      "metadata": {
        "colab": {
          "base_uri": "https://localhost:8080/"
        },
        "id": "VENUmJreBoNc",
        "outputId": "f1f6e4e3-8572-4188-c4c2-59e7c22ba5d6"
      },
      "execution_count": null,
      "outputs": [
        {
          "output_type": "stream",
          "name": "stdout",
          "text": [
            "cond(A)=13.791138945990635\n",
            "x=[nan nan nan]\n"
          ]
        },
        {
          "output_type": "stream",
          "name": "stderr",
          "text": [
            "<ipython-input-18-1d8113d05492>:8: RuntimeWarning: divide by zero encountered in scalar divide\n",
            "  m = A[i, k] / A[k, k]   # Calcular a constante de multiplicação. A[k,k] é o elemento da diagonal!\n",
            "<ipython-input-18-1d8113d05492>:8: RuntimeWarning: invalid value encountered in scalar divide\n",
            "  m = A[i, k] / A[k, k]   # Calcular a constante de multiplicação. A[k,k] é o elemento da diagonal!\n"
          ]
        }
      ]
    },
    {
      "cell_type": "markdown",
      "source": [
        "Como a eliminação gaussiana simples (sem pivotamento) não funcionou, é um indicador de que temos um elemento zero na diagonal. Portanto, vamos implementar a eliminação gaussiana com pivotamento parcial, trocando apenas as linhas."
      ],
      "metadata": {
        "id": "pIxwC8U2ChoH"
      }
    },
    {
      "cell_type": "code",
      "source": [
        "import numpy as np\n",
        "\n",
        "def gauss_pivotamento(A, b):\n",
        "    n = len(b)\n",
        "    x = np.zeros(n)\n",
        "\n",
        "    for k in range(n - 1):\n",
        "        Amax = A[k, k]\n",
        "        swap_row = k\n",
        "\n",
        "        # Realiza o pivotamento, se necessário\n",
        "        for i in range(k + 1, n):\n",
        "            if A[i, k] > Amax:\n",
        "                Amax = A[i, k]\n",
        "                swap_row = i\n",
        "\n",
        "        if swap_row != k:\n",
        "            old_pivot = np.copy(A[k, :])\n",
        "            old_b = b[k]\n",
        "            A[k, :] = A[swap_row, :]\n",
        "            A[swap_row, :] = old_pivot\n",
        "            b[k] = b[swap_row]\n",
        "            b[swap_row] = old_b\n",
        "\n",
        "        # Realiza a eliminação direta (forward elimination)\n",
        "        for i in range(k + 1, n):\n",
        "            m = A[i, k] / A[k, k]\n",
        "            for j in range(k + 1, n):\n",
        "                A[i, j] = A[i, j] - m * A[k, j]\n",
        "            b[i] = b[i] - m * b[k]\n",
        "\n",
        "    # Realiza a substituição reversa (back substitution)\n",
        "    x[n - 1] = b[n - 1] / A[n - 1, n - 1]\n",
        "    for i in range(n - 2, -1, -1):\n",
        "        S = b[i]\n",
        "        for j in range(i + 1, n):\n",
        "            S = S - A[i, j] * x[j]\n",
        "        x[i] = S / A[i, i]\n",
        "\n",
        "    return x"
      ],
      "metadata": {
        "id": "FNGoFngqCHE5"
      },
      "execution_count": null,
      "outputs": []
    },
    {
      "cell_type": "code",
      "source": [
        "# Problema 2a\n",
        "A = np.array([[0.0, 2.0, 3.0],\n",
        "              [2.0, 3.0, 1.0],\n",
        "              [1.0, -1.0, -2.0]])\n",
        "b = np.array([8.0, 5.0, 5.0])\n",
        "\n",
        "x = gauss_pivotamento(A, b) # Eliminação Gaussiana com Pivotamento Parcial\n",
        "print(f'x={x}')"
      ],
      "metadata": {
        "colab": {
          "base_uri": "https://localhost:8080/"
        },
        "id": "TTMy98FaCJ4I",
        "outputId": "d066594f-1e38-4058-fedc-1e6ada8f6c88"
      },
      "execution_count": null,
      "outputs": [
        {
          "output_type": "stream",
          "name": "stdout",
          "text": [
            "cond(A)=13.791138945990635\n",
            "x=[ 14. -11.  10.]\n"
          ]
        }
      ]
    },
    {
      "cell_type": "markdown",
      "source": [
        "Desta vez obtemos o resultado correto! Não foi necessário pivotamento total (linhas e colunas)"
      ],
      "metadata": {
        "id": "ODuYXkhoCutX"
      }
    },
    {
      "cell_type": "code",
      "source": [
        "# Problema 2b\n",
        "A = np.array([[1.0,2.0,-1.0],\n",
        "              [5.0,2.0,2.0],\n",
        "              [-3.0,5.0,-1.0]])\n",
        "b = np.array([2.0,9.0,1.0])\n",
        "\n",
        "x = eliminacao_gaussiana(A, b) # Eliminação Gaussiana Simples (ingênua)\n",
        "print(f'x={x}')"
      ],
      "metadata": {
        "colab": {
          "base_uri": "https://localhost:8080/"
        },
        "id": "c0rwZVFsP4Xi",
        "outputId": "3c637ded-2a50-434e-de3c-90a112a6298a"
      },
      "execution_count": null,
      "outputs": [
        {
          "output_type": "stream",
          "name": "stdout",
          "text": [
            "x=[1. 1. 1.]\n"
          ]
        }
      ]
    },
    {
      "cell_type": "code",
      "source": [
        "# Problema 2c\n",
        "A = np.array([[6.0,1.0,0.0,-3.0],\n",
        "              [-2.0,8.0,2.0,3.0],\n",
        "              [1.0,-6.0,10.0,-2.0],\n",
        "              [2.0,1.0,3.0,9.0]])\n",
        "b = np.array([-9.0,9.0,17.0,13])\n",
        "\n",
        "x = eliminacao_gaussiana(A, b) # Eliminação Gaussiana Simples (ingênua)\n",
        "print(f'x={x}')"
      ],
      "metadata": {
        "colab": {
          "base_uri": "https://localhost:8080/"
        },
        "id": "AYp3nw9TQKzj",
        "outputId": "5d90064c-d812-41dc-d567-0621af7e1510"
      },
      "execution_count": null,
      "outputs": [
        {
          "output_type": "stream",
          "name": "stdout",
          "text": [
            "x=[-1.  0.  2.  1.]\n"
          ]
        }
      ]
    },
    {
      "cell_type": "markdown",
      "source": [
        "\n",
        "#**Problema 3**"
      ],
      "metadata": {
        "id": "JkARkgEujZZq"
      }
    },
    {
      "cell_type": "code",
      "execution_count": null,
      "metadata": {
        "colab": {
          "base_uri": "https://localhost:8080/"
        },
        "id": "aS48mHM-jZZr",
        "outputId": "b432dd6e-0b46-4fd1-8e6f-6781f7a534ad"
      },
      "outputs": [
        {
          "output_type": "stream",
          "name": "stdout",
          "text": [
            "T1(oC) =   129.78\n",
            "T2(oC) =   129.68\n",
            "T3(oC) =    44.14\n"
          ]
        }
      ],
      "source": [
        "# Inserir os Dados do Problema\n",
        "Ts = 130.0 + 273.15     # Temperatura Vapor (Kelvin)\n",
        "Ta = 25.0 + 273.15      # Temperatura do ar (Kelvin)\n",
        "D1 = 20 / 1000          # Diâmetro interno (m)\n",
        "D2 = 30 / 1000          # Diâmetro externo (m)\n",
        "L_iso = 50.0/1000       # Comprimento isolamento (m)\n",
        "D3 = (2*L_iso+D2)       # Diâmetro isolamento (m)\n",
        "hi = 1700.0             # Coeficiente convectivo interno (W/m²K)\n",
        "ho = 3.0                # Coeficiente convectivo externo (W/m²K)\n",
        "ks = 15.0               # Condutividade metal (W/m K)\n",
        "ki = 0.064              # Condutividade isolamento (W/m K)\n",
        "\n",
        "# Montar o Sistema de Equações Ax = b\n",
        "A = np.zeros((3, 3))\n",
        "b = np.zeros(3)\n",
        "\n",
        "A[0, 0] = 2 * ks / np.log(D2 / D1) + hi * D1\n",
        "A[0, 1] = -2 * ks / np.log(D2 / D1)\n",
        "A[0, 2] = 0.0\n",
        "b[0] = hi * D1 * Ts\n",
        "\n",
        "A[1, 0] = ks / np.log(D2 / D1)\n",
        "A[1, 1] = -1 * (ks / np.log(D2 / D1) + ki / np.log(D3 / D2))\n",
        "A[1, 2] = ki / np.log(D3 / D2)\n",
        "b[1] = 0.0\n",
        "\n",
        "A[2, 0] = 0.0\n",
        "A[2, 1] = 2 * ki / np.log(D3 / D2)\n",
        "A[2, 2] = -1 * (2 * ki / np.log(D3 / D2) + ho * D3)\n",
        "b[2] = -ho * D3 * Ta\n",
        "\n",
        "# Resolver o sistema por Eliminação Gaussiana\n",
        "T_K = eliminacao_gaussiana(A, b)\n",
        "\n",
        "# Converter temperatura para Celsius\n",
        "T_C = T_K - 273.15\n",
        "\n",
        "# Mostrar os resultados\n",
        "print('T1(oC) = {:8.2f}'.format(T_C[0]))\n",
        "print('T2(oC) = {:8.2f}'.format(T_C[1]))\n",
        "print('T3(oC) = {:8.2f}'.format(T_C[2]))\n"
      ]
    },
    {
      "cell_type": "markdown",
      "source": [
        "# **Problema** 4"
      ],
      "metadata": {
        "id": "nO4-WW1kPUHo"
      }
    },
    {
      "cell_type": "code",
      "source": [
        "# Dados Experimentais: Temperatura (K) e k (W/m.K)/Cp (J/kg K)\n",
        "T = np.array([1e2, 2e2, 4e2, 6e2, 8e2, 1e3, 1.2e3, 1.5e3])\n",
        "Cp = np.array([167, 122, 85.4, 67.4, 58.2,52.1,49.3,42.5])\n",
        "\n",
        "# Montar o Sistema de Equações Mínimos Quadrados\n",
        "ndata = len(T)\n",
        "sx = np.sum(T)\n",
        "sxx = np.sum(T**2)\n",
        "sx3 = np.sum(T**3)\n",
        "sx4 = np.sum(T**4)\n",
        "sx5 = np.sum(T**5)\n",
        "sx6 = np.sum(T**6)\n",
        "\n",
        "sy = np.sum(Cp)\n",
        "sxy = np.sum(T*Cp)\n",
        "sx2y = np.sum(Cp*T**2)\n",
        "sx3y = np.sum(Cp*T**3)\n",
        "\n",
        "A = np.array([[ndata, sx, sxx, sx3],\n",
        "              [sx, sxx, sx3, sx4],\n",
        "              [sxx, sx3, sx4, sx5],\n",
        "              [sx3, sx4, sx5, sx6]])\n",
        "\n",
        "b = np.array([sy, sxy, sx2y,sx3y])\n",
        "\n",
        "a0, a1, a2, a3 = eliminacao_gaussiana(A,b)\n",
        "\n",
        "# Gerar a curva ajustada\n",
        "Cp_calc = a0 + a1 * T + a2 * T**2 + a3*T**3\n",
        "print(f'Modelo Quadrático: Cp = {a0} + {a1}T + {a2}T^2 + {a3}T^3')\n",
        "\n",
        "# Plotar o gráfico dos dados experimentais e modelo ajustado\n",
        "Tcalc = np.linspace(0,1500,1500)\n",
        "Cp_calc = a0 + a1 * Tcalc + a2 * Tcalc**2 + a3*Tcalc**3\n",
        "\n",
        "plt.plot(Tcalc, Cp_calc, '-.k', label='Modelo Ajustado')\n",
        "plt.plot(T, Cp, 'or', label='Dados Experimentais')\n",
        "plt.xlabel('Temperatura (K)')\n",
        "plt.ylabel('k (W/m.K)/Cp (J/kg K)')\n",
        "plt.title('Lista 02 Problema 4')\n",
        "plt.legend()\n",
        "plt.show()"
      ],
      "metadata": {
        "colab": {
          "base_uri": "https://localhost:8080/",
          "height": 489
        },
        "id": "FJHEgeBPPXoN",
        "outputId": "d1f15063-4a5e-4ab2-d9d0-8ef62d3c396d"
      },
      "execution_count": null,
      "outputs": [
        {
          "output_type": "stream",
          "name": "stdout",
          "text": [
            "Modelo Quadrático: Cp = 199.24693585723992 + -0.4218181407109027T + 0.0004051436504208408T^2 + -1.2947245194345947e-07T^3\n"
          ]
        },
        {
          "output_type": "display_data",
          "data": {
            "text/plain": [
              "<Figure size 640x480 with 1 Axes>"
            ],
            "image/png": "[encoded data removed]"
          },
          "metadata": {}
        }
      ]
    }
  ]
}