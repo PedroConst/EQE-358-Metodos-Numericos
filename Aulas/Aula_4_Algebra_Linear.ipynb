{
  "nbformat": 4,
  "nbformat_minor": 0,
  "metadata": {
    "colab": {
      "provenance": [],
      "authorship_tag": "ABX9TyOgiYrbh0Sp7t/IpRM/Pg/p",
      "include_colab_link": true
    },
    "kernelspec": {
      "name": "python3",
      "display_name": "Python 3"
    },
    "language_info": {
      "name": "python"
    }
  },
  "cells": [
    {
      "cell_type": "markdown",
      "metadata": {
        "id": "view-in-github",
        "colab_type": "text"
      },
      "source": [
        "<a href=\"https://colab.research.google.com/github/PedroConst/EQE-358-Metodos-Numericos/blob/main/Aulas/Aula_4_Algebra_Linear.ipynb\" target=\"_parent\"><img src=\"https://colab.research.google.com/assets/colab-badge.svg\" alt=\"Open In Colab\"/></a>"
      ]
    },
    {
      "cell_type": "markdown",
      "source": [
        "# Álgebra Linear em Python"
      ],
      "metadata": {
        "id": "2o85uolM4a9p"
      }
    },
    {
      "cell_type": "markdown",
      "source": [
        "## Definir Matriz"
      ],
      "metadata": {
        "id": "DCPubSLy4jZI"
      }
    },
    {
      "cell_type": "code",
      "source": [
        "import numpy as np\n",
        "\n",
        "A = np.array([[1, 0], [0, 1]])\n",
        "B = np.array([[4, 1], [2, 2]])"
      ],
      "metadata": {
        "id": "UFJqUHCP4m-5"
      },
      "execution_count": null,
      "outputs": []
    },
    {
      "cell_type": "markdown",
      "source": [
        "## Multiplicação de Matrizes"
      ],
      "metadata": {
        "id": "SLYSdXOU4q04"
      }
    },
    {
      "cell_type": "code",
      "source": [
        "M = A*B     #Produto elemento a elemento! Cuidado!!\n",
        "print(M)"
      ],
      "metadata": {
        "colab": {
          "base_uri": "https://localhost:8080/"
        },
        "id": "XSo9vgD44xEI",
        "outputId": "955e2026-a7c7-46fe-db46-9b9b8d509340"
      },
      "execution_count": null,
      "outputs": [
        {
          "output_type": "stream",
          "name": "stdout",
          "text": [
            "[[4 0]\n",
            " [0 2]]\n"
          ]
        }
      ]
    },
    {
      "cell_type": "code",
      "source": [
        "M = np.dot(A,B)\n",
        "print(M)"
      ],
      "metadata": {
        "colab": {
          "base_uri": "https://localhost:8080/"
        },
        "id": "ubttgnII8ldw",
        "outputId": "14dca4b2-8e86-4285-f163-7c790c1c721b"
      },
      "execution_count": null,
      "outputs": [
        {
          "output_type": "stream",
          "name": "stdout",
          "text": [
            "[[4 1]\n",
            " [2 2]]\n"
          ]
        }
      ]
    },
    {
      "cell_type": "code",
      "source": [
        "M = np.matmul(A, B)\n",
        "print(M)"
      ],
      "metadata": {
        "colab": {
          "base_uri": "https://localhost:8080/"
        },
        "id": "eln24h_r7uJi",
        "outputId": "364ae413-7420-4664-abdc-d9ea45fe496a"
      },
      "execution_count": null,
      "outputs": [
        {
          "output_type": "stream",
          "name": "stdout",
          "text": [
            "[[4 1]\n",
            " [2 2]]\n"
          ]
        }
      ]
    },
    {
      "cell_type": "code",
      "source": [
        "M = A @ B\n",
        "print(M)"
      ],
      "metadata": {
        "colab": {
          "base_uri": "https://localhost:8080/"
        },
        "id": "IQShYm8_7_UC",
        "outputId": "e2750505-d117-4d4d-f237-2c29142d2824"
      },
      "execution_count": null,
      "outputs": [
        {
          "output_type": "stream",
          "name": "stdout",
          "text": [
            "[[4 1]\n",
            " [2 2]]\n"
          ]
        }
      ]
    },
    {
      "cell_type": "markdown",
      "source": [
        "## Determinantes"
      ],
      "metadata": {
        "id": "tbZto0F84nkw"
      }
    },
    {
      "cell_type": "code",
      "source": [
        "import numpy as np\n",
        "\n",
        "A = np.array([[1, 2], [3, 4]])\n",
        "\n",
        "D = np.linalg.det(A)\n",
        "print(D)"
      ],
      "metadata": {
        "colab": {
          "base_uri": "https://localhost:8080/"
        },
        "id": "5weFG0L34p7g",
        "outputId": "af4e938e-d20c-40fa-8f2b-9d4277cd1168"
      },
      "execution_count": null,
      "outputs": [
        {
          "output_type": "stream",
          "name": "stdout",
          "text": [
            "-2.0000000000000004\n"
          ]
        }
      ]
    },
    {
      "cell_type": "code",
      "source": [
        "from numpy.linalg import det\n",
        "\n",
        "D = det(A)\n",
        "print(D)"
      ],
      "metadata": {
        "colab": {
          "base_uri": "https://localhost:8080/"
        },
        "id": "4_fUlSXG8_yY",
        "outputId": "b359bafd-efbf-4f1f-c509-2599d800253c"
      },
      "execution_count": null,
      "outputs": [
        {
          "output_type": "stream",
          "name": "stdout",
          "text": [
            "-2.0000000000000004\n"
          ]
        }
      ]
    },
    {
      "cell_type": "markdown",
      "source": [
        "## Matriz Inversa"
      ],
      "metadata": {
        "id": "XJxTB-6b4ybw"
      }
    },
    {
      "cell_type": "code",
      "source": [
        "import numpy as np\n",
        "from numpy.linalg import inv\n",
        "\n",
        "#A = np.array([[1., 2.], [3., 4.]])\n",
        "A = np.array([[1., -2.,0], [0., 1.,2],[2., 2.,0]])\n",
        "Ainv = inv(A)\n",
        "\n",
        "print(Ainv)"
      ],
      "metadata": {
        "colab": {
          "base_uri": "https://localhost:8080/"
        },
        "id": "Jc7LnGG640g3",
        "outputId": "35d8c711-b7e6-4bbc-e8b5-1b2edc91cb00"
      },
      "execution_count": null,
      "outputs": [
        {
          "output_type": "stream",
          "name": "stdout",
          "text": [
            "[[ 0.33333333  0.          0.33333333]\n",
            " [-0.33333333 -0.          0.16666667]\n",
            " [ 0.16666667  0.5        -0.08333333]]\n"
          ]
        }
      ]
    },
    {
      "cell_type": "code",
      "source": [
        "AandB = np.array([[[1., 2.], [3., 4.]], [[1, 3], [3, 5]]])\n",
        "inv(AandB)"
      ],
      "metadata": {
        "colab": {
          "base_uri": "https://localhost:8080/"
        },
        "id": "gtq5ggik6o18",
        "outputId": "ae94a485-9496-42fe-a088-0002814b60ab"
      },
      "execution_count": null,
      "outputs": [
        {
          "output_type": "execute_result",
          "data": {
            "text/plain": [
              "array([[[-2.  ,  1.  ],\n",
              "        [ 1.5 , -0.5 ]],\n",
              "\n",
              "       [[-1.25,  0.75],\n",
              "        [ 0.75, -0.25]]])"
            ]
          },
          "metadata": {},
          "execution_count": 13
        }
      ]
    },
    {
      "cell_type": "markdown",
      "source": [
        "## Autovalores e Autovetores"
      ],
      "metadata": {
        "id": "-e9nl3yR427g"
      }
    },
    {
      "cell_type": "code",
      "source": [
        "import numpy as np\n",
        "from numpy.linalg import eig"
      ],
      "metadata": {
        "id": "CAw0yJ3N45HX"
      },
      "execution_count": null,
      "outputs": []
    },
    {
      "cell_type": "code",
      "source": [
        "A = np.array([[0, 2],\n",
        "              [2, 3]])\n",
        "w,v=eig(A)\n",
        "\n",
        "print('Autovalores:')\n",
        "print(w)\n",
        "print('Autovetores:')\n",
        "print(v)"
      ],
      "metadata": {
        "colab": {
          "base_uri": "https://localhost:8080/"
        },
        "id": "zYkLo-Jt5DdA",
        "outputId": "7ed410cc-343d-49e9-82bd-fd1ed09ea3f2"
      },
      "execution_count": null,
      "outputs": [
        {
          "output_type": "stream",
          "name": "stdout",
          "text": [
            "Autovalores:\n",
            "[-1.  4.]\n",
            "Autovetores:\n",
            "[[-0.89442719 -0.4472136 ]\n",
            " [ 0.4472136  -0.89442719]]\n"
          ]
        }
      ]
    },
    {
      "cell_type": "code",
      "source": [
        "a = np.array([[2, 2, 4],\n",
        "              [1, 3, 5],\n",
        "              [2, 3, 4]])\n",
        "w,v=eig(a)\n",
        "\n",
        "print('Autovalores:')\n",
        "print(w)\n",
        "print('Autovetores:')\n",
        "print(v)"
      ],
      "metadata": {
        "colab": {
          "base_uri": "https://localhost:8080/"
        },
        "id": "IbYdqFv05NOX",
        "outputId": "f1818914-7718-4b82-ae53-e6445751bbe3"
      },
      "execution_count": null,
      "outputs": [
        {
          "output_type": "stream",
          "name": "stdout",
          "text": [
            "Autovalores:\n",
            "[ 8.80916362  0.92620912 -0.73537273]\n",
            "Autovetores:\n",
            "[[-0.52799324 -0.77557092 -0.36272811]\n",
            " [-0.604391    0.62277013 -0.7103262 ]\n",
            " [-0.59660259 -0.10318482  0.60321224]]\n"
          ]
        }
      ]
    },
    {
      "cell_type": "code",
      "source": [],
      "metadata": {
        "id": "TabSWE0dOJpH"
      },
      "execution_count": null,
      "outputs": []
    }
  ]
}