{
  "nbformat": 4,
  "nbformat_minor": 0,
  "metadata": {
    "colab": {
      "provenance": [],
      "collapsed_sections": [
        "GLpZUcF2v3rE",
        "tnfhB8VQudUy",
        "eBmLolSHudKi",
        "n--Jqpr7udBi",
        "ulimeRHjuc2b",
        "rWC4sxyOvuV9",
        "cKuCx8R4vuJ0",
        "4iVTkC-HvtAr",
        "tAVHn-Y6xL3n",
        "9TapraSbxLsH",
        "TbXk2aoVxLh3",
        "MD1O2sB0yvix",
        "5lfTxum1zRDS",
        "rvemzXMHzVCL"
      ],
      "authorship_tag": "ABX9TyNbaORu6IBMVq8z5vyU7OP9",
      "include_colab_link": true
    },
    "kernelspec": {
      "name": "python3",
      "display_name": "Python 3"
    },
    "language_info": {
      "name": "python"
    }
  },
  "cells": [
    {
      "cell_type": "markdown",
      "metadata": {
        "id": "view-in-github",
        "colab_type": "text"
      },
      "source": [
        "<a href=\"https://colab.research.google.com/github/PedroConst/EQE-358-Metodos-Numericos/blob/main/Aulas/Aula_2_Variaveis_Funcoes.ipynb\" target=\"_parent\"><img src=\"https://colab.research.google.com/assets/colab-badge.svg\" alt=\"Open In Colab\"/></a>"
      ]
    },
    {
      "cell_type": "markdown",
      "source": [
        "# Aula 02: Variáveis e Funções\n",
        "\n"
      ],
      "metadata": {
        "id": "Mk92VcvvrGqp"
      }
    },
    {
      "cell_type": "markdown",
      "source": [
        "Até o momento, estamos utilizando o Python apenas como uma calculadora científica para avaliar expressões aritméticas. <br> Nesta aula vamos aprender a definir diferentes tipos de variáveis e funções em Python. Isso nos permitirá ter liberdade para trabalhar com expressões algébricas."
      ],
      "metadata": {
        "id": "-zvn8Djr3fmP"
      }
    },
    {
      "cell_type": "markdown",
      "source": [
        "## 1. Variáveis"
      ],
      "metadata": {
        "id": "GLpZUcF2v3rE"
      }
    },
    {
      "cell_type": "markdown",
      "source": [
        "Uma **variável** é um recipiente que armazena uma informação na memória do computador. <br>\n",
        "O nome da variável diz ao computador onde encontrar esse valor na memória.  "
      ],
      "metadata": {
        "id": "5ZyxYDl5SkLR"
      }
    },
    {
      "cell_type": "markdown",
      "source": [
        "---\n",
        "**Exemplo:** Armazenar o valor 2 na variável x.\n",
        "\n",
        "\n",
        "---\n"
      ],
      "metadata": {
        "id": "Mj48VBnRTjFi"
      }
    },
    {
      "cell_type": "code",
      "source": [
        "x = 2\n",
        "x"
      ],
      "metadata": {
        "id": "1W6bZUBBSXDa"
      },
      "execution_count": null,
      "outputs": []
    },
    {
      "cell_type": "markdown",
      "source": [
        "\n",
        "\n",
        "---\n",
        "**Exemplo:** Armazenar o valor 5 na variável y, multiplicar por 4 e observar resultado.\n",
        "\n",
        "\n",
        "---\n",
        "\n",
        "\n"
      ],
      "metadata": {
        "id": "EasQJgMz2_hX"
      }
    },
    {
      "cell_type": "code",
      "source": [
        "y = 5\n",
        "y*4"
      ],
      "metadata": {
        "id": "xWrjLy1Zv3Dk"
      },
      "execution_count": null,
      "outputs": []
    },
    {
      "cell_type": "markdown",
      "source": [
        "Os nomes das variáveis devem seguir as seguintes regras:\n",
        "\n",
        "\n",
        "*   Somente caracteres alfa-numéricos (letras e números) e *underscore* (_);\n",
        "*   Primeiro caractere deve ser uma letra ou underscore;\n",
        "*   Espaços não são permitidos;\n",
        "*   Sensível a maiúsculas e minúsculas.\n",
        "\n",
        "Exemplos:\n",
        "\n",
        "\n",
        "*   Permitidos: `distAB`, `raio2`, `dens_rho`, `camelCase`\n",
        "*   Proibidos: `2raio`, `número de carros`, `dens!`\n",
        "\n",
        "\n",
        "\n"
      ],
      "metadata": {
        "id": "TVvbrMGmdAus"
      }
    },
    {
      "cell_type": "markdown",
      "source": [
        "\n",
        "\n",
        "---\n",
        "**Exemplo:** Listar todas as variáveis armazenadas neste Notebook com um comando mágico (*magic command*).\n",
        "\n",
        "---\n",
        "\n"
      ],
      "metadata": {
        "id": "7XZjtc9hTqhq"
      }
    },
    {
      "cell_type": "code",
      "source": [
        "%whos"
      ],
      "metadata": {
        "id": "vCGNRZy4Tqhw"
      },
      "execution_count": null,
      "outputs": []
    },
    {
      "cell_type": "markdown",
      "source": [
        "***Atenção!*** Em programação, a expressão $x=y$ **não** significa igualdade matemática. <br>\n",
        "Apenas significa que o valor da direita está sendo armazenado na **esquerda** (i.e., $x←y$)\n",
        "\n",
        "\n"
      ],
      "metadata": {
        "id": "WlYgGoJiT59q"
      }
    },
    {
      "cell_type": "code",
      "source": [
        "x = x + 1\n",
        "x"
      ],
      "metadata": {
        "id": "FnTj0V73T59w"
      },
      "execution_count": null,
      "outputs": []
    },
    {
      "cell_type": "code",
      "source": [
        "x = 1\n",
        "y = x + 1\n",
        "x = 2\n",
        "y"
      ],
      "metadata": {
        "id": "HFZL2RbdX88D"
      },
      "execution_count": null,
      "outputs": []
    },
    {
      "cell_type": "markdown",
      "source": [
        "---\n",
        "**Exemplo:** Limpar algumas variáveis armazenadas neste Notebook com um comando mágico (*magic command*).\n",
        "\n",
        "---"
      ],
      "metadata": {
        "id": "zVCWE5OQbCDr"
      }
    },
    {
      "cell_type": "code",
      "source": [
        "del y"
      ],
      "metadata": {
        "id": "uG_j8nGSbj30"
      },
      "execution_count": null,
      "outputs": []
    },
    {
      "cell_type": "code",
      "source": [
        "%whos"
      ],
      "metadata": {
        "id": "KooWG77dcJg8"
      },
      "execution_count": null,
      "outputs": []
    },
    {
      "cell_type": "markdown",
      "source": [
        "---\n",
        "**Exemplo:** Limpar todas as variáveis armazenadas neste Notebook com um comando mágico (*magic command*).\n",
        "\n",
        "---"
      ],
      "metadata": {
        "id": "meiDBLVWbvq7"
      }
    },
    {
      "cell_type": "code",
      "source": [
        "%reset"
      ],
      "metadata": {
        "id": "H5Rx3SwTcYPM"
      },
      "execution_count": null,
      "outputs": []
    },
    {
      "cell_type": "markdown",
      "source": [
        "##2. Estrutura de Dados"
      ],
      "metadata": {
        "id": "BEyJGqG0udoC"
      }
    },
    {
      "cell_type": "markdown",
      "source": [
        "### 2.1 String `\"Texto\"`\n",
        "\n",
        "Uma `string` é uma sequência de caracteres. Para definir uma variável como `string` basta utilizar aspas `'simples'` ou `\"duplas\"`."
      ],
      "metadata": {
        "id": "tnfhB8VQudUy"
      }
    },
    {
      "cell_type": "markdown",
      "source": [
        "\n",
        "\n",
        "---\n",
        "**Exemplo:** Imprima \"Eu amo Python!\" na tela usando a função `print`.\n",
        "\n",
        "\n",
        "---\n",
        "\n",
        "\n"
      ],
      "metadata": {
        "id": "DTn6CnlU3U6W"
      }
    },
    {
      "cell_type": "code",
      "source": [
        "print(\"Eu amo Python!\")"
      ],
      "metadata": {
        "id": "_BHFIvL_2vS2"
      },
      "execution_count": null,
      "outputs": []
    },
    {
      "cell_type": "markdown",
      "source": [
        "\n",
        "\n",
        "---\n",
        "**Exemplo:** Armazene essa `string` em uma variável `w`.\n",
        "\n",
        "\n",
        "---\n",
        "\n",
        "\n"
      ],
      "metadata": {
        "id": "WtYqf3Ne3m62"
      }
    },
    {
      "cell_type": "code",
      "source": [
        "w = \"Eu amo Python!\"\n",
        "print(w)\n",
        "type(w)"
      ],
      "metadata": {
        "id": "bgbUkNTC3m68"
      },
      "execution_count": null,
      "outputs": []
    },
    {
      "cell_type": "markdown",
      "source": [
        "\n",
        "\n",
        "---\n",
        "**Exemplo:** Determine o comprimento desta variável `w` usando `len()`.\n",
        "\n",
        "\n",
        "---\n",
        "\n",
        "\n"
      ],
      "metadata": {
        "id": "0yLmhi1Qi0Gd"
      }
    },
    {
      "cell_type": "code",
      "source": [
        "len(w)"
      ],
      "metadata": {
        "id": "jQPkdd6Ai0Ge"
      },
      "execution_count": null,
      "outputs": []
    },
    {
      "cell_type": "markdown",
      "source": [
        "\n",
        "\n",
        "---\n",
        "**Exemplo:** Recupere pedaços da variável `w` usando fatiamento (*slicing*) como `[início:fim:passo]`\n",
        "\n",
        "\n",
        "---\n",
        "\n",
        "Regras para *slicing*:\n",
        "\n",
        "\n",
        "*   O índice da posição começa em `0` (zero);\n",
        "*   O limite superior é excludente (ex.: `[6:11]` inclui os índices `6` a `10`);\n",
        "*   O passo padrão é `1` quando o passo não é especificado;\n",
        "*   Índices negativos podem ser usados para contar de trás pra frente (ex.: -1 é o último caractere, -2 o penúltimo, etc.)\n",
        "\n",
        "\n",
        "\n"
      ],
      "metadata": {
        "id": "9JyKLqzYmYBN"
      }
    },
    {
      "cell_type": "code",
      "source": [
        "w[7]"
      ],
      "metadata": {
        "id": "T8oJ-7WzmYBT"
      },
      "execution_count": null,
      "outputs": []
    },
    {
      "cell_type": "code",
      "source": [
        "w[3:6]"
      ],
      "metadata": {
        "id": "Hxrk_4MLqMSu"
      },
      "execution_count": null,
      "outputs": []
    },
    {
      "cell_type": "code",
      "source": [
        "w[7:]"
      ],
      "metadata": {
        "id": "sdRWP7OHqMAP"
      },
      "execution_count": null,
      "outputs": []
    },
    {
      "cell_type": "code",
      "source": [
        "w[:2]"
      ],
      "metadata": {
        "id": "Eb8NOr5-qcCf"
      },
      "execution_count": null,
      "outputs": []
    },
    {
      "cell_type": "code",
      "source": [
        "w[10:-1]"
      ],
      "metadata": {
        "id": "3FNluC6PrFj3"
      },
      "execution_count": null,
      "outputs": []
    },
    {
      "cell_type": "code",
      "source": [
        "w[::4]"
      ],
      "metadata": {
        "id": "m8PmGosduK64"
      },
      "execution_count": null,
      "outputs": []
    },
    {
      "cell_type": "markdown",
      "source": [
        "\n",
        "\n",
        "---\n",
        "**Exemplo:** Concatenar duas variáveis do tipo `string`.\n",
        "\n",
        "\n",
        "---\n",
        "\n",
        "\n"
      ],
      "metadata": {
        "id": "goZh7SlomYOA"
      }
    },
    {
      "cell_type": "code",
      "source": [
        "str_a = \"Eu amo Python! \"\n",
        "str_b = \"Você também!\"\n",
        "print(str_a + str_b)"
      ],
      "metadata": {
        "id": "F08OdqH2mYOA"
      },
      "execution_count": null,
      "outputs": []
    },
    {
      "cell_type": "markdown",
      "source": [
        "\n",
        "\n",
        "---\n",
        "**Exemplo:** Imprimir `x = 1` na tela.\n",
        "\n",
        "\n",
        "---\n",
        "\n",
        "\n"
      ],
      "metadata": {
        "id": "M_pYT8mMxagh"
      }
    },
    {
      "cell_type": "code",
      "source": [
        "x = 1\n",
        "print(\"x = \" + x)"
      ],
      "metadata": {
        "id": "vCED5pFTxagj"
      },
      "execution_count": null,
      "outputs": []
    },
    {
      "cell_type": "code",
      "source": [
        "print(\"x = \" + str(x))"
      ],
      "metadata": {
        "id": "pnMWLH0KyQKQ"
      },
      "execution_count": null,
      "outputs": []
    },
    {
      "cell_type": "markdown",
      "source": [
        "###2.2 Listas `[a,b,c]`\n",
        "\n",
        "Uma lista é definida por colchetes `[ ]` e consegue armazenar quaisquer tipos de dados (números, strings, outros). <br>\n",
        "Cada elemento da lista é separado por uma vírgula."
      ],
      "metadata": {
        "id": "eBmLolSHudKi"
      }
    },
    {
      "cell_type": "markdown",
      "source": [
        "\n",
        "---\n",
        "**Exemplo:** Criar uma lista de números, outra lista de strings e concatenar ambas.\n",
        "\n",
        "\n",
        "---\n",
        "\n",
        "\n"
      ],
      "metadata": {
        "id": "epW9OFRT3Vr2"
      }
    },
    {
      "cell_type": "code",
      "source": [
        "lista_1 = [1,2,3]\n",
        "lista_1"
      ],
      "metadata": {
        "id": "di9b3mwb2wIG"
      },
      "execution_count": null,
      "outputs": []
    },
    {
      "cell_type": "code",
      "source": [
        "lista_2 = [\"Métodos\", \"Numéricos\"]\n",
        "lista_2"
      ],
      "metadata": {
        "id": "IaeAEMUpzq2Q"
      },
      "execution_count": null,
      "outputs": []
    },
    {
      "cell_type": "code",
      "source": [
        "lista_3 = lista_1 + lista_2\n",
        "lista_3"
      ],
      "metadata": {
        "id": "2xNFOOx4z0Oh"
      },
      "execution_count": null,
      "outputs": []
    },
    {
      "cell_type": "markdown",
      "source": [
        "\n",
        "\n",
        "---\n",
        "**Exemplo:** Fazer fatiamento da `lista_3`.\n",
        "\n",
        "\n",
        "---\n",
        "\n",
        "\n"
      ],
      "metadata": {
        "id": "d5meh7MT3oqW"
      }
    },
    {
      "cell_type": "code",
      "source": [
        "lista_3[2]"
      ],
      "metadata": {
        "id": "fIq0oErY3oqj"
      },
      "execution_count": null,
      "outputs": []
    },
    {
      "cell_type": "code",
      "source": [
        "lista_3[:3]"
      ],
      "metadata": {
        "id": "B5pi_ZDg1kDp"
      },
      "execution_count": null,
      "outputs": []
    },
    {
      "cell_type": "code",
      "source": [
        "lista_3[-1]"
      ],
      "metadata": {
        "id": "W2wTA3eP1oJZ"
      },
      "execution_count": null,
      "outputs": []
    },
    {
      "cell_type": "code",
      "source": [
        "lista_3[0]"
      ],
      "metadata": {
        "id": "lzuwrnIJ1rsZ"
      },
      "execution_count": null,
      "outputs": []
    },
    {
      "cell_type": "markdown",
      "source": [
        "\n",
        "\n",
        "---\n",
        "**Exemplo:** Adicionar/Remover elementos da `lista_3`.\n",
        "\n",
        "\n",
        "---\n",
        "\n",
        "\n"
      ],
      "metadata": {
        "id": "t1eLW4T62fai"
      }
    },
    {
      "cell_type": "code",
      "source": [
        "lista_3.append(\"Python\")\n",
        "lista_3"
      ],
      "metadata": {
        "id": "-55ezTuV2fao"
      },
      "execution_count": null,
      "outputs": []
    },
    {
      "cell_type": "code",
      "source": [
        "lista_3.remove(\"Python\")\n",
        "lista_3"
      ],
      "metadata": {
        "id": "rQ8K2q0K25UR"
      },
      "execution_count": null,
      "outputs": []
    },
    {
      "cell_type": "code",
      "source": [
        "lista_3.insert(3,\"Python\")\n",
        "lista_3"
      ],
      "metadata": {
        "id": "yNs2GtSU3GvS"
      },
      "execution_count": null,
      "outputs": []
    },
    {
      "cell_type": "code",
      "source": [
        "del lista_3[3]\n",
        "lista_3"
      ],
      "metadata": {
        "id": "AvVYUVpM3Pox"
      },
      "execution_count": null,
      "outputs": []
    },
    {
      "cell_type": "markdown",
      "source": [
        "### 2.3 Tuples `(a,b,c)`\n",
        "\n",
        "Um tuple é definido por parênteses `( )` com elementos separados por vírgulas. Portanto, é semelhante às listas. Porém, os elementos de um tuple são **imutáveis**, enquanto os elementos das listas podem ser alterados."
      ],
      "metadata": {
        "id": "n--Jqpr7udBi"
      }
    },
    {
      "cell_type": "markdown",
      "source": [
        "\n",
        "\n",
        "---\n",
        "**Exemplo:** Definir um tuple e tentar modificar seus elementos.\n",
        "\n",
        "\n",
        "---\n",
        "\n",
        "\n"
      ],
      "metadata": {
        "id": "9PuzbObF3W3W"
      }
    },
    {
      "cell_type": "code",
      "source": [
        "tuple_1 = (1,2,3,4)\n",
        "tuple_1"
      ],
      "metadata": {
        "id": "Wopw7-gJ2xQW"
      },
      "execution_count": null,
      "outputs": []
    },
    {
      "cell_type": "code",
      "source": [
        "tuple_1[2]=1"
      ],
      "metadata": {
        "id": "dVfLe_x67EE5"
      },
      "execution_count": null,
      "outputs": []
    },
    {
      "cell_type": "code",
      "source": [
        "lista_1[2]=1\n",
        "lista_1"
      ],
      "metadata": {
        "id": "Jq6TFypp7KLC"
      },
      "execution_count": null,
      "outputs": []
    },
    {
      "cell_type": "markdown",
      "source": [
        "\n",
        "\n",
        "---\n",
        "**Exemplo:** Fatiar e determinar o comprimento de tuples.\n",
        "\n",
        "\n",
        "---\n",
        "\n",
        "\n"
      ],
      "metadata": {
        "id": "mJlOCvwr3pmm"
      }
    },
    {
      "cell_type": "code",
      "source": [
        "tuple_1[1:3]"
      ],
      "metadata": {
        "id": "qdoq82C13pmo"
      },
      "execution_count": null,
      "outputs": []
    },
    {
      "cell_type": "code",
      "source": [
        "len(tuple_1)"
      ],
      "metadata": {
        "id": "Ul994PPoC3oz"
      },
      "execution_count": null,
      "outputs": []
    },
    {
      "cell_type": "markdown",
      "source": [
        "### 2.4 Conjuntos (*Sets*) `{a,b,c}`\n",
        "\n",
        "Conjuntos são coleções desordenadas sem duplicatas. São definidos por chaves `{ }` e os elementos separados por vírgulas."
      ],
      "metadata": {
        "id": "ulimeRHjuc2b"
      }
    },
    {
      "cell_type": "code",
      "source": [
        "{3,2,5,6,7,1,2,2,3,4}"
      ],
      "metadata": {
        "id": "g7XZ1G5J2xsu"
      },
      "execution_count": null,
      "outputs": []
    },
    {
      "cell_type": "markdown",
      "source": [
        "\n",
        "\n",
        "---\n",
        "**Exemplo:** Encontre os elementos únicos em uma lista, um tuple e um string usando a função `set()`.\n",
        "\n",
        "\n",
        "---\n",
        "\n",
        "\n"
      ],
      "metadata": {
        "id": "bV0KOg1-3XXO"
      }
    },
    {
      "cell_type": "code",
      "source": [
        "set_1 = set([1,2,2,3,2,1,2])\n",
        "set_1"
      ],
      "metadata": {
        "id": "_tMeY7fy3qSH"
      },
      "execution_count": null,
      "outputs": []
    },
    {
      "cell_type": "code",
      "source": [
        "set_2 = set((2,4,6,5,2))\n",
        "set_2"
      ],
      "metadata": {
        "id": "fgi5t6KrE8RI"
      },
      "execution_count": null,
      "outputs": []
    },
    {
      "cell_type": "code",
      "source": [
        "set_3 = set(\"Banana\")\n",
        "set_3"
      ],
      "metadata": {
        "id": "-ii4vCBPE7tY"
      },
      "execution_count": null,
      "outputs": []
    },
    {
      "cell_type": "markdown",
      "source": [
        "### 2.5 Dicionários `{key:value}`\n",
        "\n",
        "Dicionários são definidos por chaves `{ }` e os elementos separados por vírgulas, mas cada elemento é um par `chave:valor`. Ao invés de utilizar uma sequência de números para indexar os elementos (i.e., strings, listas e tuples) os dicionários usam \"palavras\". As chaves podem ser strings, números, ou até tuples (mas não listas)."
      ],
      "metadata": {
        "id": "rWC4sxyOvuV9"
      }
    },
    {
      "cell_type": "code",
      "source": [
        "dict_1 = {\"metano\":16.04, \"etano\":30.07, \"propano\":44.097}\n",
        "dict_1"
      ],
      "metadata": {
        "id": "mlBk9M0SFp5E"
      },
      "execution_count": null,
      "outputs": []
    },
    {
      "cell_type": "markdown",
      "source": [
        "\n",
        "\n",
        "---\n",
        "**Exemplo:** Obter o elemento \"etano\" do dicionário `dict_1`.\n",
        "\n",
        "\n",
        "---\n",
        "\n",
        "\n"
      ],
      "metadata": {
        "id": "M3Ue-RM43X0f"
      }
    },
    {
      "cell_type": "code",
      "source": [
        "dict_1[\"etano\"]"
      ],
      "metadata": {
        "id": "T0sRFOU92yJ2"
      },
      "execution_count": null,
      "outputs": []
    },
    {
      "cell_type": "markdown",
      "source": [
        "\n",
        "\n",
        "---\n",
        "**Exemplo:** Obter todas as chaves e valores do `dict_1`.\n",
        "\n",
        "\n",
        "---\n",
        "\n",
        "\n"
      ],
      "metadata": {
        "id": "2BxFJDXx3rEu"
      }
    },
    {
      "cell_type": "code",
      "source": [
        "dict_1.keys()"
      ],
      "metadata": {
        "id": "iTW6CKHE3rEw"
      },
      "execution_count": null,
      "outputs": []
    },
    {
      "cell_type": "code",
      "source": [
        "dict_1.values()"
      ],
      "metadata": {
        "id": "IB_Yw6guHLFh"
      },
      "execution_count": null,
      "outputs": []
    },
    {
      "cell_type": "markdown",
      "source": [
        "\n",
        "\n",
        "---\n",
        "**Exemplo:** Definir um dicionário vazio `IUPAC` e adicionar compostos.\n",
        "\n",
        "\n",
        "---\n",
        "\n",
        "\n"
      ],
      "metadata": {
        "id": "qkS8lcctIEyb"
      }
    },
    {
      "cell_type": "code",
      "source": [
        "IUPAC = {}\n",
        "IUPAC[\"metanol\"]= 32.04\n",
        "IUPAC"
      ],
      "metadata": {
        "id": "T80Aby62IEyh"
      },
      "execution_count": null,
      "outputs": []
    },
    {
      "cell_type": "code",
      "source": [
        "IUPAC[\"etanol\"]=46.08\n",
        "IUPAC"
      ],
      "metadata": {
        "id": "KeEnLmn9Inzg"
      },
      "execution_count": null,
      "outputs": []
    },
    {
      "cell_type": "markdown",
      "source": [
        "###2.6 Numpy Arrays `np.array`"
      ],
      "metadata": {
        "id": "cKuCx8R4vuJ0"
      }
    },
    {
      "cell_type": "markdown",
      "source": [
        "\n",
        "\n",
        "---\n",
        "**Exemplo:**\n",
        "\n",
        "\n",
        "---\n",
        "\n",
        "\n"
      ],
      "metadata": {
        "id": "tZqYS2e93YPu"
      }
    },
    {
      "cell_type": "code",
      "source": [],
      "metadata": {
        "id": "g6tImGhA2yoO"
      },
      "execution_count": null,
      "outputs": []
    },
    {
      "cell_type": "markdown",
      "source": [
        "\n",
        "\n",
        "---\n",
        "**Exemplo:**\n",
        "\n",
        "\n",
        "---\n",
        "\n",
        "\n"
      ],
      "metadata": {
        "id": "GTSUqx5e3r3m"
      }
    },
    {
      "cell_type": "code",
      "source": [],
      "metadata": {
        "id": "CPxoDJtH3r3n"
      },
      "execution_count": null,
      "outputs": []
    },
    {
      "cell_type": "markdown",
      "source": [
        "## 3. Funções"
      ],
      "metadata": {
        "id": "4iVTkC-HvtAr"
      }
    },
    {
      "cell_type": "markdown",
      "source": [
        "### 3.1 Embutidas (*Built-In*)"
      ],
      "metadata": {
        "id": "tAVHn-Y6xL3n"
      }
    },
    {
      "cell_type": "markdown",
      "source": [
        "\n",
        "\n",
        "---\n",
        "**Exemplo:**\n",
        "\n",
        "\n",
        "---\n",
        "\n",
        "\n"
      ],
      "metadata": {
        "id": "PKBKEHmB3Y5m"
      }
    },
    {
      "cell_type": "code",
      "source": [],
      "metadata": {
        "id": "A4M9aJwt2zJm"
      },
      "execution_count": null,
      "outputs": []
    },
    {
      "cell_type": "markdown",
      "source": [
        "\n",
        "\n",
        "---\n",
        "**Exemplo:**\n",
        "\n",
        "\n",
        "---\n",
        "\n",
        "\n"
      ],
      "metadata": {
        "id": "sMrINQzd3tp-"
      }
    },
    {
      "cell_type": "code",
      "source": [],
      "metadata": {
        "id": "gqUxvSDD3tqE"
      },
      "execution_count": null,
      "outputs": []
    },
    {
      "cell_type": "markdown",
      "source": [
        "### 3.2 Definidas `def`"
      ],
      "metadata": {
        "id": "9TapraSbxLsH"
      }
    },
    {
      "cell_type": "markdown",
      "source": [
        "\n",
        "\n",
        "---\n",
        "**Exemplo:**\n",
        "\n",
        "\n",
        "---\n",
        "\n",
        "\n"
      ],
      "metadata": {
        "id": "augNQhPo3ZTm"
      }
    },
    {
      "cell_type": "code",
      "source": [],
      "metadata": {
        "id": "hDNnmRK52zs-"
      },
      "execution_count": null,
      "outputs": []
    },
    {
      "cell_type": "markdown",
      "source": [
        "\n",
        "\n",
        "---\n",
        "**Exemplo:**\n",
        "\n",
        "\n",
        "---\n",
        "\n",
        "\n"
      ],
      "metadata": {
        "id": "451iYj2Q3vIW"
      }
    },
    {
      "cell_type": "code",
      "source": [],
      "metadata": {
        "id": "BdIGZ01t3vIj"
      },
      "execution_count": null,
      "outputs": []
    },
    {
      "cell_type": "markdown",
      "source": [
        "### 3.3 Lambda `lambda`"
      ],
      "metadata": {
        "id": "TbXk2aoVxLh3"
      }
    },
    {
      "cell_type": "markdown",
      "source": [
        "\n",
        "\n",
        "---\n",
        "**Exemplo:**\n",
        "\n",
        "\n",
        "---\n",
        "\n",
        "\n"
      ],
      "metadata": {
        "id": "wTz-EVem3ZrG"
      }
    },
    {
      "cell_type": "code",
      "source": [],
      "metadata": {
        "id": "U77E7yyg20Nm"
      },
      "execution_count": null,
      "outputs": []
    },
    {
      "cell_type": "markdown",
      "source": [
        "\n",
        "\n",
        "---\n",
        "**Exemplo:**\n",
        "\n",
        "\n",
        "---\n",
        "\n",
        "\n"
      ],
      "metadata": {
        "id": "Q1luXL673wbu"
      }
    },
    {
      "cell_type": "code",
      "source": [],
      "metadata": {
        "id": "ivgDu8PG3wbz"
      },
      "execution_count": null,
      "outputs": []
    },
    {
      "cell_type": "markdown",
      "source": [
        "## 4. Local vs Global"
      ],
      "metadata": {
        "id": "MD1O2sB0yvix"
      }
    },
    {
      "cell_type": "markdown",
      "source": [
        "### 4.1 Variáveis Locais e Globais"
      ],
      "metadata": {
        "id": "5lfTxum1zRDS"
      }
    },
    {
      "cell_type": "markdown",
      "source": [
        "\n",
        "\n",
        "---\n",
        "**Exemplo:**\n",
        "\n",
        "\n",
        "---\n",
        "\n",
        "\n"
      ],
      "metadata": {
        "id": "ythHo9hG3aKd"
      }
    },
    {
      "cell_type": "code",
      "source": [],
      "metadata": {
        "id": "uIv_2vv321kv"
      },
      "execution_count": null,
      "outputs": []
    },
    {
      "cell_type": "markdown",
      "source": [
        "\n",
        "\n",
        "---\n",
        "**Exemplo:**\n",
        "\n",
        "\n",
        "---\n",
        "\n",
        "\n"
      ],
      "metadata": {
        "id": "wcUrQVRK3xUx"
      }
    },
    {
      "cell_type": "code",
      "source": [],
      "metadata": {
        "id": "UvCtMrtY3xU5"
      },
      "execution_count": null,
      "outputs": []
    },
    {
      "cell_type": "markdown",
      "source": [
        "### 4.2 Funções Aninhadas (*Nested*)"
      ],
      "metadata": {
        "id": "rvemzXMHzVCL"
      }
    },
    {
      "cell_type": "markdown",
      "source": [
        "\n",
        "\n",
        "---\n",
        "**Exemplo:**\n",
        "\n",
        "\n",
        "---\n",
        "\n",
        "\n"
      ],
      "metadata": {
        "id": "Qa6mzgz_3age"
      }
    },
    {
      "cell_type": "code",
      "source": [],
      "metadata": {
        "id": "0P_6BmhXvLC-"
      },
      "execution_count": null,
      "outputs": []
    },
    {
      "cell_type": "markdown",
      "source": [
        "\n",
        "\n",
        "---\n",
        "**Exemplo:**\n",
        "\n",
        "\n",
        "---\n",
        "\n",
        "\n"
      ],
      "metadata": {
        "id": "SXIVDicE3x_Z"
      }
    },
    {
      "cell_type": "code",
      "source": [],
      "metadata": {
        "id": "FRyfGkvc3x_f"
      },
      "execution_count": null,
      "outputs": []
    }
  ]
}