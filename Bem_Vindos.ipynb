{
  "nbformat": 4,
  "nbformat_minor": 0,
  "metadata": {
    "colab": {
      "provenance": [],
      "authorship_tag": "ABX9TyNoV3/rSFiJEUJzmAD68ay4",
      "include_colab_link": true
    },
    "kernelspec": {
      "name": "python3",
      "display_name": "Python 3"
    },
    "language_info": {
      "name": "python"
    }
  },
  "cells": [
    {
      "cell_type": "markdown",
      "metadata": {
        "id": "view-in-github",
        "colab_type": "text"
      },
      "source": [
        "<a href=\"https://colab.research.google.com/github/PedroConst/EQE-358-Metodos-Numericos/blob/main/Bem_Vindos.ipynb\" target=\"_parent\"><img src=\"https://colab.research.google.com/assets/colab-badge.svg\" alt=\"Open In Colab\"/></a>"
      ]
    },
    {
      "cell_type": "markdown",
      "source": [
        "# Bem-Vindos à EQE 358 - Métodos Numéricos\n",
        "\n",
        "Este é um teste para saber se é fácil importar um notebook público e exportar para o Github\n",
        "\n"
      ],
      "metadata": {
        "id": "xCmAABQlPyEc"
      }
    },
    {
      "cell_type": "code",
      "execution_count": 1,
      "metadata": {
        "id": "62butYrSPUkC"
      },
      "outputs": [],
      "source": [
        "from math import *\n",
        "import matplotlib as plt\n"
      ]
    },
    {
      "cell_type": "markdown",
      "source": [],
      "metadata": {
        "id": "pGCzliJ4PtRc"
      }
    }
  ]
}