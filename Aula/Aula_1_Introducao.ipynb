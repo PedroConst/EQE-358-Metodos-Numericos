{
  "nbformat": 4,
  "nbformat_minor": 0,
  "metadata": {
    "colab": {
      "provenance": [],
      "authorship_tag": "ABX9TyMTA4lB7hoZkvFdxv9Z87Y/",
      "include_colab_link": true
    },
    "kernelspec": {
      "name": "python3",
      "display_name": "Python 3"
    },
    "language_info": {
      "name": "python"
    }
  },
  "cells": [
    {
      "cell_type": "markdown",
      "metadata": {
        "id": "view-in-github",
        "colab_type": "text"
      },
      "source": [
        "<a href=\"https://colab.research.google.com/github/PedroConst/EQE-358-Metodos-Numericos/blob/main/Aula/Aula_1_Introducao.ipynb\" target=\"_parent\"><img src=\"https://colab.research.google.com/assets/colab-badge.svg\" alt=\"Open In Colab\"/></a>"
      ]
    },
    {
      "cell_type": "markdown",
      "source": [
        "# Bem-Vindos à EQE 358 - Métodos Numéricos\n",
        "\n",
        "Nesta primeira aula vamos aprender as diferentes maneiras de utilizar o Python como uma calculadora simples para operações comuns da matemática.  \n",
        "\n",
        "\n",
        "\n",
        "\n"
      ],
      "metadata": {
        "id": "xCmAABQlPyEc"
      }
    },
    {
      "cell_type": "markdown",
      "source": [
        "## 1. Tipos de Dados\n",
        "\n",
        "\n",
        "\n",
        "*   **`int`**: Números inteiros (ex.: $1, 2, 3, ...$)\n",
        "*   **`float`**: Números decimais (ex.: $ 2.5, 7.56, 3.1415...$)\n",
        "*   **`complex`**: Números complexos (ex.: $ 5+3j, 5-3j$)\n",
        "\n",
        "<br>\n",
        "\n",
        "---\n",
        "\n",
        "\n",
        "*Atenção! Python representa a parte imaginária por $j$ ao invés de $i$*\n",
        "\n",
        "\n",
        "---\n",
        "\n",
        "<br>\n",
        "\n",
        "Você pode usar a função `type()` para descobrir o tipo de um dado."
      ],
      "metadata": {
        "id": "jY-aJXiSEn0N"
      }
    },
    {
      "cell_type": "code",
      "source": [
        "type(1234)"
      ],
      "metadata": {
        "id": "EHTpNKJ1HG2X"
      },
      "execution_count": null,
      "outputs": []
    },
    {
      "cell_type": "code",
      "source": [
        "type(3.1415)"
      ],
      "metadata": {
        "id": "froPBzibHK9_"
      },
      "execution_count": null,
      "outputs": []
    },
    {
      "cell_type": "code",
      "source": [
        "type(5+3j)"
      ],
      "metadata": {
        "id": "2g6KeGgMHOjX"
      },
      "execution_count": null,
      "outputs": []
    },
    {
      "cell_type": "markdown",
      "source": [
        "## 2. Operações Aritméticas\n",
        "\n",
        "\n",
        "\n",
        "---\n",
        "\n",
        "\n",
        "**Exercício:** Calcule a soma $9+5$.\n",
        "\n",
        "\n",
        "---"
      ],
      "metadata": {
        "id": "EeXXrkulEhK2"
      }
    },
    {
      "cell_type": "code",
      "source": [
        "9+5"
      ],
      "metadata": {
        "id": "FKrh1DGgtf9Z"
      },
      "execution_count": null,
      "outputs": []
    },
    {
      "cell_type": "markdown",
      "source": [
        "---\n",
        "\n",
        "\n",
        "**Exercício:** Calcule a multiplicação $7 \\times 8$.\n",
        "\n",
        "\n",
        "---"
      ],
      "metadata": {
        "id": "X3EzMwHeyDXf"
      }
    },
    {
      "cell_type": "code",
      "source": [
        "7*8"
      ],
      "metadata": {
        "id": "l0dj0LVYyPDu"
      },
      "execution_count": null,
      "outputs": []
    },
    {
      "cell_type": "markdown",
      "source": [
        "---\n",
        "\n",
        "\n",
        "**Exercício:** Calcule a divisão $ 72 \\div 3$.\n",
        "\n",
        "\n",
        "---"
      ],
      "metadata": {
        "id": "wj0PM3AFy4M_"
      }
    },
    {
      "cell_type": "code",
      "source": [
        "72/3"
      ],
      "metadata": {
        "id": "T_VoXj4kzGAX"
      },
      "execution_count": null,
      "outputs": []
    },
    {
      "cell_type": "markdown",
      "source": [
        "---\n",
        "\n",
        "\n",
        "**Exercício:** Calcule a exponenciação $2^{10}$.\n",
        "\n",
        "\n",
        "---"
      ],
      "metadata": {
        "id": "rlB2SrVNVMJS"
      }
    },
    {
      "cell_type": "code",
      "source": [
        "2**10"
      ],
      "metadata": {
        "id": "ie5FqgdMVbwJ"
      },
      "execution_count": null,
      "outputs": []
    },
    {
      "cell_type": "markdown",
      "source": [
        "\n",
        "\n",
        "---\n",
        "\n",
        "\n",
        "**Exercício:** Calcule $\\frac{3 × 4}{(2^2)+4/2}$\n",
        "\n",
        "\n",
        "---\n",
        "\n"
      ],
      "metadata": {
        "id": "TnmDQ2CruAWB"
      }
    },
    {
      "cell_type": "code",
      "source": [
        "(3*4)/(2**2+4/2)"
      ],
      "metadata": {
        "id": "r58PEv-7t8jA"
      },
      "execution_count": null,
      "outputs": []
    },
    {
      "cell_type": "markdown",
      "source": [
        "\n",
        "\n",
        "---\n",
        "\n",
        "\n",
        "**Exercício:** Calcule $3$ dividido por $4$, depois multiplique o resultado por $2$, depois eleve o resultado ao cubo.\n",
        "\n",
        "\n",
        "---\n",
        "\n"
      ],
      "metadata": {
        "id": "mnxt4XGDvSpD"
      }
    },
    {
      "cell_type": "code",
      "source": [
        "3/4"
      ],
      "metadata": {
        "id": "_cgNnh-BvlsZ"
      },
      "execution_count": null,
      "outputs": []
    },
    {
      "cell_type": "code",
      "source": [
        "_*2"
      ],
      "metadata": {
        "id": "ebLD-yxJvoHQ"
      },
      "execution_count": null,
      "outputs": []
    },
    {
      "cell_type": "code",
      "source": [
        "_**3"
      ],
      "metadata": {
        "id": "M4N2k2rcvnxR"
      },
      "execution_count": null,
      "outputs": []
    },
    {
      "cell_type": "markdown",
      "source": [
        "---\n",
        "\n",
        "\n",
        "**DICA!** O Python vai indicar um `ZeroDivisionError` quando a expressão $1/0$ aparecer.\n",
        "\n",
        "\n",
        "---\n",
        "\n",
        "\n",
        "\n",
        "\n",
        "\n"
      ],
      "metadata": {
        "id": "BmExh9PRwPLU"
      }
    },
    {
      "cell_type": "code",
      "source": [
        "1/0"
      ],
      "metadata": {
        "id": "OnA2wdPqz1Kh"
      },
      "execution_count": null,
      "outputs": []
    },
    {
      "cell_type": "markdown",
      "source": [
        "\n",
        "\n",
        "---\n",
        "\n",
        "**Exercício:** Calcule a soma $(5+3j)+(7-j)$\n",
        "\n",
        "\n",
        "---\n",
        "\n"
      ],
      "metadata": {
        "id": "IdC0vuwKHc02"
      }
    },
    {
      "cell_type": "code",
      "source": [
        "(5+3j) + (7-1j)"
      ],
      "metadata": {
        "id": "tKIylNMpHcYW"
      },
      "execution_count": null,
      "outputs": []
    },
    {
      "cell_type": "code",
      "source": [
        "complex(5,3)+complex(7,-1)"
      ],
      "metadata": {
        "id": "uGx_8UavIWGW"
      },
      "execution_count": null,
      "outputs": []
    },
    {
      "cell_type": "markdown",
      "source": [
        "## 3. Notação Científica\n",
        "\n",
        "A notação científica pode ser utilizada através da letra $e$ entre dois números. Por exemplo, $1e6 = 1,000,000$, enquanto $1e-3=0.001$.\n",
        "\n",
        "<br>\n",
        "\n",
        "---\n",
        "**Exercício:**  Calcule o número de segundos em 3 anos usando notação científica.\n",
        "\n",
        "---\n",
        "\n",
        "\n"
      ],
      "metadata": {
        "id": "Zzq2mx2x2qpb"
      }
    },
    {
      "cell_type": "code",
      "source": [
        "(3e0)*(3.65e2)*(2.4e1)*(3.6e3)"
      ],
      "metadata": {
        "id": "teWVafwt4WNB"
      },
      "execution_count": null,
      "outputs": []
    },
    {
      "cell_type": "markdown",
      "source": [
        "## 4. Módulo Math\n",
        "\n",
        "Para utilizar algumas funções aritméticas básicas como `sin`, `cos`, `tan`, `asin`, `acos`,`exp`, `log`, `log10` ou `sqrt`, é necessário importar um módulo chamado `math`."
      ],
      "metadata": {
        "id": "UEHxsb9ZI5HX"
      }
    },
    {
      "cell_type": "code",
      "source": [
        "import math"
      ],
      "metadata": {
        "id": "qV2lJ4qqKSAJ"
      },
      "execution_count": null,
      "outputs": []
    },
    {
      "cell_type": "markdown",
      "source": [
        "Para executar essas funções, basta utilizar o comando adequado seguindo o formato `modulo.funcao`"
      ],
      "metadata": {
        "id": "5T6EmB8bNvOA"
      }
    },
    {
      "cell_type": "markdown",
      "source": [
        "\n",
        "\n",
        "---\n",
        "\n",
        "**Exercício:** Calcule $\\sqrt{4}$ usando a função `math.sqrt()`\n",
        "\n",
        "---\n",
        "\n"
      ],
      "metadata": {
        "id": "aseF4OEzKdJn"
      }
    },
    {
      "cell_type": "code",
      "source": [
        "math.sqrt(4)"
      ],
      "metadata": {
        "id": "dN92WdgFKWzK"
      },
      "execution_count": null,
      "outputs": []
    },
    {
      "cell_type": "markdown",
      "source": [
        "---\n",
        "\n",
        "**Exercício:** Calcule $sin(\\pi/2)$. Observe que `math.pi`$=\\pi$\n",
        "\n",
        "---"
      ],
      "metadata": {
        "id": "0LPqX9_QKw0X"
      }
    },
    {
      "cell_type": "code",
      "source": [
        "math.sin(math.pi/2)"
      ],
      "metadata": {
        "id": "S6_34BgDKa8P"
      },
      "execution_count": null,
      "outputs": []
    },
    {
      "cell_type": "markdown",
      "source": [
        "---\n",
        "\n",
        "**Exercício:** Calcule $e^{\\frac{3}{4}}$ usando a função `math.exp()`.\n",
        "\n",
        "---\n"
      ],
      "metadata": {
        "id": "NoBdQgi9NNXY"
      }
    },
    {
      "cell_type": "code",
      "source": [
        "math.exp(3/4)"
      ],
      "metadata": {
        "id": "uyvPC32JM42g"
      },
      "execution_count": null,
      "outputs": []
    },
    {
      "cell_type": "markdown",
      "source": [
        "---\n",
        "\n",
        "**Exercício:** Calcule $e^{\\ln10}$.\n",
        "\n",
        "---\n"
      ],
      "metadata": {
        "id": "DtIcfk7mLegA"
      }
    },
    {
      "cell_type": "code",
      "source": [
        "math.exp(math.log(10))"
      ],
      "metadata": {
        "id": "lN0bV0oILHzH"
      },
      "execution_count": null,
      "outputs": []
    },
    {
      "cell_type": "markdown",
      "source": [
        "Observe que a função `math.log` em Python é o logaritmo neperiano (ou natural) $\\log_{e}$, enquanto o $\\log_{10}$ é dado pela função `math.log10`.  "
      ],
      "metadata": {
        "id": "v4Iw9XWIM4Cg"
      }
    },
    {
      "cell_type": "markdown",
      "source": [
        "\n",
        "\n",
        "---\n",
        "**Exercício:** Calcule $1/\\infty$ usando a função `math.inf`\n",
        "\n",
        "---\n",
        "\n"
      ],
      "metadata": {
        "id": "Ewz2WtHjPh9A"
      }
    },
    {
      "cell_type": "code",
      "source": [
        "1/math.inf"
      ],
      "metadata": {
        "id": "cf1bZgA5Ng2w"
      },
      "execution_count": null,
      "outputs": []
    },
    {
      "cell_type": "markdown",
      "source": [
        "---\n",
        "**Exercício:** Calcule $\\infty \\times 2$ usando a função `math.inf`\n",
        "\n",
        "---"
      ],
      "metadata": {
        "id": "wqUyFDSUS5YR"
      }
    },
    {
      "cell_type": "code",
      "source": [
        "math.inf * 2"
      ],
      "metadata": {
        "id": "HTPtmwDoP-in"
      },
      "execution_count": null,
      "outputs": []
    },
    {
      "cell_type": "markdown",
      "source": [
        "---\n",
        "**Exercício:** Calcule $\\infty/\\infty$ usando a função `math.inf`\n",
        "\n",
        "---"
      ],
      "metadata": {
        "id": "X5OQDGN6TBoB"
      }
    },
    {
      "cell_type": "code",
      "source": [
        "math.inf/math.inf"
      ],
      "metadata": {
        "id": "TgzaZfKpQAoW"
      },
      "execution_count": null,
      "outputs": []
    },
    {
      "cell_type": "markdown",
      "source": [
        "## 5. Expressões Lógicas e Operadores\n",
        "\n",
        "Uma expressão lógica é uma proposição que pode ser `True` (verdadeira) ou `False` (falsa). Esse tipo de dado é chamado de `boolean` (booleano). Os operadores de **comparação** são usados para construir expressões lógicas que comparam os valores de dois números ou variáveis.\n",
        "\n",
        "Operador   | Descrição        | Exemplo    | Resultados  \n",
        "-----------|----------------- |----------- |----------------\n",
        "   `>`     | `maior`          | `a > b`    | `True`\n",
        "   `>=`    | `maior ou igual` | `a >= b`   | `True`\n",
        "   `<`     | `menor `         | `a < b`    | `True`\n",
        "   `<=`    | `menor ou igual` | `a <= b`   | `True`\n",
        "   `!=`    | `não igual`      | `a != b`   | `True`\n",
        "   `==`    | `igual`          | `a == b`   | `True`\n"
      ],
      "metadata": {
        "id": "7Dc7rCwY1mXX"
      }
    },
    {
      "cell_type": "code",
      "source": [
        "5 == 4"
      ],
      "metadata": {
        "id": "MVtE1qUuSnwy"
      },
      "execution_count": null,
      "outputs": []
    },
    {
      "cell_type": "code",
      "source": [
        "2 < 3"
      ],
      "metadata": {
        "id": "DkTBbeMl8yqh"
      },
      "execution_count": null,
      "outputs": []
    },
    {
      "cell_type": "code",
      "source": [
        "(1 + 3) >= (2 + 5)"
      ],
      "metadata": {
        "id": "glkr5u6l87Jh"
      },
      "execution_count": null,
      "outputs": []
    },
    {
      "cell_type": "code",
      "source": [
        "(3 > 2) + (5 > 4)"
      ],
      "metadata": {
        "id": "wF3l4i_I9F-I"
      },
      "execution_count": null,
      "outputs": []
    },
    {
      "cell_type": "markdown",
      "source": [
        "Os operadores **lógicos** são os que relacionam duas ou mais expressões lógicas, ou negam a expressão lógica.\n",
        "\n",
        "\n",
        "*   **`and`**: `True` se ambas as expressões são `True` (Adição)\n",
        "*   **`or`**: `True` se uma expressão ou outra for `True` (Alternação)\n",
        "*   **`not`**: `True` se a expressão for `False` (Negação)\n",
        "\n"
      ],
      "metadata": {
        "id": "5GzUnXfn6xyY"
      }
    },
    {
      "cell_type": "code",
      "source": [
        "(3 > 2) and (5 > 4)"
      ],
      "metadata": {
        "id": "vBEnkT8M9Scx"
      },
      "execution_count": null,
      "outputs": []
    },
    {
      "cell_type": "code",
      "source": [
        "(5 > 2) or (10 < 4)"
      ],
      "metadata": {
        "id": "juCzwMrY9Ve6"
      },
      "execution_count": null,
      "outputs": []
    },
    {
      "cell_type": "code",
      "source": [
        "not (5 > 2)"
      ],
      "metadata": {
        "id": "31SSyBJO-pPR"
      },
      "execution_count": null,
      "outputs": []
    },
    {
      "cell_type": "markdown",
      "source": [
        "# Exercícios Extras (Opcional)\n",
        "\n",
        "Os exercícios abaixo são sugeridos para que você pratique a escrita de expressões matemáticas em Python.\n"
      ],
      "metadata": {
        "id": "FNPuO7nvbUcp"
      }
    },
    {
      "cell_type": "markdown",
      "source": [
        "\n",
        "\n",
        "---\n",
        "**Exercício:** Calcule a área do triângulo de base 5 e altura 7.\n",
        "\n",
        "\n",
        "---\n",
        "\n",
        "$A= (b \\times h)/2$\n",
        "\n"
      ],
      "metadata": {
        "id": "locrj7GHctDP"
      }
    },
    {
      "cell_type": "code",
      "source": [],
      "metadata": {
        "id": "pBtoh1rQcZxH"
      },
      "execution_count": null,
      "outputs": []
    },
    {
      "cell_type": "markdown",
      "source": [
        "---\n",
        "**Exercício:** Calcule a área superficial e o volume de um cilindro com raio $R=4$ e altura $h = 10$.\n",
        "\n",
        "\n",
        "---\n",
        "$A = 2\\pi R(h + R)$ <br>\n",
        "$V = \\pi R^2 h$"
      ],
      "metadata": {
        "id": "ZCytmsz-dQZY"
      }
    },
    {
      "cell_type": "code",
      "source": [],
      "metadata": {
        "id": "OczJuY-hfPrM"
      },
      "execution_count": null,
      "outputs": []
    },
    {
      "cell_type": "code",
      "source": [],
      "metadata": {
        "id": "1NaybruWfX_l"
      },
      "execution_count": null,
      "outputs": []
    },
    {
      "cell_type": "markdown",
      "source": [
        "---\n",
        "**Exercício:** Calcule o valor de $7!$\n",
        "\n",
        "\n",
        "---"
      ],
      "metadata": {
        "id": "T6_9r_LVfowv"
      }
    },
    {
      "cell_type": "code",
      "source": [],
      "metadata": {
        "id": "gSkns0A-f8KA"
      },
      "execution_count": null,
      "outputs": []
    },
    {
      "cell_type": "markdown",
      "source": [
        "---\n",
        "**Exercício:** Calcule o valor de $\\cosh (x)$ para $x=2$, usando a definição com exponenciais e usando a função `cosh` do módulo `math`.\n",
        "\n",
        "\n",
        "---\n",
        "\n",
        "$\\cosh(x)=(e^{x}+e^{-x})/2$"
      ],
      "metadata": {
        "id": "WS6JHKzmf_ZH"
      }
    },
    {
      "cell_type": "code",
      "source": [],
      "metadata": {
        "id": "CAeoq0uMgA-v"
      },
      "execution_count": null,
      "outputs": []
    },
    {
      "cell_type": "code",
      "source": [],
      "metadata": {
        "id": "qDjrrI3IiFvz"
      },
      "execution_count": null,
      "outputs": []
    },
    {
      "cell_type": "markdown",
      "source": [
        "---\n",
        "**Exercício:** Verifique que $\\sin^2(x) + \\cos^2(x)=1$ para os valores de $x=\\pi, \\frac{\\pi}{2}, \\frac{\\pi}{4}, \\frac{\\pi}{6}$\n",
        "\n",
        "\n",
        "---"
      ],
      "metadata": {
        "id": "sI7BYPcmiIvO"
      }
    },
    {
      "cell_type": "code",
      "source": [],
      "metadata": {
        "id": "2AatBgv0i2cd"
      },
      "execution_count": null,
      "outputs": []
    },
    {
      "cell_type": "markdown",
      "source": [
        "---\n",
        "**Exercício:** Calcule o valor de $\\cos 36°$\n",
        "\n",
        "\n",
        "---\n",
        "\n"
      ],
      "metadata": {
        "id": "lMPUG_S-jJ2s"
      }
    },
    {
      "cell_type": "code",
      "source": [],
      "metadata": {
        "id": "MjJGYUt2jtWs"
      },
      "execution_count": null,
      "outputs": []
    }
  ]
}