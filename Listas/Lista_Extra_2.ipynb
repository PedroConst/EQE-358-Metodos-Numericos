{
  "nbformat": 4,
  "nbformat_minor": 0,
  "metadata": {
    "colab": {
      "provenance": [],
      "authorship_tag": "ABX9TyNdhTqnb/QYndKICTu6dgzl",
      "include_colab_link": true
    },
    "kernelspec": {
      "name": "python3",
      "display_name": "Python 3"
    },
    "language_info": {
      "name": "python"
    }
  },
  "cells": [
    {
      "cell_type": "markdown",
      "metadata": {
        "id": "view-in-github",
        "colab_type": "text"
      },
      "source": [
        "<a href=\"https://colab.research.google.com/github/PedroConst/EQE-358-Metodos-Numericos/blob/main/Listas/Lista_Extra_2.ipynb\" target=\"_parent\"><img src=\"https://colab.research.google.com/assets/colab-badge.svg\" alt=\"Open In Colab\"/></a>"
      ]
    },
    {
      "cell_type": "markdown",
      "source": [
        "# Lista 02: Exercícios Extras (Opcional)\n",
        "\n",
        "Os exercícios abaixo são sugeridos para que você pratique a escrita de expressões matemáticas em Python. Essa lista **não contabilizará** para a nota final do aluno na disciplina. Porém, a lista é recomendada aos que estão dando os primeiros passos na jornada da programação."
      ],
      "metadata": {
        "id": "G9PDewa92ONI"
      }
    },
    {
      "cell_type": "markdown",
      "source": [
        "\n",
        "\n",
        "---\n",
        "**Exercício 1:** Seja $x=5$ e $y=8$. Escreva uma linha de código que realize cada uma das operações a seguir:\n",
        "\n",
        "*   $u=2x+3y$\n",
        "*   $v=5xy$\n",
        "*   $w=7x/4y$\n",
        "*   $z=\\sin(x)$\n",
        "*   $r=8\\cos(y)$\n",
        "*   $s=5\\sin^2(xy)$\n",
        "*   $p=9x^y$\n",
        "\n",
        "---\n",
        "\n",
        "\n"
      ],
      "metadata": {
        "id": "DTn6CnlU3U6W"
      }
    },
    {
      "cell_type": "code",
      "source": [],
      "metadata": {
        "id": "uxqn6uvy8co-"
      },
      "execution_count": null,
      "outputs": []
    },
    {
      "cell_type": "markdown",
      "source": [
        "\n",
        "\n",
        "---\n",
        "**Exercício 2:** Calcule as mesmas operações do exercício anterior (elemento a elemento) para os vetores $x=[1,3,5,7,9,11]$ e $y=[2,4,6,8,10,12]$ .\n",
        "\n",
        "\n",
        "---\n",
        "\n",
        "\n"
      ],
      "metadata": {
        "id": "pyTEqAsc3_bX"
      }
    },
    {
      "cell_type": "code",
      "source": [],
      "metadata": {
        "id": "-FzJM1ZA-uAL"
      },
      "execution_count": null,
      "outputs": []
    },
    {
      "cell_type": "markdown",
      "source": [
        "\n",
        "\n",
        "---\n",
        "**Exercício 3:** Mostre todas as variáveis armazenadas no Jupyter Notebook após os exercícios anteriores. Em seguida, limpe todas as variáveis.\n",
        "\n",
        "\n",
        "---\n",
        "\n",
        "\n"
      ],
      "metadata": {
        "id": "kEDqMNAI3_yP"
      }
    },
    {
      "cell_type": "code",
      "source": [],
      "metadata": {
        "id": "9pf6XA9w3_yQ"
      },
      "execution_count": null,
      "outputs": []
    },
    {
      "cell_type": "markdown",
      "source": [
        "\n",
        "\n",
        "---\n",
        "**Exercício 4:** Gere um array de tamanho $50$ com pontos igualmente espaçados entre $-5$ e $5$.\n",
        "\n",
        "\n",
        "---\n",
        "\n",
        "\n"
      ],
      "metadata": {
        "id": "Uk4TdX1R3__M"
      }
    },
    {
      "cell_type": "code",
      "source": [],
      "metadata": {
        "id": "danO0LIZ3__N"
      },
      "execution_count": null,
      "outputs": []
    },
    {
      "cell_type": "markdown",
      "source": [
        "\n",
        "\n",
        "---\n",
        "**Exercício 5:** Crie uma matriz de zeros $4 \\times 4$ e modifique os elementos diagonais para transformar em uma matriz identidade.\n",
        "\n",
        "\n",
        "---\n",
        "\n",
        "\n"
      ],
      "metadata": {
        "id": "Dr-_ZtI84AMn"
      }
    },
    {
      "cell_type": "code",
      "source": [],
      "metadata": {
        "id": "6PRm4jay4AMn"
      },
      "execution_count": null,
      "outputs": []
    },
    {
      "cell_type": "markdown",
      "source": [
        "\n",
        "\n",
        "---\n",
        "**Exercício 6:** Implemente uma função que receba a temperatura em Celsius como entrada e calcule a temperatura em Farenheit como saída. Imprima o resultado na tela como:\n",
        "```python\n",
        "A temperatura X graus Celsius equivale a Y graus Farenheit.\n",
        "```\n",
        "\n",
        "---\n",
        "\n",
        "\n"
      ],
      "metadata": {
        "id": "I0miM9y64AX_"
      }
    },
    {
      "cell_type": "code",
      "source": [],
      "metadata": {
        "id": "0FlZbuLNOoql"
      },
      "execution_count": 97,
      "outputs": []
    },
    {
      "cell_type": "markdown",
      "source": [
        "\n",
        "\n",
        "---\n",
        "**Exercício 7:** Escreva uma função chamada `xadrez` onde a saída seja uma matriz $n \\times n$ com a seguinte forma:\n",
        "\n",
        "$A_{n,n} = \\begin{pmatrix}\n",
        "1 & 0 & 1 &\\cdots & 0 & 1\\\\\n",
        "0 & 1 & 0 &\\cdots & 1 & 0\\\\\n",
        "\\vdots  & \\vdots  & \\vdots &\\ddots & \\vdots &\\vdots \\\\\n",
        "0 & 1 & 0 &\\cdots & 1 & 0\\\\\n",
        "1 & 0 & 1 &\\cdots & 0 & 1\\\\\n",
        "\\end{pmatrix}$\n",
        "\n",
        "\n",
        "---\n",
        "\n",
        "\n"
      ],
      "metadata": {
        "id": "oPnhDJsQbkwU"
      }
    },
    {
      "cell_type": "code",
      "source": [],
      "metadata": {
        "id": "s2fsjk64bkwc"
      },
      "execution_count": null,
      "outputs": []
    },
    {
      "cell_type": "markdown",
      "source": [
        "\n",
        "\n",
        "---\n",
        "**Exercício 8:** Implemente uma função que calcule a área e o volume de um cilindro dado o seu raio `r` e altura `h`.\n",
        "\n",
        "---\n",
        "\n",
        "\n"
      ],
      "metadata": {
        "id": "gwXeouInekqf"
      }
    },
    {
      "cell_type": "code",
      "source": [],
      "metadata": {
        "id": "Tyxfq9_Fekqy"
      },
      "execution_count": null,
      "outputs": []
    }
  ]
}