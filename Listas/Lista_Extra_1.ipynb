{
  "nbformat": 4,
  "nbformat_minor": 0,
  "metadata": {
    "colab": {
      "provenance": [],
      "authorship_tag": "ABX9TyOptJVSkzhgoEy8xM0egbgr",
      "include_colab_link": true
    },
    "kernelspec": {
      "name": "python3",
      "display_name": "Python 3"
    },
    "language_info": {
      "name": "python"
    }
  },
  "cells": [
    {
      "cell_type": "markdown",
      "metadata": {
        "id": "view-in-github",
        "colab_type": "text"
      },
      "source": [
        "<a href=\"https://colab.research.google.com/github/PedroConst/EQE-358-Metodos-Numericos/blob/main/Listas/Lista_Extra_1.ipynb\" target=\"_parent\"><img src=\"https://colab.research.google.com/assets/colab-badge.svg\" alt=\"Open In Colab\"/></a>"
      ]
    },
    {
      "cell_type": "markdown",
      "source": [
        "# Lista 01: Exercícios Programação\n",
        "\n",
        "Os exercícios abaixo são para que você pratique a escrita de expressões matemáticas, a definição de variáveis e a definição de funções em Python.\n"
      ],
      "metadata": {
        "id": "FNPuO7nvbUcp"
      }
    },
    {
      "cell_type": "markdown",
      "source": [
        "\n",
        "\n",
        "---\n",
        "**Exercício 1:** Calcule a área do triângulo de base 5 e altura 7.\n",
        "\n",
        "\n",
        "---\n",
        "\n",
        "$A= (b \\times h)/2$\n",
        "\n"
      ],
      "metadata": {
        "id": "locrj7GHctDP"
      }
    },
    {
      "cell_type": "code",
      "source": [],
      "metadata": {
        "id": "pBtoh1rQcZxH"
      },
      "execution_count": null,
      "outputs": []
    },
    {
      "cell_type": "markdown",
      "source": [
        "---\n",
        "**Exercício 2:** Calcule a área superficial e o volume de um cilindro com raio $R=4$ e altura $h = 10$.\n",
        "\n",
        "\n",
        "---\n",
        "$A = 2\\pi R(h + R)$ <br>\n",
        "$V = \\pi R^2 h$"
      ],
      "metadata": {
        "id": "ZCytmsz-dQZY"
      }
    },
    {
      "cell_type": "code",
      "source": [],
      "metadata": {
        "id": "OczJuY-hfPrM"
      },
      "execution_count": null,
      "outputs": []
    },
    {
      "cell_type": "code",
      "source": [],
      "metadata": {
        "id": "1NaybruWfX_l"
      },
      "execution_count": null,
      "outputs": []
    },
    {
      "cell_type": "markdown",
      "source": [
        "---\n",
        "**Exercício 3:** Calcule o valor de $7!$\n",
        "\n",
        "\n",
        "---"
      ],
      "metadata": {
        "id": "T6_9r_LVfowv"
      }
    },
    {
      "cell_type": "code",
      "source": [],
      "metadata": {
        "id": "gSkns0A-f8KA"
      },
      "execution_count": null,
      "outputs": []
    },
    {
      "cell_type": "markdown",
      "source": [
        "---\n",
        "**Exercício 4:** Calcule o valor de $\\cosh (x)$ para $x=2$, usando a definição com exponenciais e usando a função `cosh` do módulo `math`.\n",
        "\n",
        "\n",
        "---\n",
        "\n",
        "$\\cosh(x)=(e^{x}+e^{-x})/2$"
      ],
      "metadata": {
        "id": "WS6JHKzmf_ZH"
      }
    },
    {
      "cell_type": "code",
      "source": [],
      "metadata": {
        "id": "CAeoq0uMgA-v"
      },
      "execution_count": null,
      "outputs": []
    },
    {
      "cell_type": "code",
      "source": [],
      "metadata": {
        "id": "qDjrrI3IiFvz"
      },
      "execution_count": null,
      "outputs": []
    },
    {
      "cell_type": "markdown",
      "source": [
        "---\n",
        "**Exercício 5:** Verifique que $\\sin^2(x) + \\cos^2(x)=1$ para os valores de $x=\\pi, \\frac{\\pi}{2}, \\frac{\\pi}{4}, \\frac{\\pi}{6}$\n",
        "\n",
        "\n",
        "---"
      ],
      "metadata": {
        "id": "sI7BYPcmiIvO"
      }
    },
    {
      "cell_type": "code",
      "source": [],
      "metadata": {
        "id": "2AatBgv0i2cd"
      },
      "execution_count": null,
      "outputs": []
    },
    {
      "cell_type": "markdown",
      "source": [
        "---\n",
        "**Exercício 6:** Calcule o valor de $\\cos 36°$\n",
        "\n",
        "\n",
        "---\n",
        "\n"
      ],
      "metadata": {
        "id": "lMPUG_S-jJ2s"
      }
    },
    {
      "cell_type": "code",
      "source": [],
      "metadata": {
        "id": "MjJGYUt2jtWs"
      },
      "execution_count": null,
      "outputs": []
    },
    {
      "cell_type": "markdown",
      "source": [
        "\n",
        "\n",
        "---\n",
        "**Exercício 7:** Seja $x=5$ e $y=8$. Escreva uma linha de código que realize cada uma das operações a seguir:\n",
        "\n",
        "*   $u=2x+3y$\n",
        "*   $v=5xy$\n",
        "*   $w=7x/4y$\n",
        "*   $z=\\sin(x)$\n",
        "*   $r=8\\cos(y)$\n",
        "*   $s=5\\sin^2(xy)$\n",
        "*   $p=9x^y$\n",
        "\n",
        "---\n",
        "\n",
        "\n"
      ],
      "metadata": {
        "id": "DTn6CnlU3U6W"
      }
    },
    {
      "cell_type": "code",
      "source": [],
      "metadata": {
        "id": "uxqn6uvy8co-"
      },
      "execution_count": null,
      "outputs": []
    },
    {
      "cell_type": "markdown",
      "source": [
        "\n",
        "\n",
        "---\n",
        "**Exercício 8:** Calcule as mesmas operações do exercício anterior (elemento a elemento) para os vetores $x=[1,3,5,7,9,11]$ e $y=[2,4,6,8,10,12]$ .\n",
        "\n",
        "\n",
        "---\n",
        "\n",
        "\n"
      ],
      "metadata": {
        "id": "pyTEqAsc3_bX"
      }
    },
    {
      "cell_type": "code",
      "source": [],
      "metadata": {
        "id": "-FzJM1ZA-uAL"
      },
      "execution_count": null,
      "outputs": []
    },
    {
      "cell_type": "markdown",
      "source": [
        "\n",
        "\n",
        "---\n",
        "**Exercício 9:** Mostre todas as variáveis armazenadas no Jupyter Notebook após os exercícios anteriores. Em seguida, limpe todas as variáveis.\n",
        "\n",
        "\n",
        "---\n",
        "\n",
        "\n"
      ],
      "metadata": {
        "id": "kEDqMNAI3_yP"
      }
    },
    {
      "cell_type": "code",
      "source": [],
      "metadata": {
        "id": "9pf6XA9w3_yQ"
      },
      "execution_count": null,
      "outputs": []
    },
    {
      "cell_type": "markdown",
      "source": [
        "\n",
        "\n",
        "---\n",
        "**Exercício 10:** Gere um array de tamanho $50$ com pontos igualmente espaçados entre $-5$ e $5$.\n",
        "\n",
        "\n",
        "---\n",
        "\n",
        "\n"
      ],
      "metadata": {
        "id": "Uk4TdX1R3__M"
      }
    },
    {
      "cell_type": "code",
      "source": [],
      "metadata": {
        "id": "danO0LIZ3__N"
      },
      "execution_count": null,
      "outputs": []
    },
    {
      "cell_type": "markdown",
      "source": [
        "\n",
        "\n",
        "---\n",
        "**Exercício 11:** Crie uma matriz de zeros $4 \\times 4$ e modifique os elementos diagonais para transformar em uma matriz identidade.\n",
        "\n",
        "\n",
        "---\n",
        "\n",
        "\n"
      ],
      "metadata": {
        "id": "Dr-_ZtI84AMn"
      }
    },
    {
      "cell_type": "code",
      "source": [],
      "metadata": {
        "id": "6PRm4jay4AMn"
      },
      "execution_count": null,
      "outputs": []
    },
    {
      "cell_type": "markdown",
      "source": [
        "\n",
        "\n",
        "---\n",
        "**Exercício 12:** Implemente uma função que receba a temperatura em Celsius como entrada e calcule a temperatura em Farenheit como saída. Imprima o resultado na tela como:\n",
        "```python\n",
        "A temperatura X graus Celsius equivale a Y graus Farenheit.\n",
        "```\n",
        "\n",
        "---\n",
        "\n",
        "\n"
      ],
      "metadata": {
        "id": "I0miM9y64AX_"
      }
    },
    {
      "cell_type": "code",
      "source": [],
      "metadata": {
        "id": "0FlZbuLNOoql"
      },
      "execution_count": null,
      "outputs": []
    },
    {
      "cell_type": "markdown",
      "source": [
        "\n",
        "\n",
        "---\n",
        "**Exercício 13:** Escreva uma função chamada `xadrez` onde a saída seja uma matriz $n \\times n$ com a seguinte forma:\n",
        "\n",
        "$A_{n,n} = \\begin{pmatrix}\n",
        "1 & 0 & 1 &\\cdots & 0 & 1\\\\\n",
        "0 & 1 & 0 &\\cdots & 1 & 0\\\\\n",
        "\\vdots  & \\vdots  & \\vdots &\\ddots & \\vdots &\\vdots \\\\\n",
        "0 & 1 & 0 &\\cdots & 1 & 0\\\\\n",
        "1 & 0 & 1 &\\cdots & 0 & 1\\\\\n",
        "\\end{pmatrix}$\n",
        "\n",
        "\n",
        "---\n",
        "\n",
        "\n"
      ],
      "metadata": {
        "id": "oPnhDJsQbkwU"
      }
    },
    {
      "cell_type": "code",
      "source": [],
      "metadata": {
        "id": "s2fsjk64bkwc"
      },
      "execution_count": null,
      "outputs": []
    },
    {
      "cell_type": "markdown",
      "source": [
        "\n",
        "\n",
        "---\n",
        "**Exercício 14:** Implemente uma função que calcule a área e o volume de um cilindro dado o seu raio `r` e altura `h`.\n",
        "\n",
        "---\n",
        "\n",
        "\n"
      ],
      "metadata": {
        "id": "gwXeouInekqf"
      }
    },
    {
      "cell_type": "code",
      "source": [],
      "metadata": {
        "id": "Tyxfq9_Fekqy"
      },
      "execution_count": null,
      "outputs": []
    }
  ]
}