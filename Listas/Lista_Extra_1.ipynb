{
  "nbformat": 4,
  "nbformat_minor": 0,
  "metadata": {
    "colab": {
      "provenance": [],
      "authorship_tag": "ABX9TyOiGNS9sVZPJKYXdKx3CmF8",
      "include_colab_link": true
    },
    "kernelspec": {
      "name": "python3",
      "display_name": "Python 3"
    },
    "language_info": {
      "name": "python"
    }
  },
  "cells": [
    {
      "cell_type": "markdown",
      "metadata": {
        "id": "view-in-github",
        "colab_type": "text"
      },
      "source": [
        "<a href=\"https://colab.research.google.com/github/PedroConst/EQE-358-Metodos-Numericos/blob/main/Listas/Lista_Extra_1.ipynb\" target=\"_parent\"><img src=\"https://colab.research.google.com/assets/colab-badge.svg\" alt=\"Open In Colab\"/></a>"
      ]
    },
    {
      "cell_type": "markdown",
      "source": [
        "# Lista 01: Exercícios Extras (Opcional)\n",
        "\n",
        "Os exercícios abaixo são sugeridos para que você pratique a escrita de expressões matemáticas em Python. Essa lista lista **não contabilizará** para a nota final do aluno na disciplina. Porém, a lista é recomendada aos que estão dando os primeiros passos na jornada da programação.\n"
      ],
      "metadata": {
        "id": "FNPuO7nvbUcp"
      }
    },
    {
      "cell_type": "markdown",
      "source": [
        "\n",
        "\n",
        "---\n",
        "**Exercício 1:** Calcule a área do triângulo de base 5 e altura 7.\n",
        "\n",
        "\n",
        "---\n",
        "\n",
        "$A= (b \\times h)/2$\n",
        "\n"
      ],
      "metadata": {
        "id": "locrj7GHctDP"
      }
    },
    {
      "cell_type": "code",
      "source": [],
      "metadata": {
        "id": "pBtoh1rQcZxH"
      },
      "execution_count": null,
      "outputs": []
    },
    {
      "cell_type": "markdown",
      "source": [
        "---\n",
        "**Exercício 2:** Calcule a área superficial e o volume de um cilindro com raio $R=4$ e altura $h = 10$.\n",
        "\n",
        "\n",
        "---\n",
        "$A = 2\\pi R(h + R)$ <br>\n",
        "$V = \\pi R^2 h$"
      ],
      "metadata": {
        "id": "ZCytmsz-dQZY"
      }
    },
    {
      "cell_type": "code",
      "source": [],
      "metadata": {
        "id": "OczJuY-hfPrM"
      },
      "execution_count": null,
      "outputs": []
    },
    {
      "cell_type": "code",
      "source": [],
      "metadata": {
        "id": "1NaybruWfX_l"
      },
      "execution_count": null,
      "outputs": []
    },
    {
      "cell_type": "markdown",
      "source": [
        "---\n",
        "**Exercício 3:** Calcule o valor de $7!$\n",
        "\n",
        "\n",
        "---"
      ],
      "metadata": {
        "id": "T6_9r_LVfowv"
      }
    },
    {
      "cell_type": "code",
      "source": [],
      "metadata": {
        "id": "gSkns0A-f8KA"
      },
      "execution_count": null,
      "outputs": []
    },
    {
      "cell_type": "markdown",
      "source": [
        "---\n",
        "**Exercício 4:** Calcule o valor de $\\cosh (x)$ para $x=2$, usando a definição com exponenciais e usando a função `cosh` do módulo `math`.\n",
        "\n",
        "\n",
        "---\n",
        "\n",
        "$\\cosh(x)=(e^{x}+e^{-x})/2$"
      ],
      "metadata": {
        "id": "WS6JHKzmf_ZH"
      }
    },
    {
      "cell_type": "code",
      "source": [],
      "metadata": {
        "id": "CAeoq0uMgA-v"
      },
      "execution_count": null,
      "outputs": []
    },
    {
      "cell_type": "code",
      "source": [],
      "metadata": {
        "id": "qDjrrI3IiFvz"
      },
      "execution_count": null,
      "outputs": []
    },
    {
      "cell_type": "markdown",
      "source": [
        "---\n",
        "**Exercício 5:** Verifique que $\\sin^2(x) + \\cos^2(x)=1$ para os valores de $x=\\pi, \\frac{\\pi}{2}, \\frac{\\pi}{4}, \\frac{\\pi}{6}$\n",
        "\n",
        "\n",
        "---"
      ],
      "metadata": {
        "id": "sI7BYPcmiIvO"
      }
    },
    {
      "cell_type": "code",
      "source": [],
      "metadata": {
        "id": "2AatBgv0i2cd"
      },
      "execution_count": null,
      "outputs": []
    },
    {
      "cell_type": "markdown",
      "source": [
        "---\n",
        "**Exercício 6:** Calcule o valor de $\\cos 36°$\n",
        "\n",
        "\n",
        "---\n",
        "\n"
      ],
      "metadata": {
        "id": "lMPUG_S-jJ2s"
      }
    },
    {
      "cell_type": "code",
      "source": [],
      "metadata": {
        "id": "MjJGYUt2jtWs"
      },
      "execution_count": null,
      "outputs": []
    }
  ]
}