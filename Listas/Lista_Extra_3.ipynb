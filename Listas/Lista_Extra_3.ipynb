{
  "nbformat": 4,
  "nbformat_minor": 0,
  "metadata": {
    "colab": {
      "provenance": [],
      "authorship_tag": "ABX9TyPohPAqxJiUebvMZZ7mTDsS",
      "include_colab_link": true
    },
    "kernelspec": {
      "name": "python3",
      "display_name": "Python 3"
    },
    "language_info": {
      "name": "python"
    }
  },
  "cells": [
    {
      "cell_type": "markdown",
      "metadata": {
        "id": "view-in-github",
        "colab_type": "text"
      },
      "source": [
        "<a href=\"https://colab.research.google.com/github/PedroConst/EQE-358-Metodos-Numericos/blob/main/Listas/Lista_Extra_3.ipynb\" target=\"_parent\"><img src=\"https://colab.research.google.com/assets/colab-badge.svg\" alt=\"Open In Colab\"/></a>"
      ]
    },
    {
      "cell_type": "markdown",
      "source": [
        "# Lista 03: Exercícios Extras (Opcional)\n",
        "\n",
        "Os exercícios abaixo são sugeridos para que você pratique a utilização de `If-Else`, loops de iteração e visualização em Python. Essa lista **não contabilizará** para a nota final do aluno na disciplina. Porém, a lista é recomendada aos que estão dando os primeiros passos na jornada da programação."
      ],
      "metadata": {
        "id": "x_o2wziADdI6"
      }
    },
    {
      "cell_type": "markdown",
      "source": [
        "\n",
        "\n",
        "---\n",
        "**Exercício 1:** Uma equação quadrática do tipo $f(x) = ax^2 + bx +c$ pode ter duas raízes reais ($b^2>4ac$), duas raízes imaginárias ($b^2<4ac$) ou apenas uma raiz. Escreva uma função `meu_bhaskara(a,b,c)` que devolve o número de raízes (`n_raizes`) e o valor das raízes (`r`). A variável `r` deve ser um array e a variável `n_raizes` admite valores $2$, $1$, $-2$ para $2$ raízes reais, $1$ raiz real e $2$ raízes complexas, respectivamente.\n",
        "\n",
        "---\n",
        "\n",
        "\n"
      ],
      "metadata": {
        "id": "pyTEqAsc3_bX"
      }
    },
    {
      "cell_type": "code",
      "source": [],
      "metadata": {
        "id": "-FzJM1ZA-uAL"
      },
      "execution_count": null,
      "outputs": []
    },
    {
      "cell_type": "markdown",
      "source": [
        "\n",
        "\n",
        "---\n",
        "**Exercício 2:** Seja $A$ uma matriz $m\\times p$ e $B$ uma matriz $p\\times n$. O produto matricial, $M = A\\times B$, é definido como: $$M_{i,j} = \\sum_{k=1}^p A_{i,k} B_{k,j} $$\n",
        "Escreva uma função `matrix_mult(A,B)` que utilize `for-loops` para calcular a matriz $M$. Você vai precisar de até $3$ loops aninhados. Não utilize a função `np.dot`\n",
        "\n",
        "---\n",
        "\n",
        "\n",
        "\n",
        "\n"
      ],
      "metadata": {
        "id": "PvwJcaA4EAiJ"
      }
    },
    {
      "cell_type": "code",
      "source": [],
      "metadata": {
        "id": "rBwL_MAaEAiJ"
      },
      "execution_count": null,
      "outputs": []
    },
    {
      "cell_type": "markdown",
      "source": [
        "\n",
        "\n",
        "---\n",
        "**Exercício 3:** O juros anual $i$ sobre um capital inicial $P_0$ é um pagamento por você permitir que o banco use o seu dinheiro. Os juros compostos são acumulados de acordo com a seguinte fórmula $P_n = (1+i)P_{n-1}$, onde $n$ é o número de anos. Escreva uma função `minha_caixinha(P0, i, meta)` onde a saída é o número de anos que vai levar para $P_0$ alcançar o valor da meta.\n",
        "\n",
        "---\n",
        "\n",
        "\n"
      ],
      "metadata": {
        "id": "DTdNFKbGEBhY"
      }
    },
    {
      "cell_type": "code",
      "source": [],
      "metadata": {
        "id": "Y-1KIRVbEBhZ"
      },
      "execution_count": null,
      "outputs": []
    },
    {
      "cell_type": "markdown",
      "source": [
        "\n",
        "\n",
        "---\n",
        "**Exercício 4:** Escreva uma função `poli_plot(n,x)` que faça o gráfico de polinômios $p_k(x)=x^k$ para valores de $k=1,2,3,…, n$ para um array de valores $x$.\n",
        "\n",
        "---\n",
        "\n",
        "\n"
      ],
      "metadata": {
        "id": "F7Nn__ibEBvD"
      }
    },
    {
      "cell_type": "code",
      "source": [],
      "metadata": {
        "id": "W-gjC4ilEBvE"
      },
      "execution_count": null,
      "outputs": []
    },
    {
      "cell_type": "markdown",
      "source": [
        "\n",
        "\n",
        "---\n",
        "**Exercício 5:** Considere a seguinte função:\n",
        "$$ y(x) = \\sqrt{\\frac{100(1-0.01x^2)^2+0.02x^2}{(1-x^2)^2+0.1x^2}}$$\n",
        "Crie uma figura com $4$ subplots de $y(x)$ no intervalo $0\\leq x \\leq 100$, usando as funções `plot`, `semilogx`, `semilogy` e `loglog`. Não se esqueça de colocar nomes nos eixos, título no gráfico e exibir as linhas de grid. Use o número de pontos necessário para tornar as curvas suaves.\n",
        "\n",
        "---\n",
        "\n",
        "\n"
      ],
      "metadata": {
        "id": "Gkhhiy-eEB6A"
      }
    },
    {
      "cell_type": "code",
      "source": [],
      "metadata": {
        "id": "gVNPzAaoEB6A"
      },
      "execution_count": null,
      "outputs": []
    },
    {
      "cell_type": "markdown",
      "source": [
        "\n",
        "\n",
        "---\n",
        "**Exercício 6:** Considere a função a seguir no domínio $-4 \\leq x \\leq 4$ e $-3 \\leq y \\leq 3$:\n",
        "\n",
        "$$ z(x,y) = \\frac{xy(x^2-y^2)}{x^2+y^2}$$\n",
        "\n",
        "Crie uma figura com $2$ subplots onde o primeiro seja $z(x,y)$ com a função `plot_surface` e o segundo com a função `plot_wireframe`. Não esqueça dos nomes nos eixos e título.\n",
        "\n",
        "---\n",
        "\n",
        "\n"
      ],
      "metadata": {
        "id": "r_PCESnqECEw"
      }
    },
    {
      "cell_type": "code",
      "source": [],
      "metadata": {
        "id": "2eGBp2pEECEx"
      },
      "execution_count": null,
      "outputs": []
    }
  ]
}