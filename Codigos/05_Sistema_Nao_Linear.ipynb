{
  "nbformat": 4,
  "nbformat_minor": 0,
  "metadata": {
    "colab": {
      "provenance": [],
      "authorship_tag": "ABX9TyMD8wBPfZFEVkf1SH9UOTA3",
      "include_colab_link": true
    },
    "kernelspec": {
      "name": "python3",
      "display_name": "Python 3"
    },
    "language_info": {
      "name": "python"
    }
  },
  "cells": [
    {
      "cell_type": "markdown",
      "metadata": {
        "id": "view-in-github",
        "colab_type": "text"
      },
      "source": [
        "<a href=\"https://colab.research.google.com/github/PedroConst/EQE-358-Metodos-Numericos/blob/main/Codigos/Sistema_Nao_Linear.ipynb\" target=\"_parent\"><img src=\"https://colab.research.google.com/assets/colab-badge.svg\" alt=\"Open In Colab\"/></a>"
      ]
    },
    {
      "cell_type": "markdown",
      "source": [
        "# Método de Picard"
      ],
      "metadata": {
        "id": "oBmexgVeD8M7"
      }
    },
    {
      "cell_type": "code",
      "source": [
        "import numpy as np\n",
        "\n",
        "def getR(x):\n",
        "\n",
        "    # Função que calcula o vetor de Resíduos\n",
        "    n = len(x)\n",
        "    Res = np.zeros(n)\n",
        "\n",
        "    Res[0]= 0   # Definir a primeira equação do sistema\n",
        "    Res[1]= 0   # Modificar os elementos de Res. Inserir seu sistema aqui.\n",
        "    # ... (continuar até) ...\n",
        "    Res[n-1]= 0 # Definir a última equação do sistema.\n",
        "\n",
        "    return Res\n",
        "\n",
        "def nonlinear_picard_system(x, tol):\n",
        "    # x = chute inicial para x\n",
        "    # tol = critério de convergência\n",
        "    # requer a função R = getR(x), que calcula o vetor de Resíduos\n",
        "\n",
        "    R = getR(x)\n",
        "    k = 0       # Contador de Iterações\n",
        "    kmax = 100  # Número máximo de iterações permitidas\n",
        "\n",
        "    while np.linalg.norm(R) > tol:\n",
        "        x = x + R  # Método de Picard\n",
        "        k = k + 1  # atualiza o contador\n",
        "        R = getR(x)  # R para o loop while e contador\n",
        "\n",
        "        if k > kmax:\n",
        "            print('Não convergiu.')\n",
        "            break\n",
        "\n",
        "    # Identificar se o método divergiu\n",
        "    if k > kmax or np.any(np.isinf(x)):\n",
        "        flag = 0\n",
        "    else:\n",
        "        flag = 1\n",
        "\n",
        "    return x, flag\n"
      ],
      "metadata": {
        "id": "LGzv20HnD_N6"
      },
      "execution_count": null,
      "outputs": []
    },
    {
      "cell_type": "markdown",
      "source": [
        "# Método de Newton Raphson"
      ],
      "metadata": {
        "id": "QYO7fTnwDhrc"
      }
    },
    {
      "cell_type": "code",
      "execution_count": null,
      "metadata": {
        "id": "13vE1Qu-DcBk"
      },
      "outputs": [],
      "source": [
        "import numpy as np\n",
        "\n",
        "def getR(x):\n",
        "\n",
        "    # Função que calcula o vetor de Resíduos\n",
        "    n = len(x)\n",
        "    Res = np.zeros(n)\n",
        "\n",
        "    Res[0]= 0   # Definir a primeira equação do sistema\n",
        "    Res[1]= 0   # Modificar os elementos de Res. Inserir seu sistema aqui.\n",
        "    # ... (continuar até) ...\n",
        "    Res[n-1]= 0 # Definir a última equação do sistema.\n",
        "\n",
        "    return Res\n",
        "\n",
        "def getJ(x):\n",
        "\n",
        "    # Função que calcula a Matriz Jacobiana\n",
        "    n = len(x)\n",
        "    Jac = np.zeros((n,n))\n",
        "\n",
        "    Jac[0,0]= 0     # Definir o primeiro elemento do Jacobiano\n",
        "    Jac[0,1]= 0     # Aramazenar cada elemento do Jacobiano individualmente\n",
        "    # ... (continuar até) ...\n",
        "    Jac[n-1,n-1]= 0 # Definir o último elemento do Jacobiano\n",
        "\n",
        "    return Jac\n",
        "\n",
        "def nonlinear_newton_raphson(x, tol):\n",
        "    # x = suposição inicial para x\n",
        "    # tol = critério de convergência\n",
        "    # Requer a função R = getR(x), que calcula o vetor de Resíduos\n",
        "    # Requer a função J = getJ(x), que calcula a matriz Jacobiana\n",
        "\n",
        "    R = getR(x)\n",
        "    k = 0       # Contador de iterações\n",
        "    kmax = 100  # Número máximo de iterações permitidas\n",
        "\n",
        "    while np.linalg.norm(R) > tol:\n",
        "        J = getJ(x)                     # Calcular a Jacobiana\n",
        "        del_x = -np.linalg.solve(J, R)  # Resolver o Sistema Linear\n",
        "        x = x + del_x                   # Atualizar x, Newton Raphson\n",
        "\n",
        "        k = k + 1  # atualizar contador\n",
        "        R = getR(x)  # R para o loop while e contador\n",
        "\n",
        "        if k > kmax:\n",
        "            print('Não convergiu.')\n",
        "            break\n",
        "\n",
        "    return x\n"
      ]
    }
  ]
}
