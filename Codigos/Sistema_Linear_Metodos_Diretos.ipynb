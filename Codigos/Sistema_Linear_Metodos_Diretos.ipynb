{
  "nbformat": 4,
  "nbformat_minor": 0,
  "metadata": {
    "colab": {
      "provenance": [],
      "authorship_tag": "ABX9TyOuC2wJBINFXUBaZjwkgJxd",
      "include_colab_link": true
    },
    "kernelspec": {
      "name": "python3",
      "display_name": "Python 3"
    },
    "language_info": {
      "name": "python"
    }
  },
  "cells": [
    {
      "cell_type": "markdown",
      "metadata": {
        "id": "view-in-github",
        "colab_type": "text"
      },
      "source": [
        "<a href=\"https://colab.research.google.com/github/PedroConst/EQE-358-Metodos-Numericos/blob/main/Codigos/Sistema_Linear_Metodos_Diretos.ipynb\" target=\"_parent\"><img src=\"https://colab.research.google.com/assets/colab-badge.svg\" alt=\"Open In Colab\"/></a>"
      ]
    },
    {
      "cell_type": "markdown",
      "source": [
        "# Eliminação Gaussiana\n"
      ],
      "metadata": {
        "id": "b0z7r7Hes_VA"
      }
    },
    {
      "cell_type": "markdown",
      "source": [
        "A função `linear_ngaussel(A,b)` realiza a eliminação gaussiana simples (sem pivotamento) para resolver o sistema linear $Ax=b$."
      ],
      "metadata": {
        "id": "-geTjPMQwtb8"
      }
    },
    {
      "cell_type": "code",
      "source": [
        "import numpy as np\n",
        "\n",
        "def linear_ngaussel(A, b):\n",
        "    n = len(b)      # Determinar o tamanho do vetor b\n",
        "    x = np.zeros(n) # Criar um vetor de zeros (n x 1)\n",
        "\n",
        "    # Realiza a eliminação direta (forward elimination)\n",
        "    for k in range(n-1):       # Fazer varreduras k = 0,1,2,..., n-2\n",
        "        for i in range(k+1, n): # Correr as Linhas abaixo da diagonal: i = k+1, k+2, ..., n-1\n",
        "            m = A[i, k] / A[k, k]   # Calcular a constante de multiplicação. A[k,k] é o elemento da diagonal!\n",
        "            for j in range(k+1, n): # Correr as Colunas acima da diagonal: j = k+1, k+2,..., n-1\n",
        "                A[i, j] = A[i, j] - m * A[k, j]    # Calcular os novos coeficientes da linha i\n",
        "            b[i] = b[i] - m * b[k]                 # Calcular o novo coeficiente do vetor b na linha i\n",
        "\n",
        "    # Realiza a substituição reversa (back substitution)\n",
        "    x[n-1] = b[n-1] / A[n-1, n-1]   # Calcular a última variável, linha i = n-1\n",
        "    for i in range(n-2, -1, -1):    # Correr as linhas de baixo para cima: i=n-2, n-3, ..., 0\n",
        "        S = b[i]                    # Inicializar o somatório\n",
        "        for j in range(i+1, n):     # Correr as colunas acima da diagonal: j=i+1, i+2, ..., n-1\n",
        "            S = S - A[i, j] * x[j]  # Atualizar o somatório\n",
        "        x[i] = S / A[i, i]          # Calcular o valor da variávei x[i]\n",
        "\n",
        "    return x\n"
      ],
      "metadata": {
        "id": "PbtRH2VKwej-"
      },
      "execution_count": null,
      "outputs": []
    },
    {
      "cell_type": "markdown",
      "source": [
        "A função `linear_ngaussel_banded` implementa o método de eliminação gaussiana para resolver um sistema linear de equações para uma matriz bandada. `p` é o número de subdiagonais na largura inferior da matriz A.\n",
        "`q` é o número de superdiagonais na largura superior da matriz A. Este código é especificamente projetado para resolver eficientemente sistemas lineares de equações para matrizes bandadas, onde a maioria das entradas é zero. Matrizes bandadas são comuns em várias aplicações científicas e de engenharia, onde certas restrições físicas levam a uma representação mais compacta das equações do sistema."
      ],
      "metadata": {
        "id": "8bYIz_9Rxgqh"
      }
    },
    {
      "cell_type": "code",
      "source": [
        "import numpy as np\n",
        "\n",
        "def linear_ngaussel_banded(A, b, p, q):\n",
        "    n = len(b)\n",
        "    x = np.zeros(n)\n",
        "\n",
        "    # Realiza a eliminação direta (forward elimination)\n",
        "    for k in range(n-1):\n",
        "        for i in range(k+1, min(k+q, n)):\n",
        "            m = A[i, k] / A[k, k]\n",
        "            for j in range(k+1, min(k+p, n)):\n",
        "                A[i, j] = A[i, j] - m * A[k, j]\n",
        "            b[i] = b[i] - m * b[k]\n",
        "\n",
        "    # Realiza a substituição reversa (back substitution)\n",
        "    x[n-1] = b[n-1] / A[n-1, n-1]\n",
        "    for i in range(n-2, -1, -1):\n",
        "        S = b[i]\n",
        "        for j in range(i+1, min(i+p, n)):\n",
        "            S = S - A[i, j] * x[j]\n",
        "        x[i] = S / A[i, i]\n",
        "\n",
        "    return x\n"
      ],
      "metadata": {
        "id": "Dj0iKur4xhDB"
      },
      "execution_count": null,
      "outputs": []
    },
    {
      "cell_type": "markdown",
      "source": [
        "Essa função `linear_gauss_pivot(A, b)` implementa a eliminação gaussiana com pivotação para resolver sistemas lineares de equações. A matriz A e o vetor coluna b devem ser passados como argumentos para a função. Certifique-se de que A seja uma matriz numpy e b seja um vetor numpy."
      ],
      "metadata": {
        "id": "3Vn1VAnOt6rd"
      }
    },
    {
      "cell_type": "code",
      "source": [
        "import numpy as np\n",
        "\n",
        "def linear_gauss_pivot(A, b):\n",
        "    n = len(b)\n",
        "    x = np.zeros(n)\n",
        "\n",
        "    for k in range(n - 1):\n",
        "        Amax = A[k, k]\n",
        "        swap_row = k\n",
        "\n",
        "        # Realiza o pivotamento, se necessário\n",
        "        for i in range(k + 1, n):\n",
        "            if A[i, k] > Amax:\n",
        "                Amax = A[i, k]\n",
        "                swap_row = i\n",
        "\n",
        "        if swap_row != k:\n",
        "            old_pivot = np.copy(A[k, :])\n",
        "            old_b = b[k]\n",
        "            A[k, :] = A[swap_row, :]\n",
        "            A[swap_row, :] = old_pivot\n",
        "            b[k] = b[swap_row]\n",
        "            b[swap_row] = old_b\n",
        "\n",
        "        # Realiza a eliminação direta (forward elimination)\n",
        "        for i in range(k + 1, n):\n",
        "            m = A[i, k] / A[k, k]\n",
        "            for j in range(k + 1, n):\n",
        "                A[i, j] = A[i, j] - m * A[k, j]\n",
        "            b[i] = b[i] - m * b[k]\n",
        "\n",
        "    # Realiza a substituição reversa (back substitution)\n",
        "    x[n - 1] = b[n - 1] / A[n - 1, n - 1]\n",
        "    for i in range(n - 2, -1, -1):\n",
        "        S = b[i]\n",
        "        for j in range(i + 1, n):\n",
        "            S = S - A[i, j] * x[j]\n",
        "        x[i] = S / A[i, i]\n",
        "\n",
        "    return x\n"
      ],
      "metadata": {
        "id": "OKvXgZuxteCf"
      },
      "execution_count": null,
      "outputs": []
    },
    {
      "cell_type": "markdown",
      "source": [
        "A função `linear_gauss_det(A)` recebe uma matriz A e calcula o determinante usando a eliminação gaussiana com pivotação parcial."
      ],
      "metadata": {
        "id": "My6-uQAXwO1u"
      }
    },
    {
      "cell_type": "code",
      "execution_count": null,
      "metadata": {
        "id": "zYAjlwqwr8lu"
      },
      "outputs": [],
      "source": [
        "import numpy as np\n",
        "\n",
        "def linear_gauss_det(A):\n",
        "    n = A.shape[0]\n",
        "    determinant = 1  # Inicializa a variável de determinante\n",
        "\n",
        "    for k in range(n - 1):\n",
        "        Amax = A[k, k]\n",
        "        swap_row = k\n",
        "\n",
        "        # Realiza o pivotamento, se necessário\n",
        "        for i in range(k + 1, n):\n",
        "            if A[i, k] > Amax:\n",
        "                Amax = A[i, k]\n",
        "                swap_row = i\n",
        "\n",
        "        if swap_row != k:\n",
        "            old_pivot = np.copy(A[k, :])\n",
        "            A[k, :] = A[swap_row, :]\n",
        "            A[swap_row, :] = old_pivot\n",
        "            sign_pivot = -1\n",
        "        else:\n",
        "            sign_pivot = 1\n",
        "\n",
        "        determinant = determinant * A[k, k] * sign_pivot\n",
        "\n",
        "        # Realiza a eliminação direta (forward elimination)\n",
        "        for i in range(k + 1, n):\n",
        "            m = A[i, k] / A[k, k]\n",
        "            for j in range(k + 1, n):\n",
        "                A[i, j] = A[i, j] - m * A[k, j]\n",
        "\n",
        "    determinant = determinant * A[n - 1, n - 1]\n",
        "    return determinant\n"
      ]
    },
    {
      "cell_type": "markdown",
      "source": [
        "# Decomposição LU\n",
        "Esta função `linear_LU(A)` realiza a decomposição LU de uma matriz A usando a eliminação gaussiana. Ela extrai a matriz L e a matriz U de uma matriz dada A, onde a matriz L é a parte triangular inferior de A com uns na diagonal e a matriz U é a parte triangular superior de A. Ela retorna as matrizes L e U como saída."
      ],
      "metadata": {
        "id": "YZX1-vtWuE1U"
      }
    },
    {
      "cell_type": "code",
      "source": [
        "import numpy as np\n",
        "\n",
        "def linear_LU(A):\n",
        "    n = A.shape[0]\n",
        "    U = np.zeros((n, n))\n",
        "    L = np.eye(n)  # coloca 1 na diagonal\n",
        "\n",
        "    for k in range(n - 1):\n",
        "        for i in range(k + 1, n):\n",
        "            m = A[i, k] / A[k, k]\n",
        "            A[i, k] = m  # armazena entrada para L\n",
        "            for j in range(k + 1, n):\n",
        "                A[i, j] = A[i, j] - m * A[k, j]\n",
        "\n",
        "    for i in range(n):\n",
        "        for j in range(i, n):\n",
        "            U[i, j] = A[i, j]\n",
        "\n",
        "    for i in range(1, n):\n",
        "        for j in range(i):\n",
        "            L[i, j] = A[i, j]\n",
        "\n",
        "    return L, U\n"
      ],
      "metadata": {
        "id": "8HuBiFkzuFWs"
      },
      "execution_count": null,
      "outputs": []
    },
    {
      "cell_type": "markdown",
      "source": [
        "Esta função `linear_LU_forward_back(L, U, b)` realiza a substituição direta (forward substitution) usando a matriz triangular inferior L e a substituição reversa (back substitution) usando a matriz triangular superior U. Ela retorna o vetor solução x para o sistema linear. Certifique-se de que as matrizes L e U e o vetor b sejam numpy arrays."
      ],
      "metadata": {
        "id": "kWZWudTQvSZQ"
      }
    },
    {
      "cell_type": "code",
      "source": [
        "import numpy as np\n",
        "\n",
        "def linear_LU_forward_back(L, U, b):\n",
        "    n = len(b)\n",
        "\n",
        "    # Realiza a substituição direta (forward substitution)\n",
        "    y = np.zeros(n)\n",
        "    y[0] = b[0]\n",
        "    for i in range(1, n):\n",
        "        y[i] = b[i]\n",
        "        for j in range(i):\n",
        "            y[i] = y[i] - L[i, j] * y[j]\n",
        "\n",
        "    # Realiza a substituição reversa (back substitution)\n",
        "    x = np.zeros(n)\n",
        "    x[n-1] = y[n-1] / U[n-1, n-1]\n",
        "    for i in range(n-2, -1, -1):\n",
        "        S = y[i]\n",
        "        for j in range(i+1, n):\n",
        "            S = S - U[i, j] * x[j]\n",
        "        x[i] = S / U[i, i]\n",
        "\n",
        "    return x\n"
      ],
      "metadata": {
        "id": "ibqFdcAfvSuY"
      },
      "execution_count": null,
      "outputs": []
    }
  ]
}