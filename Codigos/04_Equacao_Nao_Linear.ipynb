{
  "nbformat": 4,
  "nbformat_minor": 0,
  "metadata": {
    "colab": {
      "provenance": [],
      "authorship_tag": "ABX9TyORavuX2o4q+o3NuXuLS0e7",
      "include_colab_link": true
    },
    "kernelspec": {
      "name": "python3",
      "display_name": "Python 3"
    },
    "language_info": {
      "name": "python"
    }
  },
  "cells": [
    {
      "cell_type": "markdown",
      "metadata": {
        "id": "view-in-github",
        "colab_type": "text"
      },
      "source": [
        "<a href=\"https://colab.research.google.com/github/PedroConst/EQE-358-Metodos-Numericos/blob/main/Codigos/Equacao_Nao_Linear.ipynb\" target=\"_parent\"><img src=\"https://colab.research.google.com/assets/colab-badge.svg\" alt=\"Open In Colab\"/></a>"
      ]
    },
    {
      "cell_type": "markdown",
      "source": [
        "# Método da Bisseção"
      ],
      "metadata": {
        "id": "4jP6oZLonja_"
      }
    },
    {
      "cell_type": "code",
      "execution_count": null,
      "metadata": {
        "id": "WLqUOIXSnA5D"
      },
      "outputs": [],
      "source": [
        "def muda_dx(q, dx):\n",
        "    # q = valor de x\n",
        "    # dx = mudança nos limites\n",
        "    if func(q) * func(q + dx) > 0:\n",
        "        out = dx\n",
        "        return out\n",
        "    else:\n",
        "        out = muda_dx(q, dx / 2)\n",
        "        return out\n",
        "\n",
        "def naolinear_bisecao(a, b, dx, tol):\n",
        "    # a = limite esquerdo\n",
        "    # b = limite direito\n",
        "    # dx = mudança nos limites\n",
        "    # tol = critério de convergência\n",
        "    dx_esquerda = dx\n",
        "    dx_direita = -dx\n",
        "\n",
        "    if abs(func((a + b) / 2)) < tol:\n",
        "        out = (a + b) / 2\n",
        "        return out\n",
        "    else:\n",
        "        a = a + muda_dx(a, dx_esquerda)\n",
        "        b = b + muda_dx(b, dx_direita)\n",
        "        out = naolinear_bisecao(a, b, dx, tol)\n",
        "        return out\n",
        "\n"
      ]
    },
    {
      "cell_type": "markdown",
      "source": [
        "# Método de Picard"
      ],
      "metadata": {
        "id": "AjxYCisNpLWI"
      }
    },
    {
      "cell_type": "code",
      "source": [
        "def func(x):\n",
        "    out = 0     #Inserir função aqui\n",
        "    return out\n",
        "\n",
        "def nonlinear_picard(x, tol):\n",
        "    # x = chute inicial para x\n",
        "    # tol = critério de convergência\n",
        "\n",
        "    f = func(x) # requer a função f = func(x)\n",
        "    k = 0       # contador\n",
        "    kmax = 20   # número máximo de iterações permitidas\n",
        "\n",
        "    while abs(f) > tol:\n",
        "        x = x + f    # Método de Picard\n",
        "        k = k + 1    # atualiza o contador\n",
        "        f = func(x)  # f para o loop while e contador\n",
        "\n",
        "        if k > kmax:\n",
        "            print('Não convergiu.')\n",
        "            break\n",
        "\n",
        "    return x"
      ],
      "metadata": {
        "id": "yhpRDg9dpL0o"
      },
      "execution_count": null,
      "outputs": []
    },
    {
      "cell_type": "markdown",
      "source": [
        "# Método de Newton"
      ],
      "metadata": {
        "id": "dvjTcU2lqknd"
      }
    },
    {
      "cell_type": "code",
      "source": [
        "def func(x):\n",
        "    out = 0     #Inserir função aqui\n",
        "    return out\n",
        "\n",
        "def dfunc(x):\n",
        "    out = 0     #Inserir derivada da função aqui\n",
        "    return out\n",
        "\n",
        "def nonlinear_newton(x, tol):\n",
        "    # x = chute inicial para x\n",
        "    # tol = critério de convergência\n",
        "    # requer a função f = func(x) e df = dfunc(x)\n",
        "\n",
        "    f = func(x)\n",
        "    k = 0       # contador\n",
        "    kmax = 20   # número máximo de iterações permitidas\n",
        "\n",
        "    while abs(f) > tol:\n",
        "        df = dfunc(x)\n",
        "        x = x - f / df  # Método de Newton\n",
        "        k = k + 1       # atualiza o contador\n",
        "        f = func(x)     # f para o loop while e contador\n",
        "\n",
        "        if k > kmax:\n",
        "            print('Não convergiu.')\n",
        "            break\n",
        "\n",
        "    return x\n"
      ],
      "metadata": {
        "id": "AJYmzFccp5Ii"
      },
      "execution_count": null,
      "outputs": []
    }
  ]
}
