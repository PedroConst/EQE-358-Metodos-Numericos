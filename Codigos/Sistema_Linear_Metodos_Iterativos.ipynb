{
  "nbformat": 4,
  "nbformat_minor": 0,
  "metadata": {
    "colab": {
      "provenance": [],
      "authorship_tag": "ABX9TyP3eV7Ou//B2WcTI1ANSt+G",
      "include_colab_link": true
    },
    "kernelspec": {
      "name": "python3",
      "display_name": "Python 3"
    },
    "language_info": {
      "name": "python"
    }
  },
  "cells": [
    {
      "cell_type": "markdown",
      "metadata": {
        "id": "view-in-github",
        "colab_type": "text"
      },
      "source": [
        "<a href=\"https://colab.research.google.com/github/PedroConst/EQE-358-Metodos-Numericos/blob/main/Codigos/Sistema_Linear_Metodos_Iterativos.ipynb\" target=\"_parent\"><img src=\"https://colab.research.google.com/assets/colab-badge.svg\" alt=\"Open In Colab\"/></a>"
      ]
    },
    {
      "cell_type": "markdown",
      "source": [
        "# Método de Jacobi\n",
        "\n",
        "O método de Jacobi é um método iterativo usado para resolver sistemas lineares de equações. Ele atualiza as variáveis de forma iterativa e gradualmente se aproxima da solução real do sistema. O código é projetado para parar quando a convergência é alcançada ou quando o número máximo de iterações é atingido.\n",
        "\n",
        "A função `linear_jacobi` utiliza multiplicação matricial (`np.dot`) para atualizar os valores de `x`."
      ],
      "metadata": {
        "id": "H1LK5UQx1sb1"
      }
    },
    {
      "cell_type": "code",
      "source": [
        "import numpy as np\n",
        "\n",
        "def linear_jacobi(A, b, x):\n",
        "    # A = matriz de coeficientes n x n\n",
        "    # b = vetor coluna n x 1\n",
        "    # x = vetor coluna de suposições iniciais n x 1\n",
        "    n = len(b)\n",
        "    tol = 1e-8       # tolerância para convergência\n",
        "    count = 0\n",
        "    count_max = 1e6  # número máximo de iterações\n",
        "    err = np.linalg.norm(np.dot(A, x) - b)  # critério de convergência\n",
        "\n",
        "    while err > tol:\n",
        "        xold = x.copy()  # armazena os valores antigos de x\n",
        "\n",
        "        # Atualiza x usando o método iterativo de Jacobi\n",
        "        x[0] = b[0] / A[0, 0]\n",
        "        for i in range(1, n):\n",
        "            S = b[i]\n",
        "            for j in range(1, i):\n",
        "                S = S - A[i, j] * xold[j]\n",
        "            for j in range(i + 1, n):\n",
        "                S = S - A[i, j] * xold[j]\n",
        "            x[i] = S / A[i, i]\n",
        "\n",
        "        count += 1\n",
        "\n",
        "        # Verifica se o número máximo de iterações foi atingido\n",
        "        if count > count_max:\n",
        "            print(f'Não convergiu na iteração {count}.')\n",
        "            x = np.zeros(n)  # retorna vetor vazio em caso de falha\n",
        "            break\n",
        "\n",
        "        # Calcula o erro e exibe na tela\n",
        "        err = np.linalg.norm(np.dot(A, x) - b)\n",
        "        print(f'k = {count} \\t erro = {err:.4e}')\n",
        "\n",
        "    return x\n"
      ],
      "metadata": {
        "id": "8OB3GooV1kie"
      },
      "execution_count": null,
      "outputs": []
    },
    {
      "cell_type": "markdown",
      "source": [
        "# Método de Gauss-Seidel\n",
        "\n",
        "Este código implementa o método iterativo de Gauss-Seidel para resolver sistemas lineares e exibe o número da iteração e o erro associado após cada iteração. O operador @, disponível desde o Python 3.5, pode ser usado para multiplicação convencional de matrizes."
      ],
      "metadata": {
        "id": "27LhK29j3qcP"
      }
    },
    {
      "cell_type": "code",
      "source": [
        "import numpy as np\n",
        "\n",
        "def linear_gauss_seidel(A, b, x):\n",
        "    # A = matriz de coeficientes n x n\n",
        "    # b = vetor n x 1\n",
        "    # x = vetor n x 1 de chutes iniciais\n",
        "    n = len(b)\n",
        "    tol = 1e-8  # tolerância para convergência\n",
        "    count = 0\n",
        "    count_max = 1e6  # número máximo de iterações\n",
        "    err = np.linalg.norm(A @ x - b)  # critério de convergência\n",
        "\n",
        "    while err > tol:\n",
        "\n",
        "        # primeira entrada\n",
        "        i = 0\n",
        "        S = b[i]\n",
        "        for j in range(1, n):\n",
        "            S = S - A[i, j] * x[j]\n",
        "        x[0] = S / A[i, i]\n",
        "\n",
        "        # entradas interiores\n",
        "        for i in range(1, n - 1):\n",
        "            S = b[i]\n",
        "            for j in range(i):\n",
        "                S = S - A[i, j] * x[j]\n",
        "            for j in range(i + 1, n):\n",
        "                S = S - A[i, j] * x[j]\n",
        "            x[i] = S / A[i, i]\n",
        "\n",
        "        # última entrada\n",
        "        i = n - 1\n",
        "        S = b[i]\n",
        "        for j in range(n - 1):\n",
        "            S = S - A[i, j] * x[j]\n",
        "        x[n - 1] = S / A[i, i]\n",
        "\n",
        "        # atualiza contador e verifica se muitas iterações\n",
        "        count = count + 1\n",
        "        if count > count_max:\n",
        "            print(f'Não convergiu em k = {count}.')\n",
        "            x = np.zeros(n)  # valor nulo\n",
        "            break\n",
        "\n",
        "        # calcula erro e exibe na tela\n",
        "        err = np.linalg.norm(A @ x - b)\n",
        "        print(f'k = {count} \\t erro = {err:.4e}')\n",
        "\n",
        "    return x\n"
      ],
      "metadata": {
        "id": "UQDwbTux3s1H"
      },
      "execution_count": null,
      "outputs": []
    },
    {
      "cell_type": "markdown",
      "source": [
        "Outra possibilidade de implementação de Gauss-Seidel, um pouco mais simples."
      ],
      "metadata": {
        "id": "MB585XvXItYX"
      }
    },
    {
      "cell_type": "code",
      "source": [
        "import numpy\n",
        "import numpy.linalg as nl\n",
        "\n",
        "def gaussSeidel(A,b,x,maxIter = 100, tol = 1.0e-4):\n",
        "    # A = matriz de coeficientes n x n\n",
        "    # b = vetor n x 1\n",
        "    # x = vetor n x 1 de chutes iniciais\n",
        "\n",
        "    n = len(b)\n",
        "\n",
        "    # Fazer um loop até convergir ou chegar no máximo de iterações\n",
        "\n",
        "    for iter in range(maxIter):\n",
        "\n",
        "        # Calcular o erro residual\n",
        "        err = np.linalg.norm(A @ x - b)\n",
        "        if (err < tol):\n",
        "            print('Convergiu depois de ', iter, ' iterações')\n",
        "            return x\n",
        "\n",
        "        # Iniciar iteração Gauss-Seidel\n",
        "        for i in range(n):\n",
        "            sum=0.0\n",
        "            for j in range(n):\n",
        "                if(i != j):\n",
        "                    sum += A[i,j]*x[j]\n",
        "            x[i] = (b[i] - sum)/A[i,i]\n",
        "    print('Failed to converge after ', iter, ' iterations')\n",
        "    return x"
      ],
      "metadata": {
        "id": "qP1kDLhMHj7B"
      },
      "execution_count": null,
      "outputs": []
    },
    {
      "cell_type": "markdown",
      "source": [
        "# Método SOR (*Successive Over Relaxation*)\n",
        "\n",
        "Este código implementa o método SOR (Successive Over-Relaxation) para resolver sistemas lineares. Ele utiliza o parâmetro SOR (w) para melhorar a convergência. O código exibe o número da iteração e o erro associado após cada iteração."
      ],
      "metadata": {
        "id": "rh0a7xAG5LZL"
      }
    },
    {
      "cell_type": "code",
      "source": [
        "import numpy as np\n",
        "\n",
        "def linear_SOR(A, b, x, w):\n",
        "    # A = matriz de coeficientes n x n\n",
        "    # b = vetor n x 1\n",
        "    # x = vetor n x 1 de suposições iniciais\n",
        "    # w = parâmetro SOR\n",
        "    n = len(b)\n",
        "    tol = 1e-8  # tolerância para convergência\n",
        "    count = 0\n",
        "    count_max = 1e6  # número máximo de iterações\n",
        "    err = np.linalg.norm(A @ x - b)  # critério de convergência\n",
        "\n",
        "    while err > tol:\n",
        "        for i in range(n):\n",
        "            S = 0\n",
        "            for j in range(n):\n",
        "                S = S + A[i, j] * x[j]\n",
        "            x[i] = x[i] + w * (b[i] - S) / A[i, i]\n",
        "\n",
        "        err = np.linalg.norm(A @ x - b)\n",
        "\n",
        "        # atualiza contador e verifica se muitas iterações\n",
        "        count = count + 1\n",
        "        if count > count_max:\n",
        "            print(f'Não convergiu em k = {count}.')\n",
        "            x = np.zeros(n)  # valor nulo\n",
        "            break\n",
        "\n",
        "        # calcula erro e exibe na tela\n",
        "        err = np.linalg.norm(A @ x - b)\n",
        "        print(f'k = {count} \\t erro = {err:.4e}')\n",
        "\n",
        "    return x\n"
      ],
      "metadata": {
        "id": "ccHom4vl4UIW"
      },
      "execution_count": null,
      "outputs": []
    },
    {
      "cell_type": "code",
      "source": [],
      "metadata": {
        "id": "UnyvAFjM5rbS"
      },
      "execution_count": null,
      "outputs": []
    }
  ]
}